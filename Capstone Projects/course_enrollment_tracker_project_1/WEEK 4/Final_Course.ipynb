{
 "cells": [
  {
   "cell_type": "code",
   "execution_count": 0,
   "metadata": {
    "application/vnd.databricks.v1+cell": {
     "cellMetadata": {
      "byteLimit": 2048000,
      "rowLimit": 10000
     },
     "inputWidgets": {},
     "nuid": "bb0b650d-4ceb-45e3-bd54-b58e85aba31c",
     "showTitle": false,
     "tableResultSettingsMap": {},
     "title": ""
    }
   },
   "outputs": [],
   "source": [
    "from pyspark.sql import SparkSession\n",
    "spark = SparkSession.builder .appName(\"Course Analytics\").getOrCreate()"
   ]
  },
  {
   "cell_type": "code",
   "execution_count": 0,
   "metadata": {
    "application/vnd.databricks.v1+cell": {
     "cellMetadata": {
      "byteLimit": 2048000,
      "rowLimit": 10000
     },
     "inputWidgets": {},
     "nuid": "85e8ca55-30d0-4cff-9ea4-c9b1f5165e63",
     "showTitle": false,
     "tableResultSettingsMap": {},
     "title": ""
    }
   },
   "outputs": [],
   "source": [
    "students_df = spark.read.option(\"header\", True).csv(\"file:/Workspace/Shared/students.csv\")\n",
    "courses_df = spark.read.option(\"header\", True).csv(\"file:/Workspace/Shared/courses.csv\")\n",
    "enrollments_df=spark.read.option(\"header\", True).csv(\"file:/Workspace/Shared/enrollments.csv\")\n",
    "progress_df=spark.read.option(\"header\", True).csv(\"file:/Workspace/Shared/progress.csv\")\n"
   ]
  },
  {
   "cell_type": "code",
   "execution_count": 0,
   "metadata": {
    "application/vnd.databricks.v1+cell": {
     "cellMetadata": {
      "byteLimit": 2048000,
      "rowLimit": 10000
     },
     "inputWidgets": {},
     "nuid": "158d3100-6fc6-4298-8d3b-0348a53e65b3",
     "showTitle": false,
     "tableResultSettingsMap": {},
     "title": ""
    }
   },
   "outputs": [],
   "source": [
    "# Join enrollments with students and courses\n",
    "final_df = enrollments_df \\\n",
    "    .join(students_df, on=\"student_id\", how=\"left\") \\\n",
    "    .join(courses_df, on=\"course_id\", how=\"left\") \\\n",
    "    .join(progress_df, on=[\"student_id\", \"course_id\"], how=\"left\")\n"
   ]
  },
  {
   "cell_type": "code",
   "execution_count": 0,
   "metadata": {
    "application/vnd.databricks.v1+cell": {
     "cellMetadata": {
      "byteLimit": 2048000,
      "rowLimit": 10000
     },
     "inputWidgets": {},
     "nuid": "56505471-b0bc-40db-b33b-f7cb7f9be26e",
     "showTitle": false,
     "tableResultSettingsMap": {},
     "title": ""
    }
   },
   "outputs": [
    {
     "output_type": "display_data",
     "data": {
      "text/html": [
       "<style scoped>\n",
       "  .table-result-container {\n",
       "    max-height: 300px;\n",
       "    overflow: auto;\n",
       "  }\n",
       "  table, th, td {\n",
       "    border: 1px solid black;\n",
       "    border-collapse: collapse;\n",
       "  }\n",
       "  th, td {\n",
       "    padding: 5px;\n",
       "  }\n",
       "  th {\n",
       "    text-align: left;\n",
       "  }\n",
       "</style><div class='table-result-container'><table class='table-result'><thead style='background-color: white'><tr><th>student_id</th><th>student_name</th><th>course_id</th><th>course_name</th><th>enrollment_date</th><th>progress</th></tr></thead><tbody><tr><td>S92</td><td>Chris Allen</td><td>C103</td><td>Blockchain Basics</td><td>2024-01-25</td><td>43</td></tr><tr><td>S51</td><td>Anna Wilson</td><td>C107</td><td>Big Data Analytics</td><td>2024-05-27</td><td>23</td></tr><tr><td>S39</td><td>Emily Brown</td><td>C109</td><td>Cybersecurity</td><td>2024-02-19</td><td>84</td></tr><tr><td>S71</td><td>John Young</td><td>C102</td><td>Web Development</td><td>2024-02-01</td><td>52</td></tr><tr><td>S15</td><td>Sarah Taylor</td><td>C108</td><td>Mobile App Development</td><td>2024-01-31</td><td>5</td></tr><tr><td>S36</td><td>Jane Taylor</td><td>C103</td><td>Blockchain Basics</td><td>2024-02-10</td><td>54</td></tr><tr><td>S40</td><td>Sarah Wilson</td><td>C108</td><td>Mobile App Development</td><td>2024-02-03</td><td>82</td></tr><tr><td>S17</td><td>David Taylor</td><td>C106</td><td>Web Development</td><td>2024-01-06</td><td>50</td></tr><tr><td>S51</td><td>Anna Wilson</td><td>C110</td><td>Artificial Intelligence</td><td>2024-04-19</td><td>49</td></tr><tr><td>S57</td><td>David Taylor</td><td>C109</td><td>Cybersecurity</td><td>2024-01-11</td><td>6</td></tr><tr><td>S78</td><td>Sarah Brown</td><td>C101</td><td>Blockchain Basics</td><td>2024-05-03</td><td>18</td></tr><tr><td>S2</td><td>Chris Smith</td><td>C104</td><td>Blockchain Basics</td><td>2024-01-12</td><td>26</td></tr><tr><td>S75</td><td>John Smith</td><td>C105</td><td>Python Programming</td><td>2024-05-17</td><td>34</td></tr><tr><td>S74</td><td>Emily Smith</td><td>C102</td><td>Web Development</td><td>2024-05-26</td><td>8</td></tr><tr><td>S13</td><td>Tom Allen</td><td>C108</td><td>Mobile App Development</td><td>2024-05-22</td><td>82</td></tr><tr><td>S21</td><td>John Clark</td><td>C107</td><td>Big Data Analytics</td><td>2024-04-21</td><td>43</td></tr><tr><td>S51</td><td>Anna Wilson</td><td>C109</td><td>Cybersecurity</td><td>2024-01-04</td><td>82</td></tr><tr><td>S90</td><td>Chris Taylor</td><td>C102</td><td>Web Development</td><td>2024-03-06</td><td>3</td></tr><tr><td>S100</td><td>John Clark</td><td>C103</td><td>Blockchain Basics</td><td>2024-01-20</td><td>25</td></tr><tr><td>S38</td><td>Sarah Taylor</td><td>C110</td><td>Artificial Intelligence</td><td>2024-04-09</td><td>15</td></tr><tr><td>S1</td><td>Anna Young</td><td>C108</td><td>Mobile App Development</td><td>2024-05-04</td><td>20</td></tr><tr><td>S64</td><td>David Clark</td><td>C108</td><td>Mobile App Development</td><td>2024-03-18</td><td>87</td></tr><tr><td>S37</td><td>Alex Taylor</td><td>C105</td><td>Python Programming</td><td>2024-03-09</td><td>69</td></tr><tr><td>S64</td><td>David Clark</td><td>C106</td><td>Web Development</td><td>2024-03-18</td><td>69</td></tr><tr><td>S31</td><td>Tom Smith</td><td>C102</td><td>Web Development</td><td>2024-03-18</td><td>55</td></tr><tr><td>S50</td><td>Jane Brown</td><td>C108</td><td>Mobile App Development</td><td>2024-05-06</td><td>94</td></tr><tr><td>S67</td><td>John Taylor</td><td>C109</td><td>Cybersecurity</td><td>2024-05-25</td><td>86</td></tr><tr><td>S81</td><td>Emily Allen</td><td>C105</td><td>Python Programming</td><td>2024-02-05</td><td>100</td></tr><tr><td>S93</td><td>David Johnson</td><td>C107</td><td>Big Data Analytics</td><td>2024-03-04</td><td>76</td></tr><tr><td>S72</td><td>Sarah Clark</td><td>C101</td><td>Blockchain Basics</td><td>2024-05-24</td><td>61</td></tr><tr><td>S10</td><td>Chris Young</td><td>C106</td><td>Web Development</td><td>2024-02-15</td><td>93</td></tr><tr><td>S45</td><td>Laura Allen</td><td>C101</td><td>Blockchain Basics</td><td>2024-01-20</td><td>70</td></tr><tr><td>S13</td><td>Tom Allen</td><td>C102</td><td>Web Development</td><td>2024-05-20</td><td>5</td></tr><tr><td>S47</td><td>Sarah Wilson</td><td>C103</td><td>Blockchain Basics</td><td>2024-05-10</td><td>33</td></tr><tr><td>S12</td><td>Chris Lee</td><td>C101</td><td>Blockchain Basics</td><td>2024-04-30</td><td>30</td></tr><tr><td>S35</td><td>Anna Allen</td><td>C106</td><td>Web Development</td><td>2024-03-19</td><td>26</td></tr><tr><td>S1</td><td>Anna Young</td><td>C110</td><td>Artificial Intelligence</td><td>2024-02-29</td><td>71</td></tr><tr><td>S20</td><td>Laura Taylor</td><td>C109</td><td>Cybersecurity</td><td>2024-03-30</td><td>35</td></tr><tr><td>S84</td><td>Emily Lee</td><td>C105</td><td>Python Programming</td><td>2024-04-20</td><td>32</td></tr><tr><td>S2</td><td>Chris Smith</td><td>C104</td><td>Blockchain Basics</td><td>2024-01-22</td><td>26</td></tr><tr><td>S75</td><td>John Smith</td><td>C102</td><td>Web Development</td><td>2024-01-30</td><td>30</td></tr><tr><td>S53</td><td>Chris Hall</td><td>C109</td><td>Cybersecurity</td><td>2024-01-29</td><td>79</td></tr><tr><td>S17</td><td>David Taylor</td><td>C105</td><td>Python Programming</td><td>2024-03-19</td><td>53</td></tr><tr><td>S90</td><td>Chris Taylor</td><td>C103</td><td>Blockchain Basics</td><td>2024-01-10</td><td>43</td></tr><tr><td>S13</td><td>Tom Allen</td><td>C106</td><td>Web Development</td><td>2024-04-20</td><td>14</td></tr><tr><td>S51</td><td>Anna Wilson</td><td>C104</td><td>Blockchain Basics</td><td>2024-03-07</td><td>45</td></tr><tr><td>S97</td><td>Anna Johnson</td><td>C108</td><td>Mobile App Development</td><td>2024-05-11</td><td>22</td></tr><tr><td>S29</td><td>Jane Young</td><td>C109</td><td>Cybersecurity</td><td>2024-05-05</td><td>82</td></tr><tr><td>S19</td><td>Tom Taylor</td><td>C110</td><td>Artificial Intelligence</td><td>2024-01-18</td><td>49</td></tr><tr><td>S7</td><td>Jane Brown</td><td>C103</td><td>Blockchain Basics</td><td>2024-02-21</td><td>13</td></tr><tr><td>S86</td><td>Jane Young</td><td>C102</td><td>Web Development</td><td>2024-01-23</td><td>71</td></tr><tr><td>S99</td><td>John Allen</td><td>C109</td><td>Cybersecurity</td><td>2024-03-23</td><td>48</td></tr><tr><td>S12</td><td>Chris Lee</td><td>C109</td><td>Cybersecurity</td><td>2024-02-27</td><td>2</td></tr><tr><td>S78</td><td>Sarah Brown</td><td>C104</td><td>Blockchain Basics</td><td>2024-01-19</td><td>57</td></tr><tr><td>S45</td><td>Laura Allen</td><td>C110</td><td>Artificial Intelligence</td><td>2024-01-20</td><td>68</td></tr><tr><td>S1</td><td>Anna Young</td><td>C101</td><td>Blockchain Basics</td><td>2024-03-22</td><td>4</td></tr><tr><td>S13</td><td>Tom Allen</td><td>C106</td><td>Web Development</td><td>2024-01-17</td><td>14</td></tr><tr><td>S45</td><td>Laura Allen</td><td>C104</td><td>Blockchain Basics</td><td>2024-05-02</td><td>67</td></tr><tr><td>S77</td><td>John Taylor</td><td>C108</td><td>Mobile App Development</td><td>2024-03-12</td><td>48</td></tr><tr><td>S78</td><td>Sarah Brown</td><td>C101</td><td>Blockchain Basics</td><td>2024-01-19</td><td>18</td></tr><tr><td>S64</td><td>David Clark</td><td>C104</td><td>Blockchain Basics</td><td>2024-05-08</td><td>78</td></tr><tr><td>S64</td><td>David Clark</td><td>C102</td><td>Web Development</td><td>2024-03-14</td><td>36</td></tr><tr><td>S97</td><td>Anna Johnson</td><td>C101</td><td>Blockchain Basics</td><td>2024-05-21</td><td>30</td></tr><tr><td>S99</td><td>John Allen</td><td>C106</td><td>Web Development</td><td>2024-02-10</td><td>78</td></tr><tr><td>S35</td><td>Anna Allen</td><td>C102</td><td>Web Development</td><td>2024-05-17</td><td>63</td></tr><tr><td>S29</td><td>Jane Young</td><td>C101</td><td>Blockchain Basics</td><td>2024-02-16</td><td>53</td></tr><tr><td>S67</td><td>John Taylor</td><td>C107</td><td>Big Data Analytics</td><td>2024-04-27</td><td>3</td></tr><tr><td>S22</td><td>Alex Hall</td><td>C109</td><td>Cybersecurity</td><td>2024-03-26</td><td>3</td></tr><tr><td>S36</td><td>Jane Taylor</td><td>C102</td><td>Web Development</td><td>2024-03-12</td><td>69</td></tr><tr><td>S88</td><td>Chris Taylor</td><td>C101</td><td>Blockchain Basics</td><td>2024-05-07</td><td>69</td></tr><tr><td>S2</td><td>Chris Smith</td><td>C110</td><td>Artificial Intelligence</td><td>2024-05-05</td><td>37</td></tr><tr><td>S6</td><td>Anna Johnson</td><td>C110</td><td>Artificial Intelligence</td><td>2024-03-24</td><td>9</td></tr><tr><td>S7</td><td>Jane Brown</td><td>C104</td><td>Blockchain Basics</td><td>2024-01-15</td><td>76</td></tr><tr><td>S70</td><td>Alex Wilson</td><td>C108</td><td>Mobile App Development</td><td>2024-04-04</td><td>17</td></tr><tr><td>S36</td><td>Jane Taylor</td><td>C109</td><td>Cybersecurity</td><td>2024-02-12</td><td>42</td></tr><tr><td>S62</td><td>Anna Wilson</td><td>C106</td><td>Web Development</td><td>2024-01-03</td><td>0</td></tr><tr><td>S2</td><td>Chris Smith</td><td>C109</td><td>Cybersecurity</td><td>2024-03-13</td><td>58</td></tr><tr><td>S62</td><td>Anna Wilson</td><td>C110</td><td>Artificial Intelligence</td><td>2024-04-07</td><td>67</td></tr><tr><td>S32</td><td>David Clark</td><td>C104</td><td>Blockchain Basics</td><td>2024-05-30</td><td>11</td></tr><tr><td>S32</td><td>David Clark</td><td>C107</td><td>Big Data Analytics</td><td>2024-01-24</td><td>42</td></tr><tr><td>S56</td><td>John Clark</td><td>C108</td><td>Mobile App Development</td><td>2024-05-01</td><td>45</td></tr><tr><td>S32</td><td>David Clark</td><td>C108</td><td>Mobile App Development</td><td>2024-05-02</td><td>58</td></tr><tr><td>S35</td><td>Anna Allen</td><td>C102</td><td>Web Development</td><td>2024-05-28</td><td>63</td></tr><tr><td>S98</td><td>Alex Clark</td><td>C107</td><td>Big Data Analytics</td><td>2024-04-09</td><td>68</td></tr><tr><td>S49</td><td>John Brown</td><td>C108</td><td>Mobile App Development</td><td>2024-02-27</td><td>26</td></tr><tr><td>S57</td><td>David Taylor</td><td>C109</td><td>Cybersecurity</td><td>2024-03-20</td><td>6</td></tr><tr><td>S93</td><td>David Johnson</td><td>C108</td><td>Mobile App Development</td><td>2024-02-01</td><td>56</td></tr><tr><td>S44</td><td>Anna Taylor</td><td>C109</td><td>Cybersecurity</td><td>2024-03-03</td><td>61</td></tr><tr><td>S23</td><td>Sarah Lee</td><td>C107</td><td>Big Data Analytics</td><td>2024-05-24</td><td>96</td></tr><tr><td>S2</td><td>Chris Smith</td><td>C102</td><td>Web Development</td><td>2024-01-14</td><td>40</td></tr><tr><td>S48</td><td>Sarah Taylor</td><td>C103</td><td>Blockchain Basics</td><td>2024-03-28</td><td>80</td></tr><tr><td>S70</td><td>Alex Wilson</td><td>C101</td><td>Blockchain Basics</td><td>2024-03-23</td><td>22</td></tr><tr><td>S25</td><td>Alex Taylor</td><td>C101</td><td>Blockchain Basics</td><td>2024-04-29</td><td>51</td></tr><tr><td>S36</td><td>Jane Taylor</td><td>C108</td><td>Mobile App Development</td><td>2024-05-18</td><td>9</td></tr><tr><td>S62</td><td>Anna Wilson</td><td>C110</td><td>Artificial Intelligence</td><td>2024-02-03</td><td>67</td></tr><tr><td>S70</td><td>Alex Wilson</td><td>C105</td><td>Python Programming</td><td>2024-04-26</td><td>72</td></tr><tr><td>S44</td><td>Anna Taylor</td><td>C110</td><td>Artificial Intelligence</td><td>2024-01-05</td><td>52</td></tr><tr><td>S26</td><td>Laura Hall</td><td>C104</td><td>Blockchain Basics</td><td>2024-01-20</td><td>52</td></tr><tr><td>S67</td><td>John Taylor</td><td>C102</td><td>Web Development</td><td>2024-04-02</td><td>13</td></tr><tr><td>S58</td><td>John Smith</td><td>C104</td><td>Blockchain Basics</td><td>2024-03-26</td><td>35</td></tr><tr><td>S98</td><td>Alex Clark</td><td>C105</td><td>Python Programming</td><td>2024-05-26</td><td>8</td></tr><tr><td>S32</td><td>David Clark</td><td>C110</td><td>Artificial Intelligence</td><td>2024-02-22</td><td>76</td></tr><tr><td>S16</td><td>John Hall</td><td>C109</td><td>Cybersecurity</td><td>2024-04-05</td><td>48</td></tr><tr><td>S25</td><td>Alex Taylor</td><td>C108</td><td>Mobile App Development</td><td>2024-01-20</td><td>74</td></tr><tr><td>S63</td><td>John Young</td><td>C108</td><td>Mobile App Development</td><td>2024-02-22</td><td>59</td></tr><tr><td>S55</td><td>Anna Clark</td><td>C102</td><td>Web Development</td><td>2024-03-17</td><td>74</td></tr><tr><td>S4</td><td>Chris Brown</td><td>C102</td><td>Web Development</td><td>2024-01-10</td><td>98</td></tr><tr><td>S98</td><td>Alex Clark</td><td>C102</td><td>Web Development</td><td>2024-03-02</td><td>52</td></tr><tr><td>S74</td><td>Emily Smith</td><td>C108</td><td>Mobile App Development</td><td>2024-02-03</td><td>86</td></tr><tr><td>S17</td><td>David Taylor</td><td>C108</td><td>Mobile App Development</td><td>2024-03-02</td><td>89</td></tr><tr><td>S88</td><td>Chris Taylor</td><td>C109</td><td>Cybersecurity</td><td>2024-02-14</td><td>63</td></tr><tr><td>S10</td><td>Chris Young</td><td>C105</td><td>Python Programming</td><td>2024-05-29</td><td>12</td></tr><tr><td>S15</td><td>Sarah Taylor</td><td>C105</td><td>Python Programming</td><td>2024-02-02</td><td>8</td></tr><tr><td>S18</td><td>David Johnson</td><td>C104</td><td>Blockchain Basics</td><td>2024-05-07</td><td>30</td></tr><tr><td>S79</td><td>John Young</td><td>C110</td><td>Artificial Intelligence</td><td>2024-05-25</td><td>4</td></tr><tr><td>S24</td><td>Alex Young</td><td>C108</td><td>Mobile App Development</td><td>2024-01-25</td><td>81</td></tr><tr><td>S77</td><td>John Taylor</td><td>C110</td><td>Artificial Intelligence</td><td>2024-03-18</td><td>63</td></tr><tr><td>S35</td><td>Anna Allen</td><td>C105</td><td>Python Programming</td><td>2024-03-20</td><td>15</td></tr><tr><td>S47</td><td>Sarah Wilson</td><td>C103</td><td>Blockchain Basics</td><td>2024-05-07</td><td>33</td></tr><tr><td>S91</td><td>Laura Young</td><td>C101</td><td>Blockchain Basics</td><td>2024-05-05</td><td>76</td></tr><tr><td>S1</td><td>Anna Young</td><td>C104</td><td>Blockchain Basics</td><td>2024-02-25</td><td>89</td></tr><tr><td>S32</td><td>David Clark</td><td>C107</td><td>Big Data Analytics</td><td>2024-03-19</td><td>42</td></tr><tr><td>S3</td><td>Tom Lee</td><td>C109</td><td>Cybersecurity</td><td>2024-04-14</td><td>8</td></tr><tr><td>S40</td><td>Sarah Wilson</td><td>C110</td><td>Artificial Intelligence</td><td>2024-02-19</td><td>40</td></tr><tr><td>S11</td><td>Jane Allen</td><td>C102</td><td>Web Development</td><td>2024-03-20</td><td>12</td></tr><tr><td>S99</td><td>John Allen</td><td>C107</td><td>Big Data Analytics</td><td>2024-01-24</td><td>40</td></tr><tr><td>S81</td><td>Emily Allen</td><td>C107</td><td>Big Data Analytics</td><td>2024-02-12</td><td>67</td></tr><tr><td>S91</td><td>Laura Young</td><td>C110</td><td>Artificial Intelligence</td><td>2024-02-10</td><td>83</td></tr><tr><td>S8</td><td>Chris Hall</td><td>C107</td><td>Big Data Analytics</td><td>2024-01-16</td><td>39</td></tr><tr><td>S15</td><td>Sarah Taylor</td><td>C105</td><td>Python Programming</td><td>2024-04-25</td><td>8</td></tr><tr><td>S57</td><td>David Taylor</td><td>C106</td><td>Web Development</td><td>2024-05-04</td><td>11</td></tr><tr><td>S86</td><td>Jane Young</td><td>C106</td><td>Web Development</td><td>2024-01-12</td><td>98</td></tr><tr><td>S19</td><td>Tom Taylor</td><td>C106</td><td>Web Development</td><td>2024-03-24</td><td>21</td></tr><tr><td>S51</td><td>Anna Wilson</td><td>C103</td><td>Blockchain Basics</td><td>2024-01-31</td><td>20</td></tr><tr><td>S9</td><td>Alex Brown</td><td>C103</td><td>Blockchain Basics</td><td>2024-03-12</td><td>27</td></tr><tr><td>S92</td><td>Chris Allen</td><td>C104</td><td>Blockchain Basics</td><td>2024-02-01</td><td>100</td></tr><tr><td>S11</td><td>Jane Allen</td><td>C110</td><td>Artificial Intelligence</td><td>2024-04-24</td><td>33</td></tr><tr><td>S46</td><td>Emily Taylor</td><td>C104</td><td>Blockchain Basics</td><td>2024-01-31</td><td>34</td></tr><tr><td>S79</td><td>John Young</td><td>C109</td><td>Cybersecurity</td><td>2024-03-12</td><td>43</td></tr><tr><td>S77</td><td>John Taylor</td><td>C103</td><td>Blockchain Basics</td><td>2024-02-01</td><td>34</td></tr><tr><td>S21</td><td>John Clark</td><td>C110</td><td>Artificial Intelligence</td><td>2024-03-18</td><td>14</td></tr><tr><td>S48</td><td>Sarah Taylor</td><td>C108</td><td>Mobile App Development</td><td>2024-01-08</td><td>10</td></tr><tr><td>S92</td><td>Chris Allen</td><td>C104</td><td>Blockchain Basics</td><td>2024-03-07</td><td>100</td></tr><tr><td>S31</td><td>Tom Smith</td><td>C108</td><td>Mobile App Development</td><td>2024-02-20</td><td>39</td></tr><tr><td>S3</td><td>Tom Lee</td><td>C102</td><td>Web Development</td><td>2024-01-17</td><td>100</td></tr><tr><td>S51</td><td>Anna Wilson</td><td>C107</td><td>Big Data Analytics</td><td>2024-04-10</td><td>23</td></tr><tr><td>S48</td><td>Sarah Taylor</td><td>C107</td><td>Big Data Analytics</td><td>2024-01-08</td><td>46</td></tr><tr><td>S9</td><td>Alex Brown</td><td>C108</td><td>Mobile App Development</td><td>2024-05-26</td><td>13</td></tr><tr><td>S53</td><td>Chris Hall</td><td>C108</td><td>Mobile App Development</td><td>2024-03-22</td><td>15</td></tr><tr><td>S91</td><td>Laura Young</td><td>C104</td><td>Blockchain Basics</td><td>2024-03-27</td><td>81</td></tr><tr><td>S64</td><td>David Clark</td><td>C109</td><td>Cybersecurity</td><td>2024-03-17</td><td>63</td></tr><tr><td>S5</td><td>Sarah Smith</td><td>C101</td><td>Blockchain Basics</td><td>2024-01-22</td><td>52</td></tr><tr><td>S80</td><td>Laura Smith</td><td>C110</td><td>Artificial Intelligence</td><td>2024-01-20</td><td>79</td></tr><tr><td>S76</td><td>Alex Taylor</td><td>C102</td><td>Web Development</td><td>2024-05-06</td><td>4</td></tr><tr><td>S77</td><td>John Taylor</td><td>C107</td><td>Big Data Analytics</td><td>2024-02-06</td><td>47</td></tr><tr><td>S45</td><td>Laura Allen</td><td>C105</td><td>Python Programming</td><td>2024-03-22</td><td>44</td></tr><tr><td>S77</td><td>John Taylor</td><td>C104</td><td>Blockchain Basics</td><td>2024-03-30</td><td>37</td></tr><tr><td>S25</td><td>Alex Taylor</td><td>C109</td><td>Cybersecurity</td><td>2024-05-25</td><td>61</td></tr><tr><td>S27</td><td>Emily Lee</td><td>C104</td><td>Blockchain Basics</td><td>2024-04-01</td><td>62</td></tr><tr><td>S36</td><td>Jane Taylor</td><td>C101</td><td>Blockchain Basics</td><td>2024-02-08</td><td>30</td></tr><tr><td>S10</td><td>Chris Young</td><td>C101</td><td>Blockchain Basics</td><td>2024-04-01</td><td>13</td></tr><tr><td>S76</td><td>Alex Taylor</td><td>C107</td><td>Big Data Analytics</td><td>2024-01-15</td><td>5</td></tr><tr><td>S87</td><td>Alex Lee</td><td>C107</td><td>Big Data Analytics</td><td>2024-05-11</td><td>85</td></tr><tr><td>S6</td><td>Anna Johnson</td><td>C110</td><td>Artificial Intelligence</td><td>2024-02-14</td><td>9</td></tr><tr><td>S87</td><td>Alex Lee</td><td>C108</td><td>Mobile App Development</td><td>2024-05-29</td><td>16</td></tr><tr><td>S22</td><td>Alex Hall</td><td>C101</td><td>Blockchain Basics</td><td>2024-04-19</td><td>37</td></tr><tr><td>S94</td><td>Chris Wilson</td><td>C101</td><td>Blockchain Basics</td><td>2024-01-15</td><td>62</td></tr><tr><td>S39</td><td>Emily Brown</td><td>C109</td><td>Cybersecurity</td><td>2024-03-06</td><td>84</td></tr><tr><td>S35</td><td>Anna Allen</td><td>C102</td><td>Web Development</td><td>2024-01-13</td><td>63</td></tr><tr><td>S39</td><td>Emily Brown</td><td>C102</td><td>Web Development</td><td>2024-04-11</td><td>45</td></tr><tr><td>S57</td><td>David Taylor</td><td>C109</td><td>Cybersecurity</td><td>2024-02-23</td><td>6</td></tr><tr><td>S63</td><td>John Young</td><td>C102</td><td>Web Development</td><td>2024-03-22</td><td>89</td></tr><tr><td>S15</td><td>Sarah Taylor</td><td>C110</td><td>Artificial Intelligence</td><td>2024-02-17</td><td>61</td></tr><tr><td>S39</td><td>Emily Brown</td><td>C105</td><td>Python Programming</td><td>2024-01-09</td><td>16</td></tr><tr><td>S10</td><td>Chris Young</td><td>C106</td><td>Web Development</td><td>2024-05-17</td><td>93</td></tr><tr><td>S13</td><td>Tom Allen</td><td>C107</td><td>Big Data Analytics</td><td>2024-02-24</td><td>59</td></tr><tr><td>S48</td><td>Sarah Taylor</td><td>C104</td><td>Blockchain Basics</td><td>2024-04-14</td><td>56</td></tr><tr><td>S65</td><td>Sarah Clark</td><td>C104</td><td>Blockchain Basics</td><td>2024-05-24</td><td>12</td></tr><tr><td>S60</td><td>Chris Johnson</td><td>C105</td><td>Python Programming</td><td>2024-01-27</td><td>6</td></tr><tr><td>S73</td><td>David Wilson</td><td>C103</td><td>Blockchain Basics</td><td>2024-05-29</td><td>95</td></tr><tr><td>S91</td><td>Laura Young</td><td>C110</td><td>Artificial Intelligence</td><td>2024-01-16</td><td>83</td></tr><tr><td>S58</td><td>John Smith</td><td>C101</td><td>Blockchain Basics</td><td>2024-02-27</td><td>36</td></tr><tr><td>S46</td><td>Emily Taylor</td><td>C109</td><td>Cybersecurity</td><td>2024-02-14</td><td>37</td></tr><tr><td>S99</td><td>John Allen</td><td>C109</td><td>Cybersecurity</td><td>2024-03-10</td><td>48</td></tr><tr><td>S9</td><td>Alex Brown</td><td>C108</td><td>Mobile App Development</td><td>2024-01-20</td><td>13</td></tr><tr><td>S54</td><td>Chris Clark</td><td>C110</td><td>Artificial Intelligence</td><td>2024-02-20</td><td>56</td></tr><tr><td>S94</td><td>Chris Wilson</td><td>C110</td><td>Artificial Intelligence</td><td>2024-05-18</td><td>31</td></tr><tr><td>S88</td><td>Chris Taylor</td><td>C103</td><td>Blockchain Basics</td><td>2024-04-05</td><td>2</td></tr><tr><td>S100</td><td>John Clark</td><td>C105</td><td>Python Programming</td><td>2024-01-26</td><td>56</td></tr><tr><td>S39</td><td>Emily Brown</td><td>C101</td><td>Blockchain Basics</td><td>2024-03-26</td><td>67</td></tr><tr><td>S7</td><td>Jane Brown</td><td>C109</td><td>Cybersecurity</td><td>2024-03-04</td><td>69</td></tr><tr><td>S5</td><td>Sarah Smith</td><td>C108</td><td>Mobile App Development</td><td>2024-05-09</td><td>81</td></tr><tr><td>S66</td><td>Emily Smith</td><td>C102</td><td>Web Development</td><td>2024-04-10</td><td>62</td></tr><tr><td>S95</td><td>Chris Young</td><td>C107</td><td>Big Data Analytics</td><td>2024-05-20</td><td>69</td></tr><tr><td>S26</td><td>Laura Hall</td><td>C102</td><td>Web Development</td><td>2024-04-22</td><td>21</td></tr><tr><td>S83</td><td>Chris Wilson</td><td>C106</td><td>Web Development</td><td>2024-02-20</td><td>88</td></tr><tr><td>S28</td><td>Jane Young</td><td>C108</td><td>Mobile App Development</td><td>2024-03-06</td><td>28</td></tr><tr><td>S97</td><td>Anna Johnson</td><td>C107</td><td>Big Data Analytics</td><td>2024-02-07</td><td>25</td></tr><tr><td>S7</td><td>Jane Brown</td><td>C105</td><td>Python Programming</td><td>2024-01-16</td><td>82</td></tr><tr><td>S56</td><td>John Clark</td><td>C105</td><td>Python Programming</td><td>2024-04-06</td><td>75</td></tr><tr><td>S51</td><td>Anna Wilson</td><td>C107</td><td>Big Data Analytics</td><td>2024-05-27</td><td>42</td></tr><tr><td>S39</td><td>Emily Brown</td><td>C109</td><td>Cybersecurity</td><td>2024-02-19</td><td>28</td></tr><tr><td>S57</td><td>David Taylor</td><td>C109</td><td>Cybersecurity</td><td>2024-01-11</td><td>23</td></tr><tr><td>S78</td><td>Sarah Brown</td><td>C101</td><td>Blockchain Basics</td><td>2024-05-03</td><td>32</td></tr><tr><td>S2</td><td>Chris Smith</td><td>C104</td><td>Blockchain Basics</td><td>2024-01-12</td><td>49</td></tr><tr><td>S10</td><td>Chris Young</td><td>C106</td><td>Web Development</td><td>2024-02-15</td><td>52</td></tr><tr><td>S47</td><td>Sarah Wilson</td><td>C103</td><td>Blockchain Basics</td><td>2024-05-10</td><td>40</td></tr><tr><td>S2</td><td>Chris Smith</td><td>C104</td><td>Blockchain Basics</td><td>2024-01-22</td><td>49</td></tr><tr><td>S13</td><td>Tom Allen</td><td>C106</td><td>Web Development</td><td>2024-04-20</td><td>41</td></tr><tr><td>S99</td><td>John Allen</td><td>C109</td><td>Cybersecurity</td><td>2024-03-23</td><td>90</td></tr><tr><td>S13</td><td>Tom Allen</td><td>C106</td><td>Web Development</td><td>2024-01-17</td><td>41</td></tr><tr><td>S78</td><td>Sarah Brown</td><td>C101</td><td>Blockchain Basics</td><td>2024-01-19</td><td>32</td></tr><tr><td>S35</td><td>Anna Allen</td><td>C102</td><td>Web Development</td><td>2024-05-17</td><td>24</td></tr><tr><td>S6</td><td>Anna Johnson</td><td>C110</td><td>Artificial Intelligence</td><td>2024-03-24</td><td>100</td></tr><tr><td>S62</td><td>Anna Wilson</td><td>C110</td><td>Artificial Intelligence</td><td>2024-04-07</td><td>50</td></tr><tr><td>S32</td><td>David Clark</td><td>C107</td><td>Big Data Analytics</td><td>2024-01-24</td><td>8</td></tr><tr><td>S35</td><td>Anna Allen</td><td>C102</td><td>Web Development</td><td>2024-05-28</td><td>24</td></tr><tr><td>S57</td><td>David Taylor</td><td>C109</td><td>Cybersecurity</td><td>2024-03-20</td><td>23</td></tr><tr><td>S62</td><td>Anna Wilson</td><td>C110</td><td>Artificial Intelligence</td><td>2024-02-03</td><td>50</td></tr><tr><td>S15</td><td>Sarah Taylor</td><td>C105</td><td>Python Programming</td><td>2024-02-02</td><td>50</td></tr><tr><td>S47</td><td>Sarah Wilson</td><td>C103</td><td>Blockchain Basics</td><td>2024-05-07</td><td>40</td></tr><tr><td>S32</td><td>David Clark</td><td>C107</td><td>Big Data Analytics</td><td>2024-03-19</td><td>8</td></tr><tr><td>S91</td><td>Laura Young</td><td>C110</td><td>Artificial Intelligence</td><td>2024-02-10</td><td>4</td></tr><tr><td>S15</td><td>Sarah Taylor</td><td>C105</td><td>Python Programming</td><td>2024-04-25</td><td>50</td></tr><tr><td>S92</td><td>Chris Allen</td><td>C104</td><td>Blockchain Basics</td><td>2024-02-01</td><td>75</td></tr><tr><td>S92</td><td>Chris Allen</td><td>C104</td><td>Blockchain Basics</td><td>2024-03-07</td><td>75</td></tr><tr><td>S51</td><td>Anna Wilson</td><td>C107</td><td>Big Data Analytics</td><td>2024-04-10</td><td>42</td></tr><tr><td>S9</td><td>Alex Brown</td><td>C108</td><td>Mobile App Development</td><td>2024-05-26</td><td>51</td></tr><tr><td>S6</td><td>Anna Johnson</td><td>C110</td><td>Artificial Intelligence</td><td>2024-02-14</td><td>100</td></tr><tr><td>S39</td><td>Emily Brown</td><td>C109</td><td>Cybersecurity</td><td>2024-03-06</td><td>28</td></tr><tr><td>S35</td><td>Anna Allen</td><td>C102</td><td>Web Development</td><td>2024-01-13</td><td>24</td></tr><tr><td>S57</td><td>David Taylor</td><td>C109</td><td>Cybersecurity</td><td>2024-02-23</td><td>23</td></tr><tr><td>S10</td><td>Chris Young</td><td>C106</td><td>Web Development</td><td>2024-05-17</td><td>52</td></tr><tr><td>S91</td><td>Laura Young</td><td>C110</td><td>Artificial Intelligence</td><td>2024-01-16</td><td>4</td></tr><tr><td>S99</td><td>John Allen</td><td>C109</td><td>Cybersecurity</td><td>2024-03-10</td><td>90</td></tr><tr><td>S9</td><td>Alex Brown</td><td>C108</td><td>Mobile App Development</td><td>2024-01-20</td><td>51</td></tr><tr><td>S57</td><td>David Taylor</td><td>C109</td><td>Cybersecurity</td><td>2024-01-11</td><td>95</td></tr><tr><td>S35</td><td>Anna Allen</td><td>C102</td><td>Web Development</td><td>2024-05-17</td><td>64</td></tr><tr><td>S35</td><td>Anna Allen</td><td>C102</td><td>Web Development</td><td>2024-05-28</td><td>64</td></tr><tr><td>S57</td><td>David Taylor</td><td>C109</td><td>Cybersecurity</td><td>2024-03-20</td><td>95</td></tr><tr><td>S35</td><td>Anna Allen</td><td>C102</td><td>Web Development</td><td>2024-01-13</td><td>64</td></tr><tr><td>S57</td><td>David Taylor</td><td>C109</td><td>Cybersecurity</td><td>2024-02-23</td><td>95</td></tr></tbody></table></div>"
      ]
     },
     "metadata": {
      "application/vnd.databricks.v1+output": {
       "addedWidgets": {},
       "aggData": [],
       "aggError": "",
       "aggOverflow": false,
       "aggSchema": [],
       "aggSeriesLimitReached": false,
       "aggType": "",
       "arguments": {},
       "columnCustomDisplayInfos": {},
       "data": [
        [
         "S92",
         "Chris Allen",
         "C103",
         "Blockchain Basics",
         "2024-01-25",
         43
        ],
        [
         "S51",
         "Anna Wilson",
         "C107",
         "Big Data Analytics",
         "2024-05-27",
         23
        ],
        [
         "S39",
         "Emily Brown",
         "C109",
         "Cybersecurity",
         "2024-02-19",
         84
        ],
        [
         "S71",
         "John Young",
         "C102",
         "Web Development",
         "2024-02-01",
         52
        ],
        [
         "S15",
         "Sarah Taylor",
         "C108",
         "Mobile App Development",
         "2024-01-31",
         5
        ],
        [
         "S36",
         "Jane Taylor",
         "C103",
         "Blockchain Basics",
         "2024-02-10",
         54
        ],
        [
         "S40",
         "Sarah Wilson",
         "C108",
         "Mobile App Development",
         "2024-02-03",
         82
        ],
        [
         "S17",
         "David Taylor",
         "C106",
         "Web Development",
         "2024-01-06",
         50
        ],
        [
         "S51",
         "Anna Wilson",
         "C110",
         "Artificial Intelligence",
         "2024-04-19",
         49
        ],
        [
         "S57",
         "David Taylor",
         "C109",
         "Cybersecurity",
         "2024-01-11",
         6
        ],
        [
         "S78",
         "Sarah Brown",
         "C101",
         "Blockchain Basics",
         "2024-05-03",
         18
        ],
        [
         "S2",
         "Chris Smith",
         "C104",
         "Blockchain Basics",
         "2024-01-12",
         26
        ],
        [
         "S75",
         "John Smith",
         "C105",
         "Python Programming",
         "2024-05-17",
         34
        ],
        [
         "S74",
         "Emily Smith",
         "C102",
         "Web Development",
         "2024-05-26",
         8
        ],
        [
         "S13",
         "Tom Allen",
         "C108",
         "Mobile App Development",
         "2024-05-22",
         82
        ],
        [
         "S21",
         "John Clark",
         "C107",
         "Big Data Analytics",
         "2024-04-21",
         43
        ],
        [
         "S51",
         "Anna Wilson",
         "C109",
         "Cybersecurity",
         "2024-01-04",
         82
        ],
        [
         "S90",
         "Chris Taylor",
         "C102",
         "Web Development",
         "2024-03-06",
         3
        ],
        [
         "S100",
         "John Clark",
         "C103",
         "Blockchain Basics",
         "2024-01-20",
         25
        ],
        [
         "S38",
         "Sarah Taylor",
         "C110",
         "Artificial Intelligence",
         "2024-04-09",
         15
        ],
        [
         "S1",
         "Anna Young",
         "C108",
         "Mobile App Development",
         "2024-05-04",
         20
        ],
        [
         "S64",
         "David Clark",
         "C108",
         "Mobile App Development",
         "2024-03-18",
         87
        ],
        [
         "S37",
         "Alex Taylor",
         "C105",
         "Python Programming",
         "2024-03-09",
         69
        ],
        [
         "S64",
         "David Clark",
         "C106",
         "Web Development",
         "2024-03-18",
         69
        ],
        [
         "S31",
         "Tom Smith",
         "C102",
         "Web Development",
         "2024-03-18",
         55
        ],
        [
         "S50",
         "Jane Brown",
         "C108",
         "Mobile App Development",
         "2024-05-06",
         94
        ],
        [
         "S67",
         "John Taylor",
         "C109",
         "Cybersecurity",
         "2024-05-25",
         86
        ],
        [
         "S81",
         "Emily Allen",
         "C105",
         "Python Programming",
         "2024-02-05",
         100
        ],
        [
         "S93",
         "David Johnson",
         "C107",
         "Big Data Analytics",
         "2024-03-04",
         76
        ],
        [
         "S72",
         "Sarah Clark",
         "C101",
         "Blockchain Basics",
         "2024-05-24",
         61
        ],
        [
         "S10",
         "Chris Young",
         "C106",
         "Web Development",
         "2024-02-15",
         93
        ],
        [
         "S45",
         "Laura Allen",
         "C101",
         "Blockchain Basics",
         "2024-01-20",
         70
        ],
        [
         "S13",
         "Tom Allen",
         "C102",
         "Web Development",
         "2024-05-20",
         5
        ],
        [
         "S47",
         "Sarah Wilson",
         "C103",
         "Blockchain Basics",
         "2024-05-10",
         33
        ],
        [
         "S12",
         "Chris Lee",
         "C101",
         "Blockchain Basics",
         "2024-04-30",
         30
        ],
        [
         "S35",
         "Anna Allen",
         "C106",
         "Web Development",
         "2024-03-19",
         26
        ],
        [
         "S1",
         "Anna Young",
         "C110",
         "Artificial Intelligence",
         "2024-02-29",
         71
        ],
        [
         "S20",
         "Laura Taylor",
         "C109",
         "Cybersecurity",
         "2024-03-30",
         35
        ],
        [
         "S84",
         "Emily Lee",
         "C105",
         "Python Programming",
         "2024-04-20",
         32
        ],
        [
         "S2",
         "Chris Smith",
         "C104",
         "Blockchain Basics",
         "2024-01-22",
         26
        ],
        [
         "S75",
         "John Smith",
         "C102",
         "Web Development",
         "2024-01-30",
         30
        ],
        [
         "S53",
         "Chris Hall",
         "C109",
         "Cybersecurity",
         "2024-01-29",
         79
        ],
        [
         "S17",
         "David Taylor",
         "C105",
         "Python Programming",
         "2024-03-19",
         53
        ],
        [
         "S90",
         "Chris Taylor",
         "C103",
         "Blockchain Basics",
         "2024-01-10",
         43
        ],
        [
         "S13",
         "Tom Allen",
         "C106",
         "Web Development",
         "2024-04-20",
         14
        ],
        [
         "S51",
         "Anna Wilson",
         "C104",
         "Blockchain Basics",
         "2024-03-07",
         45
        ],
        [
         "S97",
         "Anna Johnson",
         "C108",
         "Mobile App Development",
         "2024-05-11",
         22
        ],
        [
         "S29",
         "Jane Young",
         "C109",
         "Cybersecurity",
         "2024-05-05",
         82
        ],
        [
         "S19",
         "Tom Taylor",
         "C110",
         "Artificial Intelligence",
         "2024-01-18",
         49
        ],
        [
         "S7",
         "Jane Brown",
         "C103",
         "Blockchain Basics",
         "2024-02-21",
         13
        ],
        [
         "S86",
         "Jane Young",
         "C102",
         "Web Development",
         "2024-01-23",
         71
        ],
        [
         "S99",
         "John Allen",
         "C109",
         "Cybersecurity",
         "2024-03-23",
         48
        ],
        [
         "S12",
         "Chris Lee",
         "C109",
         "Cybersecurity",
         "2024-02-27",
         2
        ],
        [
         "S78",
         "Sarah Brown",
         "C104",
         "Blockchain Basics",
         "2024-01-19",
         57
        ],
        [
         "S45",
         "Laura Allen",
         "C110",
         "Artificial Intelligence",
         "2024-01-20",
         68
        ],
        [
         "S1",
         "Anna Young",
         "C101",
         "Blockchain Basics",
         "2024-03-22",
         4
        ],
        [
         "S13",
         "Tom Allen",
         "C106",
         "Web Development",
         "2024-01-17",
         14
        ],
        [
         "S45",
         "Laura Allen",
         "C104",
         "Blockchain Basics",
         "2024-05-02",
         67
        ],
        [
         "S77",
         "John Taylor",
         "C108",
         "Mobile App Development",
         "2024-03-12",
         48
        ],
        [
         "S78",
         "Sarah Brown",
         "C101",
         "Blockchain Basics",
         "2024-01-19",
         18
        ],
        [
         "S64",
         "David Clark",
         "C104",
         "Blockchain Basics",
         "2024-05-08",
         78
        ],
        [
         "S64",
         "David Clark",
         "C102",
         "Web Development",
         "2024-03-14",
         36
        ],
        [
         "S97",
         "Anna Johnson",
         "C101",
         "Blockchain Basics",
         "2024-05-21",
         30
        ],
        [
         "S99",
         "John Allen",
         "C106",
         "Web Development",
         "2024-02-10",
         78
        ],
        [
         "S35",
         "Anna Allen",
         "C102",
         "Web Development",
         "2024-05-17",
         63
        ],
        [
         "S29",
         "Jane Young",
         "C101",
         "Blockchain Basics",
         "2024-02-16",
         53
        ],
        [
         "S67",
         "John Taylor",
         "C107",
         "Big Data Analytics",
         "2024-04-27",
         3
        ],
        [
         "S22",
         "Alex Hall",
         "C109",
         "Cybersecurity",
         "2024-03-26",
         3
        ],
        [
         "S36",
         "Jane Taylor",
         "C102",
         "Web Development",
         "2024-03-12",
         69
        ],
        [
         "S88",
         "Chris Taylor",
         "C101",
         "Blockchain Basics",
         "2024-05-07",
         69
        ],
        [
         "S2",
         "Chris Smith",
         "C110",
         "Artificial Intelligence",
         "2024-05-05",
         37
        ],
        [
         "S6",
         "Anna Johnson",
         "C110",
         "Artificial Intelligence",
         "2024-03-24",
         9
        ],
        [
         "S7",
         "Jane Brown",
         "C104",
         "Blockchain Basics",
         "2024-01-15",
         76
        ],
        [
         "S70",
         "Alex Wilson",
         "C108",
         "Mobile App Development",
         "2024-04-04",
         17
        ],
        [
         "S36",
         "Jane Taylor",
         "C109",
         "Cybersecurity",
         "2024-02-12",
         42
        ],
        [
         "S62",
         "Anna Wilson",
         "C106",
         "Web Development",
         "2024-01-03",
         0
        ],
        [
         "S2",
         "Chris Smith",
         "C109",
         "Cybersecurity",
         "2024-03-13",
         58
        ],
        [
         "S62",
         "Anna Wilson",
         "C110",
         "Artificial Intelligence",
         "2024-04-07",
         67
        ],
        [
         "S32",
         "David Clark",
         "C104",
         "Blockchain Basics",
         "2024-05-30",
         11
        ],
        [
         "S32",
         "David Clark",
         "C107",
         "Big Data Analytics",
         "2024-01-24",
         42
        ],
        [
         "S56",
         "John Clark",
         "C108",
         "Mobile App Development",
         "2024-05-01",
         45
        ],
        [
         "S32",
         "David Clark",
         "C108",
         "Mobile App Development",
         "2024-05-02",
         58
        ],
        [
         "S35",
         "Anna Allen",
         "C102",
         "Web Development",
         "2024-05-28",
         63
        ],
        [
         "S98",
         "Alex Clark",
         "C107",
         "Big Data Analytics",
         "2024-04-09",
         68
        ],
        [
         "S49",
         "John Brown",
         "C108",
         "Mobile App Development",
         "2024-02-27",
         26
        ],
        [
         "S57",
         "David Taylor",
         "C109",
         "Cybersecurity",
         "2024-03-20",
         6
        ],
        [
         "S93",
         "David Johnson",
         "C108",
         "Mobile App Development",
         "2024-02-01",
         56
        ],
        [
         "S44",
         "Anna Taylor",
         "C109",
         "Cybersecurity",
         "2024-03-03",
         61
        ],
        [
         "S23",
         "Sarah Lee",
         "C107",
         "Big Data Analytics",
         "2024-05-24",
         96
        ],
        [
         "S2",
         "Chris Smith",
         "C102",
         "Web Development",
         "2024-01-14",
         40
        ],
        [
         "S48",
         "Sarah Taylor",
         "C103",
         "Blockchain Basics",
         "2024-03-28",
         80
        ],
        [
         "S70",
         "Alex Wilson",
         "C101",
         "Blockchain Basics",
         "2024-03-23",
         22
        ],
        [
         "S25",
         "Alex Taylor",
         "C101",
         "Blockchain Basics",
         "2024-04-29",
         51
        ],
        [
         "S36",
         "Jane Taylor",
         "C108",
         "Mobile App Development",
         "2024-05-18",
         9
        ],
        [
         "S62",
         "Anna Wilson",
         "C110",
         "Artificial Intelligence",
         "2024-02-03",
         67
        ],
        [
         "S70",
         "Alex Wilson",
         "C105",
         "Python Programming",
         "2024-04-26",
         72
        ],
        [
         "S44",
         "Anna Taylor",
         "C110",
         "Artificial Intelligence",
         "2024-01-05",
         52
        ],
        [
         "S26",
         "Laura Hall",
         "C104",
         "Blockchain Basics",
         "2024-01-20",
         52
        ],
        [
         "S67",
         "John Taylor",
         "C102",
         "Web Development",
         "2024-04-02",
         13
        ],
        [
         "S58",
         "John Smith",
         "C104",
         "Blockchain Basics",
         "2024-03-26",
         35
        ],
        [
         "S98",
         "Alex Clark",
         "C105",
         "Python Programming",
         "2024-05-26",
         8
        ],
        [
         "S32",
         "David Clark",
         "C110",
         "Artificial Intelligence",
         "2024-02-22",
         76
        ],
        [
         "S16",
         "John Hall",
         "C109",
         "Cybersecurity",
         "2024-04-05",
         48
        ],
        [
         "S25",
         "Alex Taylor",
         "C108",
         "Mobile App Development",
         "2024-01-20",
         74
        ],
        [
         "S63",
         "John Young",
         "C108",
         "Mobile App Development",
         "2024-02-22",
         59
        ],
        [
         "S55",
         "Anna Clark",
         "C102",
         "Web Development",
         "2024-03-17",
         74
        ],
        [
         "S4",
         "Chris Brown",
         "C102",
         "Web Development",
         "2024-01-10",
         98
        ],
        [
         "S98",
         "Alex Clark",
         "C102",
         "Web Development",
         "2024-03-02",
         52
        ],
        [
         "S74",
         "Emily Smith",
         "C108",
         "Mobile App Development",
         "2024-02-03",
         86
        ],
        [
         "S17",
         "David Taylor",
         "C108",
         "Mobile App Development",
         "2024-03-02",
         89
        ],
        [
         "S88",
         "Chris Taylor",
         "C109",
         "Cybersecurity",
         "2024-02-14",
         63
        ],
        [
         "S10",
         "Chris Young",
         "C105",
         "Python Programming",
         "2024-05-29",
         12
        ],
        [
         "S15",
         "Sarah Taylor",
         "C105",
         "Python Programming",
         "2024-02-02",
         8
        ],
        [
         "S18",
         "David Johnson",
         "C104",
         "Blockchain Basics",
         "2024-05-07",
         30
        ],
        [
         "S79",
         "John Young",
         "C110",
         "Artificial Intelligence",
         "2024-05-25",
         4
        ],
        [
         "S24",
         "Alex Young",
         "C108",
         "Mobile App Development",
         "2024-01-25",
         81
        ],
        [
         "S77",
         "John Taylor",
         "C110",
         "Artificial Intelligence",
         "2024-03-18",
         63
        ],
        [
         "S35",
         "Anna Allen",
         "C105",
         "Python Programming",
         "2024-03-20",
         15
        ],
        [
         "S47",
         "Sarah Wilson",
         "C103",
         "Blockchain Basics",
         "2024-05-07",
         33
        ],
        [
         "S91",
         "Laura Young",
         "C101",
         "Blockchain Basics",
         "2024-05-05",
         76
        ],
        [
         "S1",
         "Anna Young",
         "C104",
         "Blockchain Basics",
         "2024-02-25",
         89
        ],
        [
         "S32",
         "David Clark",
         "C107",
         "Big Data Analytics",
         "2024-03-19",
         42
        ],
        [
         "S3",
         "Tom Lee",
         "C109",
         "Cybersecurity",
         "2024-04-14",
         8
        ],
        [
         "S40",
         "Sarah Wilson",
         "C110",
         "Artificial Intelligence",
         "2024-02-19",
         40
        ],
        [
         "S11",
         "Jane Allen",
         "C102",
         "Web Development",
         "2024-03-20",
         12
        ],
        [
         "S99",
         "John Allen",
         "C107",
         "Big Data Analytics",
         "2024-01-24",
         40
        ],
        [
         "S81",
         "Emily Allen",
         "C107",
         "Big Data Analytics",
         "2024-02-12",
         67
        ],
        [
         "S91",
         "Laura Young",
         "C110",
         "Artificial Intelligence",
         "2024-02-10",
         83
        ],
        [
         "S8",
         "Chris Hall",
         "C107",
         "Big Data Analytics",
         "2024-01-16",
         39
        ],
        [
         "S15",
         "Sarah Taylor",
         "C105",
         "Python Programming",
         "2024-04-25",
         8
        ],
        [
         "S57",
         "David Taylor",
         "C106",
         "Web Development",
         "2024-05-04",
         11
        ],
        [
         "S86",
         "Jane Young",
         "C106",
         "Web Development",
         "2024-01-12",
         98
        ],
        [
         "S19",
         "Tom Taylor",
         "C106",
         "Web Development",
         "2024-03-24",
         21
        ],
        [
         "S51",
         "Anna Wilson",
         "C103",
         "Blockchain Basics",
         "2024-01-31",
         20
        ],
        [
         "S9",
         "Alex Brown",
         "C103",
         "Blockchain Basics",
         "2024-03-12",
         27
        ],
        [
         "S92",
         "Chris Allen",
         "C104",
         "Blockchain Basics",
         "2024-02-01",
         100
        ],
        [
         "S11",
         "Jane Allen",
         "C110",
         "Artificial Intelligence",
         "2024-04-24",
         33
        ],
        [
         "S46",
         "Emily Taylor",
         "C104",
         "Blockchain Basics",
         "2024-01-31",
         34
        ],
        [
         "S79",
         "John Young",
         "C109",
         "Cybersecurity",
         "2024-03-12",
         43
        ],
        [
         "S77",
         "John Taylor",
         "C103",
         "Blockchain Basics",
         "2024-02-01",
         34
        ],
        [
         "S21",
         "John Clark",
         "C110",
         "Artificial Intelligence",
         "2024-03-18",
         14
        ],
        [
         "S48",
         "Sarah Taylor",
         "C108",
         "Mobile App Development",
         "2024-01-08",
         10
        ],
        [
         "S92",
         "Chris Allen",
         "C104",
         "Blockchain Basics",
         "2024-03-07",
         100
        ],
        [
         "S31",
         "Tom Smith",
         "C108",
         "Mobile App Development",
         "2024-02-20",
         39
        ],
        [
         "S3",
         "Tom Lee",
         "C102",
         "Web Development",
         "2024-01-17",
         100
        ],
        [
         "S51",
         "Anna Wilson",
         "C107",
         "Big Data Analytics",
         "2024-04-10",
         23
        ],
        [
         "S48",
         "Sarah Taylor",
         "C107",
         "Big Data Analytics",
         "2024-01-08",
         46
        ],
        [
         "S9",
         "Alex Brown",
         "C108",
         "Mobile App Development",
         "2024-05-26",
         13
        ],
        [
         "S53",
         "Chris Hall",
         "C108",
         "Mobile App Development",
         "2024-03-22",
         15
        ],
        [
         "S91",
         "Laura Young",
         "C104",
         "Blockchain Basics",
         "2024-03-27",
         81
        ],
        [
         "S64",
         "David Clark",
         "C109",
         "Cybersecurity",
         "2024-03-17",
         63
        ],
        [
         "S5",
         "Sarah Smith",
         "C101",
         "Blockchain Basics",
         "2024-01-22",
         52
        ],
        [
         "S80",
         "Laura Smith",
         "C110",
         "Artificial Intelligence",
         "2024-01-20",
         79
        ],
        [
         "S76",
         "Alex Taylor",
         "C102",
         "Web Development",
         "2024-05-06",
         4
        ],
        [
         "S77",
         "John Taylor",
         "C107",
         "Big Data Analytics",
         "2024-02-06",
         47
        ],
        [
         "S45",
         "Laura Allen",
         "C105",
         "Python Programming",
         "2024-03-22",
         44
        ],
        [
         "S77",
         "John Taylor",
         "C104",
         "Blockchain Basics",
         "2024-03-30",
         37
        ],
        [
         "S25",
         "Alex Taylor",
         "C109",
         "Cybersecurity",
         "2024-05-25",
         61
        ],
        [
         "S27",
         "Emily Lee",
         "C104",
         "Blockchain Basics",
         "2024-04-01",
         62
        ],
        [
         "S36",
         "Jane Taylor",
         "C101",
         "Blockchain Basics",
         "2024-02-08",
         30
        ],
        [
         "S10",
         "Chris Young",
         "C101",
         "Blockchain Basics",
         "2024-04-01",
         13
        ],
        [
         "S76",
         "Alex Taylor",
         "C107",
         "Big Data Analytics",
         "2024-01-15",
         5
        ],
        [
         "S87",
         "Alex Lee",
         "C107",
         "Big Data Analytics",
         "2024-05-11",
         85
        ],
        [
         "S6",
         "Anna Johnson",
         "C110",
         "Artificial Intelligence",
         "2024-02-14",
         9
        ],
        [
         "S87",
         "Alex Lee",
         "C108",
         "Mobile App Development",
         "2024-05-29",
         16
        ],
        [
         "S22",
         "Alex Hall",
         "C101",
         "Blockchain Basics",
         "2024-04-19",
         37
        ],
        [
         "S94",
         "Chris Wilson",
         "C101",
         "Blockchain Basics",
         "2024-01-15",
         62
        ],
        [
         "S39",
         "Emily Brown",
         "C109",
         "Cybersecurity",
         "2024-03-06",
         84
        ],
        [
         "S35",
         "Anna Allen",
         "C102",
         "Web Development",
         "2024-01-13",
         63
        ],
        [
         "S39",
         "Emily Brown",
         "C102",
         "Web Development",
         "2024-04-11",
         45
        ],
        [
         "S57",
         "David Taylor",
         "C109",
         "Cybersecurity",
         "2024-02-23",
         6
        ],
        [
         "S63",
         "John Young",
         "C102",
         "Web Development",
         "2024-03-22",
         89
        ],
        [
         "S15",
         "Sarah Taylor",
         "C110",
         "Artificial Intelligence",
         "2024-02-17",
         61
        ],
        [
         "S39",
         "Emily Brown",
         "C105",
         "Python Programming",
         "2024-01-09",
         16
        ],
        [
         "S10",
         "Chris Young",
         "C106",
         "Web Development",
         "2024-05-17",
         93
        ],
        [
         "S13",
         "Tom Allen",
         "C107",
         "Big Data Analytics",
         "2024-02-24",
         59
        ],
        [
         "S48",
         "Sarah Taylor",
         "C104",
         "Blockchain Basics",
         "2024-04-14",
         56
        ],
        [
         "S65",
         "Sarah Clark",
         "C104",
         "Blockchain Basics",
         "2024-05-24",
         12
        ],
        [
         "S60",
         "Chris Johnson",
         "C105",
         "Python Programming",
         "2024-01-27",
         6
        ],
        [
         "S73",
         "David Wilson",
         "C103",
         "Blockchain Basics",
         "2024-05-29",
         95
        ],
        [
         "S91",
         "Laura Young",
         "C110",
         "Artificial Intelligence",
         "2024-01-16",
         83
        ],
        [
         "S58",
         "John Smith",
         "C101",
         "Blockchain Basics",
         "2024-02-27",
         36
        ],
        [
         "S46",
         "Emily Taylor",
         "C109",
         "Cybersecurity",
         "2024-02-14",
         37
        ],
        [
         "S99",
         "John Allen",
         "C109",
         "Cybersecurity",
         "2024-03-10",
         48
        ],
        [
         "S9",
         "Alex Brown",
         "C108",
         "Mobile App Development",
         "2024-01-20",
         13
        ],
        [
         "S54",
         "Chris Clark",
         "C110",
         "Artificial Intelligence",
         "2024-02-20",
         56
        ],
        [
         "S94",
         "Chris Wilson",
         "C110",
         "Artificial Intelligence",
         "2024-05-18",
         31
        ],
        [
         "S88",
         "Chris Taylor",
         "C103",
         "Blockchain Basics",
         "2024-04-05",
         2
        ],
        [
         "S100",
         "John Clark",
         "C105",
         "Python Programming",
         "2024-01-26",
         56
        ],
        [
         "S39",
         "Emily Brown",
         "C101",
         "Blockchain Basics",
         "2024-03-26",
         67
        ],
        [
         "S7",
         "Jane Brown",
         "C109",
         "Cybersecurity",
         "2024-03-04",
         69
        ],
        [
         "S5",
         "Sarah Smith",
         "C108",
         "Mobile App Development",
         "2024-05-09",
         81
        ],
        [
         "S66",
         "Emily Smith",
         "C102",
         "Web Development",
         "2024-04-10",
         62
        ],
        [
         "S95",
         "Chris Young",
         "C107",
         "Big Data Analytics",
         "2024-05-20",
         69
        ],
        [
         "S26",
         "Laura Hall",
         "C102",
         "Web Development",
         "2024-04-22",
         21
        ],
        [
         "S83",
         "Chris Wilson",
         "C106",
         "Web Development",
         "2024-02-20",
         88
        ],
        [
         "S28",
         "Jane Young",
         "C108",
         "Mobile App Development",
         "2024-03-06",
         28
        ],
        [
         "S97",
         "Anna Johnson",
         "C107",
         "Big Data Analytics",
         "2024-02-07",
         25
        ],
        [
         "S7",
         "Jane Brown",
         "C105",
         "Python Programming",
         "2024-01-16",
         82
        ],
        [
         "S56",
         "John Clark",
         "C105",
         "Python Programming",
         "2024-04-06",
         75
        ],
        [
         "S51",
         "Anna Wilson",
         "C107",
         "Big Data Analytics",
         "2024-05-27",
         42
        ],
        [
         "S39",
         "Emily Brown",
         "C109",
         "Cybersecurity",
         "2024-02-19",
         28
        ],
        [
         "S57",
         "David Taylor",
         "C109",
         "Cybersecurity",
         "2024-01-11",
         23
        ],
        [
         "S78",
         "Sarah Brown",
         "C101",
         "Blockchain Basics",
         "2024-05-03",
         32
        ],
        [
         "S2",
         "Chris Smith",
         "C104",
         "Blockchain Basics",
         "2024-01-12",
         49
        ],
        [
         "S10",
         "Chris Young",
         "C106",
         "Web Development",
         "2024-02-15",
         52
        ],
        [
         "S47",
         "Sarah Wilson",
         "C103",
         "Blockchain Basics",
         "2024-05-10",
         40
        ],
        [
         "S2",
         "Chris Smith",
         "C104",
         "Blockchain Basics",
         "2024-01-22",
         49
        ],
        [
         "S13",
         "Tom Allen",
         "C106",
         "Web Development",
         "2024-04-20",
         41
        ],
        [
         "S99",
         "John Allen",
         "C109",
         "Cybersecurity",
         "2024-03-23",
         90
        ],
        [
         "S13",
         "Tom Allen",
         "C106",
         "Web Development",
         "2024-01-17",
         41
        ],
        [
         "S78",
         "Sarah Brown",
         "C101",
         "Blockchain Basics",
         "2024-01-19",
         32
        ],
        [
         "S35",
         "Anna Allen",
         "C102",
         "Web Development",
         "2024-05-17",
         24
        ],
        [
         "S6",
         "Anna Johnson",
         "C110",
         "Artificial Intelligence",
         "2024-03-24",
         100
        ],
        [
         "S62",
         "Anna Wilson",
         "C110",
         "Artificial Intelligence",
         "2024-04-07",
         50
        ],
        [
         "S32",
         "David Clark",
         "C107",
         "Big Data Analytics",
         "2024-01-24",
         8
        ],
        [
         "S35",
         "Anna Allen",
         "C102",
         "Web Development",
         "2024-05-28",
         24
        ],
        [
         "S57",
         "David Taylor",
         "C109",
         "Cybersecurity",
         "2024-03-20",
         23
        ],
        [
         "S62",
         "Anna Wilson",
         "C110",
         "Artificial Intelligence",
         "2024-02-03",
         50
        ],
        [
         "S15",
         "Sarah Taylor",
         "C105",
         "Python Programming",
         "2024-02-02",
         50
        ],
        [
         "S47",
         "Sarah Wilson",
         "C103",
         "Blockchain Basics",
         "2024-05-07",
         40
        ],
        [
         "S32",
         "David Clark",
         "C107",
         "Big Data Analytics",
         "2024-03-19",
         8
        ],
        [
         "S91",
         "Laura Young",
         "C110",
         "Artificial Intelligence",
         "2024-02-10",
         4
        ],
        [
         "S15",
         "Sarah Taylor",
         "C105",
         "Python Programming",
         "2024-04-25",
         50
        ],
        [
         "S92",
         "Chris Allen",
         "C104",
         "Blockchain Basics",
         "2024-02-01",
         75
        ],
        [
         "S92",
         "Chris Allen",
         "C104",
         "Blockchain Basics",
         "2024-03-07",
         75
        ],
        [
         "S51",
         "Anna Wilson",
         "C107",
         "Big Data Analytics",
         "2024-04-10",
         42
        ],
        [
         "S9",
         "Alex Brown",
         "C108",
         "Mobile App Development",
         "2024-05-26",
         51
        ],
        [
         "S6",
         "Anna Johnson",
         "C110",
         "Artificial Intelligence",
         "2024-02-14",
         100
        ],
        [
         "S39",
         "Emily Brown",
         "C109",
         "Cybersecurity",
         "2024-03-06",
         28
        ],
        [
         "S35",
         "Anna Allen",
         "C102",
         "Web Development",
         "2024-01-13",
         24
        ],
        [
         "S57",
         "David Taylor",
         "C109",
         "Cybersecurity",
         "2024-02-23",
         23
        ],
        [
         "S10",
         "Chris Young",
         "C106",
         "Web Development",
         "2024-05-17",
         52
        ],
        [
         "S91",
         "Laura Young",
         "C110",
         "Artificial Intelligence",
         "2024-01-16",
         4
        ],
        [
         "S99",
         "John Allen",
         "C109",
         "Cybersecurity",
         "2024-03-10",
         90
        ],
        [
         "S9",
         "Alex Brown",
         "C108",
         "Mobile App Development",
         "2024-01-20",
         51
        ],
        [
         "S57",
         "David Taylor",
         "C109",
         "Cybersecurity",
         "2024-01-11",
         95
        ],
        [
         "S35",
         "Anna Allen",
         "C102",
         "Web Development",
         "2024-05-17",
         64
        ],
        [
         "S35",
         "Anna Allen",
         "C102",
         "Web Development",
         "2024-05-28",
         64
        ],
        [
         "S57",
         "David Taylor",
         "C109",
         "Cybersecurity",
         "2024-03-20",
         95
        ],
        [
         "S35",
         "Anna Allen",
         "C102",
         "Web Development",
         "2024-01-13",
         64
        ],
        [
         "S57",
         "David Taylor",
         "C109",
         "Cybersecurity",
         "2024-02-23",
         95
        ]
       ],
       "datasetInfos": [],
       "dbfsResultPath": null,
       "isJsonSchema": true,
       "metadata": {},
       "overflow": false,
       "plotOptions": {
        "customPlotOptions": {},
        "displayType": "table",
        "pivotAggregation": null,
        "pivotColumns": null,
        "xColumns": null,
        "yColumns": null
       },
       "removedWidgets": [],
       "schema": [
        {
         "metadata": "{}",
         "name": "student_id",
         "type": "\"string\""
        },
        {
         "metadata": "{}",
         "name": "student_name",
         "type": "\"string\""
        },
        {
         "metadata": "{}",
         "name": "course_id",
         "type": "\"string\""
        },
        {
         "metadata": "{}",
         "name": "course_name",
         "type": "\"string\""
        },
        {
         "metadata": "{}",
         "name": "enrollment_date",
         "type": "\"date\""
        },
        {
         "metadata": "{}",
         "name": "progress",
         "type": "\"integer\""
        }
       ],
       "type": "table"
      }
     },
     "output_type": "display_data"
    }
   ],
   "source": [
    "from pyspark.sql.functions import to_date,col\n",
    "\n",
    "final_table = final_df.select(\n",
    "    \"student_id\",\n",
    "    \"student_name\",\n",
    "    \"course_id\",\n",
    "    \"course_name\",\n",
    "    to_date(\"enrollment_date\").alias(\"enrollment_date\"),\n",
    "    col(\"completion\").cast(\"int\").alias(\"progress\")\n",
    ")\n",
    "\n",
    "final_table.display()\n"
   ]
  },
  {
   "cell_type": "code",
   "execution_count": 0,
   "metadata": {
    "application/vnd.databricks.v1+cell": {
     "cellMetadata": {
      "byteLimit": 2048000,
      "rowLimit": 10000
     },
     "inputWidgets": {},
     "nuid": "826d02e4-bf18-4434-9f9b-28658ab03f2b",
     "showTitle": false,
     "tableResultSettingsMap": {},
     "title": ""
    }
   },
   "outputs": [],
   "source": [
    "# Save as Delta\n",
    "final_table.write.format(\"delta\").mode(\"overwrite\").save(\"/mnt/final_output_course_progress_delta\")\n",
    "\n",
    "# Save as CSV (for dashboard tools)\n",
    "final_table.write.option(\"header\", True).mode(\"overwrite\").csv(\"/mnt/final_output_course_progress_csv\")\n"
   ]
  }
 ],
 "metadata": {
  "application/vnd.databricks.v1+notebook": {
   "computePreferences": null,
   "dashboards": [],
   "environmentMetadata": {
    "base_environment": "",
    "environment_version": "2"
   },
   "inputWidgetPreferences": null,
   "language": "python",
   "notebookMetadata": {
    "pythonIndentUnit": 4
   },
   "notebookName": "Final_Course",
   "widgets": {}
  },
  "language_info": {
   "name": "python"
  }
 },
 "nbformat": 4,
 "nbformat_minor": 0
}