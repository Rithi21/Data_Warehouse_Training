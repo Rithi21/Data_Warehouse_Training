{
  "nbformat": 4,
  "nbformat_minor": 0,
  "metadata": {
    "colab": {
      "provenance": []
    },
    "kernelspec": {
      "name": "python3",
      "display_name": "Python 3"
    },
    "language_info": {
      "name": "python"
    }
  },
  "cells": [
    {
      "cell_type": "code",
      "execution_count": 6,
      "metadata": {
        "colab": {
          "base_uri": "https://localhost:8080/"
        },
        "id": "IhSXneLgYhuI",
        "outputId": "1e1f99a0-3d3f-41ea-c534-2b76775e5190"
      },
      "outputs": [
        {
          "output_type": "stream",
          "name": "stdout",
          "text": [
            "Drive already mounted at /content/drive; to attempt to forcibly remount, call drive.mount(\"/content/drive\", force_remount=True).\n"
          ]
        }
      ],
      "source": [
        "from google.colab import drive\n",
        "drive.mount('/content/drive')"
      ]
    },
    {
      "cell_type": "code",
      "source": [
        "from pyspark.sql import SparkSession\n",
        "from pyspark.sql.functions import col, sum as _sum\n",
        "\n",
        "spark = SparkSession.builder.appName(\"InventoryManagement\").getOrCreate()\n",
        "\n",
        "# Load stock movements\n",
        "stock_df = spark.read.option(\"multiLine\", True).json(\"/content/drive/MyDrive/stock_movements.json\")\n",
        "stock_df.show()\n",
        "\n"
      ],
      "metadata": {
        "colab": {
          "base_uri": "https://localhost:8080/"
        },
        "id": "ChlOWhR6Yz-Q",
        "outputId": "51524534-bbb1-4306-dd8e-a97e633f1440"
      },
      "execution_count": 20,
      "outputs": [
        {
          "output_type": "stream",
          "name": "stdout",
          "text": [
            "+-------------------+-----------+-------------+----------+--------+---------------+------------------+------------+\n",
            "|      movement_date|movement_id|movement_type|product_id|quantity|         reason|          supplier|warehouse_id|\n",
            "+-------------------+-----------+-------------+----------+--------+---------------+------------------+------------+\n",
            "|2025-06-07T00:00:00|          1|          OUT|         5|      68|      New stock|       GadgetWorld|           4|\n",
            "|2025-06-16T00:00:00|          2|           IN|        10|      17| Damaged return|     TechGear Ltd.|           1|\n",
            "|2025-06-12T00:00:00|          3|           IN|         5|      30|    Replacement|OfficeSupplies Co.|           3|\n",
            "|2025-06-06T00:00:00|          4|           IN|         8|      48|    New product|     DailyUse Inc.|           1|\n",
            "|2025-06-07T00:00:00|          5|           IN|         2|     100|    New product|     DailyUse Inc.|           4|\n",
            "|2025-06-15T00:00:00|          6|           IN|         5|     104|        Restock|     DailyUse Inc.|           3|\n",
            "|2025-06-16T00:00:00|          7|          OUT|         5|     106|      New stock|WriteWell Supplies|           2|\n",
            "|2025-06-03T00:00:00|          8|          OUT|         3|      59|    Replacement|OfficeSupplies Co.|           3|\n",
            "|2025-06-15T00:00:00|          9|          OUT|        10|      15| Damaged return|OfficeSupplies Co.|           5|\n",
            "|2025-06-13T00:00:00|         10|           IN|         9|     106|      New stock|       GadgetWorld|           2|\n",
            "|2025-06-16T00:00:00|         11|           IN|         6|      33|  Initial stock|     TechGear Ltd.|           3|\n",
            "|2025-06-11T00:00:00|         12|          OUT|        10|      22|    Replacement|       GadgetWorld|           5|\n",
            "|2025-06-15T00:00:00|         13|          OUT|         8|      70|    New product|OfficeSupplies Co.|           3|\n",
            "|2025-06-16T00:00:00|         14|          OUT|         9|      55|     Bulk order|     DailyUse Inc.|           3|\n",
            "|2025-06-07T00:00:00|         15|           IN|         9|      95|      New stock|       GadgetWorld|           5|\n",
            "|2025-06-07T00:00:00|         16|           IN|        10|      33|Customer return|     TechGear Ltd.|           2|\n",
            "|2025-06-05T00:00:00|         17|          OUT|         3|      50| Damaged return|WriteWell Supplies|           5|\n",
            "|2025-06-12T00:00:00|         18|          OUT|        10|      52|        Restock|OfficeSupplies Co.|           5|\n",
            "|2025-06-03T00:00:00|         19|          OUT|         7|     108| Damaged return|WriteWell Supplies|           4|\n",
            "|2025-06-10T00:00:00|         20|           IN|         8|     115|    New product|     TechGear Ltd.|           4|\n",
            "+-------------------+-----------+-------------+----------+--------+---------------+------------------+------------+\n",
            "only showing top 20 rows\n",
            "\n"
          ]
        }
      ]
    },
    {
      "cell_type": "code",
      "source": [
        "# Filter only 'IN' and 'OUT' separately\n",
        "in_stock = stock_df.filter(col(\"movement_type\") == \"IN\") \\\n",
        "    .groupBy(\"warehouse_id\", \"product_id\") \\\n",
        "    .agg(_sum(\"quantity\").alias(\"in_quantity\"))\n",
        "\n",
        "out_stock = stock_df.filter(col(\"movement_type\") == \"OUT\") \\\n",
        "    .groupBy(\"warehouse_id\", \"product_id\") \\\n",
        "    .agg(_sum(\"quantity\").alias(\"out_quantity\"))\n",
        "\n",
        "# Join IN and OUT to compute net stock\n",
        "stock_summary = in_stock.join(out_stock, [\"warehouse_id\", \"product_id\"], \"outer\") \\\n",
        "    .fillna(0) \\\n",
        "    .withColumn(\"net_stock\", col(\"in_quantity\") - col(\"out_quantity\"))\n",
        "\n",
        "stock_summary.show()\n"
      ],
      "metadata": {
        "colab": {
          "base_uri": "https://localhost:8080/"
        },
        "id": "vaUIQt-0aALu",
        "outputId": "1b4e14c6-247b-45c9-d7df-1ac255b44ec6"
      },
      "execution_count": 21,
      "outputs": [
        {
          "output_type": "stream",
          "name": "stdout",
          "text": [
            "+------------+----------+-----------+------------+---------+\n",
            "|warehouse_id|product_id|in_quantity|out_quantity|net_stock|\n",
            "+------------+----------+-----------+------------+---------+\n",
            "|           1|         1|         70|           0|       70|\n",
            "|           1|         3|          0|          96|      -96|\n",
            "|           1|         4|          0|          79|      -79|\n",
            "|           1|         6|          0|          52|      -52|\n",
            "|           1|         8|         48|           0|       48|\n",
            "|           1|        10|         61|          34|       27|\n",
            "|           2|         1|          0|         123|     -123|\n",
            "|           2|         2|          0|         133|     -133|\n",
            "|           2|         3|        102|           0|      102|\n",
            "|           2|         4|          0|          82|      -82|\n",
            "|           2|         5|          0|         106|     -106|\n",
            "|           2|         9|        140|          99|       41|\n",
            "|           2|        10|         33|           0|       33|\n",
            "|           3|         3|          0|          59|      -59|\n",
            "|           3|         5|        134|           0|      134|\n",
            "|           3|         6|         67|           0|       67|\n",
            "|           3|         7|          0|         110|     -110|\n",
            "|           3|         8|         49|          70|      -21|\n",
            "|           3|         9|          0|          55|      -55|\n",
            "|           3|        10|         54|           0|       54|\n",
            "+------------+----------+-----------+------------+---------+\n",
            "only showing top 20 rows\n",
            "\n"
          ]
        }
      ]
    },
    {
      "cell_type": "code",
      "source": [
        "# Load products with reorder level\n",
        "products_df = spark.read.csv(\"/content/drive/MyDrive/products.csv\", header=True, inferSchema=True)\n",
        "\n",
        "# Load warehouses with capacity\n",
        "warehouses_df = spark.read.csv(\"/content/drive/MyDrive/warehouses.csv\", header=True, inferSchema=True)\n"
      ],
      "metadata": {
        "id": "OvruQ0GvaLDB"
      },
      "execution_count": 22,
      "outputs": []
    },
    {
      "cell_type": "code",
      "source": [
        "from pyspark.sql.functions import when, col\n",
        "\n",
        "enriched_df = stock_summary.join(products_df.select(\"product_id\", \"name\", \"reorder_level\"), \"product_id\") \\\n",
        "    .join(warehouses_df.select(\"warehouse_id\", \"location\", \"capacity\"), \"warehouse_id\")\n",
        "\n",
        "# Flag stock status\n",
        "enriched_df = enriched_df.withColumn(\n",
        "    \"status\",\n",
        "    when(col(\"net_stock\") < col(\"reorder_level\"), \"Understocked\")\n",
        "    .when(col(\"net_stock\") > col(\"capacity\"), \"Overstocked\")\n",
        "    .otherwise(\"OK\")\n",
        ")\n",
        "\n",
        "enriched_df.select(\"warehouse_id\", \"location\", \"product_id\", \"name\", \"net_stock\", \"status\").show()\n",
        "\n"
      ],
      "metadata": {
        "colab": {
          "base_uri": "https://localhost:8080/"
        },
        "id": "-jveuqmvaWv1",
        "outputId": "0a05b04d-b5a3-4362-ea4a-16668c4b7a94"
      },
      "execution_count": 23,
      "outputs": [
        {
          "output_type": "stream",
          "name": "stdout",
          "text": [
            "+------------+---------+----------+------------+---------+------------+\n",
            "|warehouse_id| location|product_id|        name|net_stock|      status|\n",
            "+------------+---------+----------+------------+---------+------------+\n",
            "|           1|  Chennai|         1|    Notebook|       70|          OK|\n",
            "|           1|  Chennai|         3|       Mouse|      -96|Understocked|\n",
            "|           1|  Chennai|         4|    Keyboard|      -79|Understocked|\n",
            "|           1|  Chennai|         6|Office Chair|      -52|Understocked|\n",
            "|           1|  Chennai|         8| File Folder|       48|          OK|\n",
            "|           1|  Chennai|        10|Sticky Notes|       27|Understocked|\n",
            "|           2|Bangalore|         1|    Notebook|     -123|Understocked|\n",
            "|           2|Bangalore|         2|         Pen|     -133|Understocked|\n",
            "|           2|Bangalore|         3|       Mouse|      102|          OK|\n",
            "|           2|Bangalore|         4|    Keyboard|      -82|Understocked|\n",
            "|           2|Bangalore|         5|   USB Drive|     -106|Understocked|\n",
            "|           2|Bangalore|         9|     Charger|       41|          OK|\n",
            "|           2|Bangalore|        10|Sticky Notes|       33|Understocked|\n",
            "|           3|Hyderabad|         3|       Mouse|      -59|Understocked|\n",
            "|           3|Hyderabad|         5|   USB Drive|      134|          OK|\n",
            "|           3|Hyderabad|         6|Office Chair|       67|          OK|\n",
            "|           3|Hyderabad|         7|       Table|     -110|Understocked|\n",
            "|           3|Hyderabad|         8| File Folder|      -21|Understocked|\n",
            "|           3|Hyderabad|         9|     Charger|      -55|Understocked|\n",
            "|           3|Hyderabad|        10|Sticky Notes|       54|          OK|\n",
            "+------------+---------+----------+------------+---------+------------+\n",
            "only showing top 20 rows\n",
            "\n"
          ]
        }
      ]
    },
    {
      "cell_type": "code",
      "source": [
        "# Save report to CSV\n",
        "enriched_df.select(\"warehouse_id\", \"location\", \"product_id\", \"name\", \"net_stock\", \"status\") \\\n",
        "    .write.mode(\"overwrite\").csv(\"warehouse_stock_report\", header=True)\n"
      ],
      "metadata": {
        "id": "QZ_E3up2aaBs"
      },
      "execution_count": 24,
      "outputs": []
    },
    {
      "cell_type": "code",
      "source": [
        "df = spark.read.option(\"header\", True).csv(\"warehouse_stock_report\")\n",
        "df.show()\n"
      ],
      "metadata": {
        "colab": {
          "base_uri": "https://localhost:8080/"
        },
        "id": "hI4op2kxm0fA",
        "outputId": "3d592400-4cd0-46fe-c0e6-f6ac181b99d9"
      },
      "execution_count": 25,
      "outputs": [
        {
          "output_type": "stream",
          "name": "stdout",
          "text": [
            "+------------+---------+----------+------------+---------+------------+\n",
            "|warehouse_id| location|product_id|        name|net_stock|      status|\n",
            "+------------+---------+----------+------------+---------+------------+\n",
            "|           1|  Chennai|         1|    Notebook|       70|          OK|\n",
            "|           1|  Chennai|         3|       Mouse|      -96|Understocked|\n",
            "|           1|  Chennai|         4|    Keyboard|      -79|Understocked|\n",
            "|           1|  Chennai|         6|Office Chair|      -52|Understocked|\n",
            "|           1|  Chennai|         8| File Folder|       48|          OK|\n",
            "|           1|  Chennai|        10|Sticky Notes|       27|Understocked|\n",
            "|           2|Bangalore|         1|    Notebook|     -123|Understocked|\n",
            "|           2|Bangalore|         2|         Pen|     -133|Understocked|\n",
            "|           2|Bangalore|         3|       Mouse|      102|          OK|\n",
            "|           2|Bangalore|         4|    Keyboard|      -82|Understocked|\n",
            "|           2|Bangalore|         5|   USB Drive|     -106|Understocked|\n",
            "|           2|Bangalore|         9|     Charger|       41|          OK|\n",
            "|           2|Bangalore|        10|Sticky Notes|       33|Understocked|\n",
            "|           3|Hyderabad|         3|       Mouse|      -59|Understocked|\n",
            "|           3|Hyderabad|         5|   USB Drive|      134|          OK|\n",
            "|           3|Hyderabad|         6|Office Chair|       67|          OK|\n",
            "|           3|Hyderabad|         7|       Table|     -110|Understocked|\n",
            "|           3|Hyderabad|         8| File Folder|      -21|Understocked|\n",
            "|           3|Hyderabad|         9|     Charger|      -55|Understocked|\n",
            "|           3|Hyderabad|        10|Sticky Notes|       54|          OK|\n",
            "+------------+---------+----------+------------+---------+------------+\n",
            "only showing top 20 rows\n",
            "\n"
          ]
        }
      ]
    },
    {
      "cell_type": "code",
      "source": [
        "# Merge into single CSV file\n",
        "!cat warehouse_stock_report/part-*.csv > warehouse_stock_report.csv\n",
        "\n",
        "# Download from Google Colab\n",
        "from google.colab import files\n",
        "files.download(\"warehouse_stock_report.csv\")\n"
      ],
      "metadata": {
        "colab": {
          "base_uri": "https://localhost:8080/",
          "height": 17
        },
        "id": "haPytvdgm7fk",
        "outputId": "aa6454b5-0bc5-4e9f-c245-788d945e1b13"
      },
      "execution_count": 26,
      "outputs": [
        {
          "output_type": "display_data",
          "data": {
            "text/plain": [
              "<IPython.core.display.Javascript object>"
            ],
            "application/javascript": [
              "\n",
              "    async function download(id, filename, size) {\n",
              "      if (!google.colab.kernel.accessAllowed) {\n",
              "        return;\n",
              "      }\n",
              "      const div = document.createElement('div');\n",
              "      const label = document.createElement('label');\n",
              "      label.textContent = `Downloading \"${filename}\": `;\n",
              "      div.appendChild(label);\n",
              "      const progress = document.createElement('progress');\n",
              "      progress.max = size;\n",
              "      div.appendChild(progress);\n",
              "      document.body.appendChild(div);\n",
              "\n",
              "      const buffers = [];\n",
              "      let downloaded = 0;\n",
              "\n",
              "      const channel = await google.colab.kernel.comms.open(id);\n",
              "      // Send a message to notify the kernel that we're ready.\n",
              "      channel.send({})\n",
              "\n",
              "      for await (const message of channel.messages) {\n",
              "        // Send a message to notify the kernel that we're ready.\n",
              "        channel.send({})\n",
              "        if (message.buffers) {\n",
              "          for (const buffer of message.buffers) {\n",
              "            buffers.push(buffer);\n",
              "            downloaded += buffer.byteLength;\n",
              "            progress.value = downloaded;\n",
              "          }\n",
              "        }\n",
              "      }\n",
              "      const blob = new Blob(buffers, {type: 'application/binary'});\n",
              "      const a = document.createElement('a');\n",
              "      a.href = window.URL.createObjectURL(blob);\n",
              "      a.download = filename;\n",
              "      div.appendChild(a);\n",
              "      a.click();\n",
              "      div.remove();\n",
              "    }\n",
              "  "
            ]
          },
          "metadata": {}
        },
        {
          "output_type": "display_data",
          "data": {
            "text/plain": [
              "<IPython.core.display.Javascript object>"
            ],
            "application/javascript": [
              "download(\"download_46f8469b-1757-4cc6-a896-9a7067f63c61\", \"warehouse_stock_report.csv\", 1135)"
            ]
          },
          "metadata": {}
        }
      ]
    }
  ]
}