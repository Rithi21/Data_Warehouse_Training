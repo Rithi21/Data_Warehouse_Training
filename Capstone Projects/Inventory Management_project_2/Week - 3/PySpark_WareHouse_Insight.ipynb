{
  "nbformat": 4,
  "nbformat_minor": 0,
  "metadata": {
    "colab": {
      "provenance": []
    },
    "kernelspec": {
      "name": "python3",
      "display_name": "Python 3"
    },
    "language_info": {
      "name": "python"
    }
  },
  "cells": [
    {
      "cell_type": "code",
      "execution_count": null,
      "metadata": {
        "colab": {
          "base_uri": "https://localhost:8080/"
        },
        "id": "IhSXneLgYhuI",
        "outputId": "45f92212-e1b3-412f-d5fa-e7c856b92f97"
      },
      "outputs": [
        {
          "output_type": "stream",
          "name": "stdout",
          "text": [
            "Mounted at /content/drive\n"
          ]
        }
      ],
      "source": [
        "from google.colab import drive\n",
        "drive.mount('/content/drive')"
      ]
    },
    {
      "cell_type": "code",
      "source": [
        "from pyspark.sql import SparkSession\n",
        "from pyspark.sql.functions import col, sum as _sum\n",
        "\n",
        "spark = SparkSession.builder.appName(\"InventoryManagement\").getOrCreate()\n",
        "\n",
        "# Load stock movements\n",
        "stock_df = spark.read.option(\"multiLine\", True).json(\"/content/drive/MyDrive/stock_movements.json\")\n",
        "stock_df.show()\n",
        "\n"
      ],
      "metadata": {
        "colab": {
          "base_uri": "https://localhost:8080/"
        },
        "id": "ChlOWhR6Yz-Q",
        "outputId": "72921ef1-c15f-4814-a113-b47e1e043d0b"
      },
      "execution_count": null,
      "outputs": [
        {
          "output_type": "stream",
          "name": "stdout",
          "text": [
            "+-------------------+-----------+-------------+----------+--------+---------------+------------------+------------+\n",
            "|      movement_date|movement_id|movement_type|product_id|quantity|         reason|          supplier|warehouse_id|\n",
            "+-------------------+-----------+-------------+----------+--------+---------------+------------------+------------+\n",
            "|2025-06-07T00:00:00|          1|           IN|         5|      68|      New stock|       GadgetWorld|           4|\n",
            "|2025-06-16T00:00:00|          2|           IN|        10|      17| Damaged return|     TechGear Ltd.|           1|\n",
            "|2025-06-12T00:00:00|          3|           IN|         5|      30|    Replacement|OfficeSupplies Co.|           3|\n",
            "|2025-06-06T00:00:00|          4|           IN|         8|      48|    New product|     DailyUse Inc.|           1|\n",
            "|2025-06-07T00:00:00|          5|           IN|         2|     100|    New product|     DailyUse Inc.|           4|\n",
            "|2025-06-15T00:00:00|          6|           IN|         5|     104|        Restock|     DailyUse Inc.|           3|\n",
            "|2025-06-16T00:00:00|          7|          OUT|         5|     106|      New stock|WriteWell Supplies|           2|\n",
            "|2025-06-03T00:00:00|          8|          OUT|         3|      59|    Replacement|OfficeSupplies Co.|           3|\n",
            "|2025-06-15T00:00:00|          9|          OUT|        10|      15| Damaged return|OfficeSupplies Co.|           5|\n",
            "|2025-06-13T00:00:00|         10|           IN|         9|     106|      New stock|       GadgetWorld|           2|\n",
            "|2025-06-16T00:00:00|         11|           IN|         6|      33|  Initial stock|     TechGear Ltd.|           3|\n",
            "|2025-06-11T00:00:00|         12|          OUT|        10|      22|    Replacement|       GadgetWorld|           5|\n",
            "|2025-06-15T00:00:00|         13|           IN|         8|      70|    New product|OfficeSupplies Co.|           3|\n",
            "|2025-06-16T00:00:00|         14|           IN|         9|      55|     Bulk order|     DailyUse Inc.|           3|\n",
            "|2025-06-07T00:00:00|         15|           IN|         9|      95|      New stock|       GadgetWorld|           5|\n",
            "|2025-06-07T00:00:00|         16|          OUT|        10|      33|Customer return|     TechGear Ltd.|           2|\n",
            "|2025-06-05T00:00:00|         17|          OUT|         3|      50| Damaged return|WriteWell Supplies|           5|\n",
            "|2025-06-12T00:00:00|         18|           IN|        10|      52|        Restock|OfficeSupplies Co.|           5|\n",
            "|2025-06-03T00:00:00|         19|          OUT|         7|     108| Damaged return|WriteWell Supplies|           4|\n",
            "|2025-06-10T00:00:00|         20|           IN|         8|     115|    New product|     TechGear Ltd.|           4|\n",
            "+-------------------+-----------+-------------+----------+--------+---------------+------------------+------------+\n",
            "only showing top 20 rows\n",
            "\n"
          ]
        }
      ]
    },
    {
      "cell_type": "code",
      "source": [
        "# Filter only 'IN' and 'OUT' separately\n",
        "in_stock = stock_df.filter(col(\"movement_type\") == \"IN\") \\\n",
        "    .groupBy(\"warehouse_id\", \"product_id\") \\\n",
        "    .agg(_sum(\"quantity\").alias(\"in_quantity\"))\n",
        "\n",
        "out_stock = stock_df.filter(col(\"movement_type\") == \"OUT\") \\\n",
        "    .groupBy(\"warehouse_id\", \"product_id\") \\\n",
        "    .agg(_sum(\"quantity\").alias(\"out_quantity\"))\n",
        "\n",
        "# Join IN and OUT to compute net stock\n",
        "stock_summary = in_stock.join(out_stock, [\"warehouse_id\", \"product_id\"], \"outer\") \\\n",
        "    .fillna(0) \\\n",
        "    .withColumn(\"net_stock\", col(\"in_quantity\") - col(\"out_quantity\"))\n",
        "\n",
        "stock_summary.show()\n"
      ],
      "metadata": {
        "colab": {
          "base_uri": "https://localhost:8080/"
        },
        "id": "vaUIQt-0aALu",
        "outputId": "40267585-df36-4adc-9dae-42500ae8b670"
      },
      "execution_count": null,
      "outputs": [
        {
          "output_type": "stream",
          "name": "stdout",
          "text": [
            "+------------+----------+-----------+------------+---------+\n",
            "|warehouse_id|product_id|in_quantity|out_quantity|net_stock|\n",
            "+------------+----------+-----------+------------+---------+\n",
            "|           1|         1|         70|           0|       70|\n",
            "|           1|         3|         96|           0|       96|\n",
            "|           1|         4|          0|          79|      -79|\n",
            "|           1|         6|         52|           0|       52|\n",
            "|           1|         8|         48|           0|       48|\n",
            "|           1|        10|         61|          34|       27|\n",
            "|           2|         1|        110|          13|       97|\n",
            "|           2|         2|          0|         133|     -133|\n",
            "|           2|         3|        102|           0|      102|\n",
            "|           2|         4|          0|          82|      -82|\n",
            "|           2|         5|          0|         106|     -106|\n",
            "|           2|         9|        205|          34|      171|\n",
            "|           2|        10|          0|          33|      -33|\n",
            "|           3|         3|          0|          59|      -59|\n",
            "|           3|         5|        134|           0|      134|\n",
            "|           3|         6|         67|           0|       67|\n",
            "|           3|         7|          0|         110|     -110|\n",
            "|           3|         8|        119|           0|      119|\n",
            "|           3|         9|         55|           0|       55|\n",
            "|           3|        10|         54|           0|       54|\n",
            "+------------+----------+-----------+------------+---------+\n",
            "only showing top 20 rows\n",
            "\n"
          ]
        }
      ]
    },
    {
      "cell_type": "code",
      "source": [
        "# Load products with reorder level\n",
        "products_df = spark.read.csv(\"/content/drive/MyDrive/products.csv\", header=True, inferSchema=True)\n",
        "\n",
        "# Load warehouses with capacity\n",
        "warehouses_df = spark.read.csv(\"/content/drive/MyDrive/warehouses.csv\", header=True, inferSchema=True)\n"
      ],
      "metadata": {
        "id": "OvruQ0GvaLDB"
      },
      "execution_count": null,
      "outputs": []
    },
    {
      "cell_type": "code",
      "source": [
        "from pyspark.sql.functions import when, col\n",
        "\n",
        "final_df = stock_summary.join(products_df.select(\"product_id\", \"name\", \"reorder_level\"), \"product_id\") \\\n",
        "    .join(warehouses_df.select(\"warehouse_id\", \"location\", \"capacity\"), \"warehouse_id\")\n",
        "\n",
        "# Flag stock status\n",
        "final_df = final_df.withColumn(\n",
        "    \"status\",\n",
        "    when(col(\"net_stock\") < col(\"reorder_level\"), \"Understocked\")\n",
        "    .when(col(\"net_stock\") > col(\"capacity\"), \"Overstocked\")\n",
        "    .otherwise(\"OK\")\n",
        ")\n",
        "\n",
        "final_df.select(\"warehouse_id\", \"location\", \"product_id\", \"name\", \"net_stock\", \"status\").show()\n",
        "\n"
      ],
      "metadata": {
        "colab": {
          "base_uri": "https://localhost:8080/"
        },
        "id": "-jveuqmvaWv1",
        "outputId": "ee50bec8-9931-4467-88ac-77ef7bc07694"
      },
      "execution_count": 19,
      "outputs": [
        {
          "output_type": "stream",
          "name": "stdout",
          "text": [
            "+------------+---------+----------+------------+---------+------------+\n",
            "|warehouse_id| location|product_id|        name|net_stock|      status|\n",
            "+------------+---------+----------+------------+---------+------------+\n",
            "|           1|  Chennai|         1|    Notebook|       70|          OK|\n",
            "|           1|  Chennai|         3|       Mouse|       96|          OK|\n",
            "|           1|  Chennai|         4|    Keyboard|      -79|Understocked|\n",
            "|           1|  Chennai|         6|Office Chair|       52|          OK|\n",
            "|           1|  Chennai|         8| File Folder|       48|          OK|\n",
            "|           1|  Chennai|        10|Sticky Notes|       27|Understocked|\n",
            "|           2|Bangalore|         1|    Notebook|       97|          OK|\n",
            "|           2|Bangalore|         2|         Pen|     -133|Understocked|\n",
            "|           2|Bangalore|         3|       Mouse|      102|          OK|\n",
            "|           2|Bangalore|         4|    Keyboard|      -82|Understocked|\n",
            "|           2|Bangalore|         5|   USB Drive|     -106|Understocked|\n",
            "|           2|Bangalore|         9|     Charger|      171|          OK|\n",
            "|           2|Bangalore|        10|Sticky Notes|      -33|Understocked|\n",
            "|           3|Hyderabad|         3|       Mouse|      -59|Understocked|\n",
            "|           3|Hyderabad|         5|   USB Drive|      134|          OK|\n",
            "|           3|Hyderabad|         6|Office Chair|       67|          OK|\n",
            "|           3|Hyderabad|         7|       Table|     -110|Understocked|\n",
            "|           3|Hyderabad|         8| File Folder|      119|          OK|\n",
            "|           3|Hyderabad|         9|     Charger|       55|          OK|\n",
            "|           3|Hyderabad|        10|Sticky Notes|       54|          OK|\n",
            "+------------+---------+----------+------------+---------+------------+\n",
            "only showing top 20 rows\n",
            "\n"
          ]
        }
      ]
    },
    {
      "cell_type": "code",
      "source": [
        "# Save report to CSV\n",
        "final_df.select(\"warehouse_id\", \"location\", \"product_id\", \"name\", \"net_stock\", \"status\") \\\n",
        "    .write.mode(\"overwrite\").csv(\"warehouse_stock_report\", header=True)\n"
      ],
      "metadata": {
        "id": "QZ_E3up2aaBs"
      },
      "execution_count": null,
      "outputs": []
    },
    {
      "cell_type": "code",
      "source": [
        "df = spark.read.option(\"header\", True).csv(\"warehouse_stock_report\")\n",
        "df.show()\n"
      ],
      "metadata": {
        "colab": {
          "base_uri": "https://localhost:8080/"
        },
        "id": "hI4op2kxm0fA",
        "outputId": "9b4f0700-ac88-4502-9202-eb77474aa4a3"
      },
      "execution_count": null,
      "outputs": [
        {
          "output_type": "stream",
          "name": "stdout",
          "text": [
            "+------------+---------+----------+------------+---------+------------+\n",
            "|warehouse_id| location|product_id|        name|net_stock|      status|\n",
            "+------------+---------+----------+------------+---------+------------+\n",
            "|           1|  Chennai|         1|    Notebook|       70|          OK|\n",
            "|           1|  Chennai|         3|       Mouse|       96|          OK|\n",
            "|           1|  Chennai|         4|    Keyboard|      -79|Understocked|\n",
            "|           1|  Chennai|         6|Office Chair|       52|          OK|\n",
            "|           1|  Chennai|         8| File Folder|       48|          OK|\n",
            "|           1|  Chennai|        10|Sticky Notes|       27|Understocked|\n",
            "|           2|Bangalore|         1|    Notebook|       97|          OK|\n",
            "|           2|Bangalore|         2|         Pen|     -133|Understocked|\n",
            "|           2|Bangalore|         3|       Mouse|      102|          OK|\n",
            "|           2|Bangalore|         4|    Keyboard|      -82|Understocked|\n",
            "|           2|Bangalore|         5|   USB Drive|     -106|Understocked|\n",
            "|           2|Bangalore|         9|     Charger|      171|          OK|\n",
            "|           2|Bangalore|        10|Sticky Notes|      -33|Understocked|\n",
            "|           3|Hyderabad|         3|       Mouse|      -59|Understocked|\n",
            "|           3|Hyderabad|         5|   USB Drive|      134|          OK|\n",
            "|           3|Hyderabad|         6|Office Chair|       67|          OK|\n",
            "|           3|Hyderabad|         7|       Table|     -110|Understocked|\n",
            "|           3|Hyderabad|         8| File Folder|      119|          OK|\n",
            "|           3|Hyderabad|         9|     Charger|       55|          OK|\n",
            "|           3|Hyderabad|        10|Sticky Notes|       54|          OK|\n",
            "+------------+---------+----------+------------+---------+------------+\n",
            "only showing top 20 rows\n",
            "\n"
          ]
        }
      ]
    },
    {
      "cell_type": "code",
      "source": [
        "# Merge into single CSV file\n",
        "!cat warehouse_stock_report/part-*.csv > warehouse_stock_report.csv\n",
        "\n",
        "# Download from Google Colab\n",
        "from google.colab import files\n",
        "files.download(\"warehouse_stock_report.csv\")\n"
      ],
      "metadata": {
        "colab": {
          "base_uri": "https://localhost:8080/",
          "height": 17
        },
        "id": "haPytvdgm7fk",
        "outputId": "db17a0e7-ceb3-4062-c9b6-1a5de70bc65f"
      },
      "execution_count": null,
      "outputs": [
        {
          "output_type": "display_data",
          "data": {
            "text/plain": [
              "<IPython.core.display.Javascript object>"
            ],
            "application/javascript": [
              "\n",
              "    async function download(id, filename, size) {\n",
              "      if (!google.colab.kernel.accessAllowed) {\n",
              "        return;\n",
              "      }\n",
              "      const div = document.createElement('div');\n",
              "      const label = document.createElement('label');\n",
              "      label.textContent = `Downloading \"${filename}\": `;\n",
              "      div.appendChild(label);\n",
              "      const progress = document.createElement('progress');\n",
              "      progress.max = size;\n",
              "      div.appendChild(progress);\n",
              "      document.body.appendChild(div);\n",
              "\n",
              "      const buffers = [];\n",
              "      let downloaded = 0;\n",
              "\n",
              "      const channel = await google.colab.kernel.comms.open(id);\n",
              "      // Send a message to notify the kernel that we're ready.\n",
              "      channel.send({})\n",
              "\n",
              "      for await (const message of channel.messages) {\n",
              "        // Send a message to notify the kernel that we're ready.\n",
              "        channel.send({})\n",
              "        if (message.buffers) {\n",
              "          for (const buffer of message.buffers) {\n",
              "            buffers.push(buffer);\n",
              "            downloaded += buffer.byteLength;\n",
              "            progress.value = downloaded;\n",
              "          }\n",
              "        }\n",
              "      }\n",
              "      const blob = new Blob(buffers, {type: 'application/binary'});\n",
              "      const a = document.createElement('a');\n",
              "      a.href = window.URL.createObjectURL(blob);\n",
              "      a.download = filename;\n",
              "      div.appendChild(a);\n",
              "      a.click();\n",
              "      div.remove();\n",
              "    }\n",
              "  "
            ]
          },
          "metadata": {}
        },
        {
          "output_type": "display_data",
          "data": {
            "text/plain": [
              "<IPython.core.display.Javascript object>"
            ],
            "application/javascript": [
              "download(\"download_6d086fea-b23c-4f20-9d2d-34e77a2d9060\", \"warehouse_stock_report.csv\", 1058)"
            ]
          },
          "metadata": {}
        }
      ]
    }
  ]
}