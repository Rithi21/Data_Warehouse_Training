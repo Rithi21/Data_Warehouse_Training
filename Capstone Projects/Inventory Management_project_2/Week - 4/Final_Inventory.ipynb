{
 "cells": [
  {
   "cell_type": "code",
   "execution_count": 0,
   "metadata": {
    "application/vnd.databricks.v1+cell": {
     "cellMetadata": {
      "byteLimit": 2048000,
      "rowLimit": 10000
     },
     "inputWidgets": {},
     "nuid": "c01a6194-b5fe-4b30-a7a3-f17311c1d2f6",
     "showTitle": false,
     "tableResultSettingsMap": {},
     "title": ""
    }
   },
   "outputs": [],
   "source": [
    "from pyspark.sql import SparkSession\n",
    "from pyspark.sql.functions import when, col\n",
    "\n",
    "spark = SparkSession.builder.appName(\"Inventory_Management\").getOrCreate()\n",
    "\n",
    "# Load Product\n",
    "products_df = spark.read.option(\"header\", True).csv(\"file:/Workspace/Shared/products.csv\", inferSchema=True)\n",
    "\n",
    "# Load Warehouse Stock Report\n",
    "stock_df = spark.read.option(\"header\", True).csv(\"file:/Workspace/Shared/warehouse_stock_report.csv\", inferSchema=True)\n",
    "\n"
   ]
  },
  {
   "cell_type": "code",
   "execution_count": 0,
   "metadata": {
    "application/vnd.databricks.v1+cell": {
     "cellMetadata": {
      "byteLimit": 2048000,
      "rowLimit": 10000
     },
     "inputWidgets": {},
     "nuid": "7c37011e-1e41-468e-8f2c-abfc08c9f8f1",
     "showTitle": false,
     "tableResultSettingsMap": {},
     "title": ""
    }
   },
   "outputs": [
    {
     "output_type": "stream",
     "name": "stdout",
     "output_type": "stream",
     "text": [
      "+----------+------------+-----------+-----------------+-------------+-----+\n|product_id|        name|   category|quantity_in_stock|reorder_level|price|\n+----------+------------+-----------+-----------------+-------------+-----+\n|         1|    Notebook| Stationery|              100|           20| 45.5|\n|         2|         Pen| Stationery|              300|           50| 10.0|\n|         3|       Mouse|Electronics|               50|           15|350.0|\n|         4|    Keyboard|Electronics|               30|           10|550.0|\n|         5|   USB Drive|Electronics|               70|           25|250.0|\n|         6|Office Chair|  Furniture|               60|           10|120.0|\n|         7|       Table|  Furniture|               20|            5|750.0|\n|         8| File Folder| Stationery|               80|           20| 15.0|\n|         9|     Charger|Electronics|               25|           10|500.0|\n|        10|Sticky Notes| Stationery|              200|           50|  5.0|\n+----------+------------+-----------+-----------------+-------------+-----+\n\n"
     ]
    },
    {
     "output_type": "display_data",
     "data": {
      "text/html": [
       "<style scoped>\n",
       "  .table-result-container {\n",
       "    max-height: 300px;\n",
       "    overflow: auto;\n",
       "  }\n",
       "  table, th, td {\n",
       "    border: 1px solid black;\n",
       "    border-collapse: collapse;\n",
       "  }\n",
       "  th, td {\n",
       "    padding: 5px;\n",
       "  }\n",
       "  th {\n",
       "    text-align: left;\n",
       "  }\n",
       "</style><div class='table-result-container'><table class='table-result'><thead style='background-color: white'><tr><th>warehouse_id</th><th>location</th><th>product_id</th><th>name</th><th>net_stock</th><th>status</th></tr></thead><tbody><tr><td>1</td><td>Chennai</td><td>1</td><td>Notebook</td><td>70</td><td>OK</td></tr><tr><td>1</td><td>Chennai</td><td>3</td><td>Mouse</td><td>96</td><td>OK</td></tr><tr><td>1</td><td>Chennai</td><td>4</td><td>Keyboard</td><td>-79</td><td>Understocked</td></tr><tr><td>1</td><td>Chennai</td><td>6</td><td>Office Chair</td><td>52</td><td>OK</td></tr><tr><td>1</td><td>Chennai</td><td>8</td><td>File Folder</td><td>48</td><td>OK</td></tr><tr><td>1</td><td>Chennai</td><td>10</td><td>Sticky Notes</td><td>27</td><td>Understocked</td></tr><tr><td>2</td><td>Bangalore</td><td>1</td><td>Notebook</td><td>97</td><td>OK</td></tr><tr><td>2</td><td>Bangalore</td><td>2</td><td>Pen</td><td>-133</td><td>Understocked</td></tr><tr><td>2</td><td>Bangalore</td><td>3</td><td>Mouse</td><td>102</td><td>OK</td></tr><tr><td>2</td><td>Bangalore</td><td>4</td><td>Keyboard</td><td>-82</td><td>Understocked</td></tr><tr><td>2</td><td>Bangalore</td><td>5</td><td>USB Drive</td><td>-106</td><td>Understocked</td></tr><tr><td>2</td><td>Bangalore</td><td>9</td><td>Charger</td><td>171</td><td>OK</td></tr><tr><td>2</td><td>Bangalore</td><td>10</td><td>Sticky Notes</td><td>-33</td><td>Understocked</td></tr><tr><td>3</td><td>Hyderabad</td><td>3</td><td>Mouse</td><td>-59</td><td>Understocked</td></tr><tr><td>3</td><td>Hyderabad</td><td>5</td><td>USB Drive</td><td>134</td><td>OK</td></tr><tr><td>3</td><td>Hyderabad</td><td>6</td><td>Office Chair</td><td>67</td><td>OK</td></tr><tr><td>3</td><td>Hyderabad</td><td>7</td><td>Table</td><td>-110</td><td>Understocked</td></tr><tr><td>3</td><td>Hyderabad</td><td>8</td><td>File Folder</td><td>119</td><td>OK</td></tr><tr><td>3</td><td>Hyderabad</td><td>9</td><td>Charger</td><td>55</td><td>OK</td></tr><tr><td>3</td><td>Hyderabad</td><td>10</td><td>Sticky Notes</td><td>54</td><td>OK</td></tr><tr><td>4</td><td>Mumbai</td><td>2</td><td>Pen</td><td>218</td><td>OK</td></tr><tr><td>4</td><td>Mumbai</td><td>3</td><td>Mouse</td><td>73</td><td>OK</td></tr><tr><td>4</td><td>Mumbai</td><td>5</td><td>USB Drive</td><td>49</td><td>OK</td></tr><tr><td>4</td><td>Mumbai</td><td>7</td><td>Table</td><td>-179</td><td>Understocked</td></tr><tr><td>4</td><td>Mumbai</td><td>8</td><td>File Folder</td><td>115</td><td>OK</td></tr><tr><td>5</td><td>Delhi</td><td>1</td><td>Notebook</td><td>-68</td><td>Understocked</td></tr><tr><td>5</td><td>Delhi</td><td>2</td><td>Pen</td><td>-117</td><td>Understocked</td></tr><tr><td>5</td><td>Delhi</td><td>3</td><td>Mouse</td><td>-50</td><td>Understocked</td></tr><tr><td>5</td><td>Delhi</td><td>5</td><td>USB Drive</td><td>173</td><td>OK</td></tr><tr><td>5</td><td>Delhi</td><td>9</td><td>Charger</td><td>95</td><td>OK</td></tr><tr><td>5</td><td>Delhi</td><td>10</td><td>Sticky Notes</td><td>15</td><td>Understocked</td></tr></tbody></table></div>"
      ]
     },
     "metadata": {
      "application/vnd.databricks.v1+output": {
       "addedWidgets": {},
       "aggData": [],
       "aggError": "",
       "aggOverflow": false,
       "aggSchema": [],
       "aggSeriesLimitReached": false,
       "aggType": "",
       "arguments": {},
       "columnCustomDisplayInfos": {},
       "data": [
        [
         1,
         "Chennai",
         1,
         "Notebook",
         70,
         "OK"
        ],
        [
         1,
         "Chennai",
         3,
         "Mouse",
         96,
         "OK"
        ],
        [
         1,
         "Chennai",
         4,
         "Keyboard",
         -79,
         "Understocked"
        ],
        [
         1,
         "Chennai",
         6,
         "Office Chair",
         52,
         "OK"
        ],
        [
         1,
         "Chennai",
         8,
         "File Folder",
         48,
         "OK"
        ],
        [
         1,
         "Chennai",
         10,
         "Sticky Notes",
         27,
         "Understocked"
        ],
        [
         2,
         "Bangalore",
         1,
         "Notebook",
         97,
         "OK"
        ],
        [
         2,
         "Bangalore",
         2,
         "Pen",
         -133,
         "Understocked"
        ],
        [
         2,
         "Bangalore",
         3,
         "Mouse",
         102,
         "OK"
        ],
        [
         2,
         "Bangalore",
         4,
         "Keyboard",
         -82,
         "Understocked"
        ],
        [
         2,
         "Bangalore",
         5,
         "USB Drive",
         -106,
         "Understocked"
        ],
        [
         2,
         "Bangalore",
         9,
         "Charger",
         171,
         "OK"
        ],
        [
         2,
         "Bangalore",
         10,
         "Sticky Notes",
         -33,
         "Understocked"
        ],
        [
         3,
         "Hyderabad",
         3,
         "Mouse",
         -59,
         "Understocked"
        ],
        [
         3,
         "Hyderabad",
         5,
         "USB Drive",
         134,
         "OK"
        ],
        [
         3,
         "Hyderabad",
         6,
         "Office Chair",
         67,
         "OK"
        ],
        [
         3,
         "Hyderabad",
         7,
         "Table",
         -110,
         "Understocked"
        ],
        [
         3,
         "Hyderabad",
         8,
         "File Folder",
         119,
         "OK"
        ],
        [
         3,
         "Hyderabad",
         9,
         "Charger",
         55,
         "OK"
        ],
        [
         3,
         "Hyderabad",
         10,
         "Sticky Notes",
         54,
         "OK"
        ],
        [
         4,
         "Mumbai",
         2,
         "Pen",
         218,
         "OK"
        ],
        [
         4,
         "Mumbai",
         3,
         "Mouse",
         73,
         "OK"
        ],
        [
         4,
         "Mumbai",
         5,
         "USB Drive",
         49,
         "OK"
        ],
        [
         4,
         "Mumbai",
         7,
         "Table",
         -179,
         "Understocked"
        ],
        [
         4,
         "Mumbai",
         8,
         "File Folder",
         115,
         "OK"
        ],
        [
         5,
         "Delhi",
         1,
         "Notebook",
         -68,
         "Understocked"
        ],
        [
         5,
         "Delhi",
         2,
         "Pen",
         -117,
         "Understocked"
        ],
        [
         5,
         "Delhi",
         3,
         "Mouse",
         -50,
         "Understocked"
        ],
        [
         5,
         "Delhi",
         5,
         "USB Drive",
         173,
         "OK"
        ],
        [
         5,
         "Delhi",
         9,
         "Charger",
         95,
         "OK"
        ],
        [
         5,
         "Delhi",
         10,
         "Sticky Notes",
         15,
         "Understocked"
        ]
       ],
       "datasetInfos": [],
       "dbfsResultPath": null,
       "isJsonSchema": true,
       "metadata": {},
       "overflow": false,
       "plotOptions": {
        "customPlotOptions": {},
        "displayType": "table",
        "pivotAggregation": null,
        "pivotColumns": null,
        "xColumns": null,
        "yColumns": null
       },
       "removedWidgets": [],
       "schema": [
        {
         "metadata": "{}",
         "name": "warehouse_id",
         "type": "\"integer\""
        },
        {
         "metadata": "{}",
         "name": "location",
         "type": "\"string\""
        },
        {
         "metadata": "{}",
         "name": "product_id",
         "type": "\"integer\""
        },
        {
         "metadata": "{}",
         "name": "name",
         "type": "\"string\""
        },
        {
         "metadata": "{}",
         "name": "net_stock",
         "type": "\"integer\""
        },
        {
         "metadata": "{}",
         "name": "status",
         "type": "\"string\""
        }
       ],
       "type": "table"
      }
     },
     "output_type": "display_data"
    }
   ],
   "source": [
    "products_df.show()\n",
    "stock_df.display()"
   ]
  },
  {
   "cell_type": "code",
   "execution_count": 0,
   "metadata": {
    "application/vnd.databricks.v1+cell": {
     "cellMetadata": {
      "byteLimit": 2048000,
      "rowLimit": 10000
     },
     "inputWidgets": {},
     "nuid": "b765281c-504e-4bb4-9b48-6ea8c2329c2e",
     "showTitle": false,
     "tableResultSettingsMap": {},
     "title": ""
    }
   },
   "outputs": [],
   "source": [
    "# Join product and stock data on product_id\n",
    "joined_df = stock_df.join(products_df, on=['product_id', 'name'], how='left')\n",
    "\n",
    "\n"
   ]
  },
  {
   "cell_type": "code",
   "execution_count": 0,
   "metadata": {
    "application/vnd.databricks.v1+cell": {
     "cellMetadata": {
      "byteLimit": 2048000,
      "rowLimit": 10000
     },
     "inputWidgets": {},
     "nuid": "0a7998a2-3d77-407b-af45-f60cad54f28f",
     "showTitle": false,
     "tableResultSettingsMap": {},
     "title": ""
    }
   },
   "outputs": [
    {
     "output_type": "display_data",
     "data": {
      "text/html": [
       "<style scoped>\n",
       "  .table-result-container {\n",
       "    max-height: 300px;\n",
       "    overflow: auto;\n",
       "  }\n",
       "  table, th, td {\n",
       "    border: 1px solid black;\n",
       "    border-collapse: collapse;\n",
       "  }\n",
       "  th, td {\n",
       "    padding: 5px;\n",
       "  }\n",
       "  th {\n",
       "    text-align: left;\n",
       "  }\n",
       "</style><div class='table-result-container'><table class='table-result'><thead style='background-color: white'><tr><th>product_id</th><th>name</th><th>warehouse_id</th><th>location</th><th>net_stock</th><th>status</th><th>category</th><th>quantity_in_stock</th><th>reorder_level</th><th>price</th><th>reorder_flag</th><th>stock_gap</th><th>severity</th></tr></thead><tbody><tr><td>1</td><td>Notebook</td><td>1</td><td>Chennai</td><td>70</td><td>OK</td><td>Stationery</td><td>100</td><td>20</td><td>45.5</td><td>OK</td><td>50</td><td>None</td></tr><tr><td>3</td><td>Mouse</td><td>1</td><td>Chennai</td><td>96</td><td>OK</td><td>Electronics</td><td>50</td><td>15</td><td>350.0</td><td>OK</td><td>81</td><td>None</td></tr><tr><td>4</td><td>Keyboard</td><td>1</td><td>Chennai</td><td>-79</td><td>Understocked</td><td>Electronics</td><td>30</td><td>10</td><td>550.0</td><td>REORDER</td><td>-89</td><td>High</td></tr><tr><td>6</td><td>Office Chair</td><td>1</td><td>Chennai</td><td>52</td><td>OK</td><td>Furniture</td><td>60</td><td>10</td><td>120.0</td><td>OK</td><td>42</td><td>None</td></tr><tr><td>8</td><td>File Folder</td><td>1</td><td>Chennai</td><td>48</td><td>OK</td><td>Stationery</td><td>80</td><td>20</td><td>15.0</td><td>OK</td><td>28</td><td>None</td></tr><tr><td>10</td><td>Sticky Notes</td><td>1</td><td>Chennai</td><td>27</td><td>Understocked</td><td>Stationery</td><td>200</td><td>50</td><td>5.0</td><td>REORDER</td><td>-23</td><td>Medium</td></tr><tr><td>1</td><td>Notebook</td><td>2</td><td>Bangalore</td><td>97</td><td>OK</td><td>Stationery</td><td>100</td><td>20</td><td>45.5</td><td>OK</td><td>77</td><td>None</td></tr><tr><td>2</td><td>Pen</td><td>2</td><td>Bangalore</td><td>-133</td><td>Understocked</td><td>Stationery</td><td>300</td><td>50</td><td>10.0</td><td>REORDER</td><td>-183</td><td>High</td></tr><tr><td>3</td><td>Mouse</td><td>2</td><td>Bangalore</td><td>102</td><td>OK</td><td>Electronics</td><td>50</td><td>15</td><td>350.0</td><td>OK</td><td>87</td><td>None</td></tr><tr><td>4</td><td>Keyboard</td><td>2</td><td>Bangalore</td><td>-82</td><td>Understocked</td><td>Electronics</td><td>30</td><td>10</td><td>550.0</td><td>REORDER</td><td>-92</td><td>High</td></tr><tr><td>5</td><td>USB Drive</td><td>2</td><td>Bangalore</td><td>-106</td><td>Understocked</td><td>Electronics</td><td>70</td><td>25</td><td>250.0</td><td>REORDER</td><td>-131</td><td>High</td></tr><tr><td>9</td><td>Charger</td><td>2</td><td>Bangalore</td><td>171</td><td>OK</td><td>Electronics</td><td>25</td><td>10</td><td>500.0</td><td>OK</td><td>161</td><td>None</td></tr><tr><td>10</td><td>Sticky Notes</td><td>2</td><td>Bangalore</td><td>-33</td><td>Understocked</td><td>Stationery</td><td>200</td><td>50</td><td>5.0</td><td>REORDER</td><td>-83</td><td>High</td></tr><tr><td>3</td><td>Mouse</td><td>3</td><td>Hyderabad</td><td>-59</td><td>Understocked</td><td>Electronics</td><td>50</td><td>15</td><td>350.0</td><td>REORDER</td><td>-74</td><td>High</td></tr><tr><td>5</td><td>USB Drive</td><td>3</td><td>Hyderabad</td><td>134</td><td>OK</td><td>Electronics</td><td>70</td><td>25</td><td>250.0</td><td>OK</td><td>109</td><td>None</td></tr><tr><td>6</td><td>Office Chair</td><td>3</td><td>Hyderabad</td><td>67</td><td>OK</td><td>Furniture</td><td>60</td><td>10</td><td>120.0</td><td>OK</td><td>57</td><td>None</td></tr><tr><td>7</td><td>Table</td><td>3</td><td>Hyderabad</td><td>-110</td><td>Understocked</td><td>Furniture</td><td>20</td><td>5</td><td>750.0</td><td>REORDER</td><td>-115</td><td>High</td></tr><tr><td>8</td><td>File Folder</td><td>3</td><td>Hyderabad</td><td>119</td><td>OK</td><td>Stationery</td><td>80</td><td>20</td><td>15.0</td><td>OK</td><td>99</td><td>None</td></tr><tr><td>9</td><td>Charger</td><td>3</td><td>Hyderabad</td><td>55</td><td>OK</td><td>Electronics</td><td>25</td><td>10</td><td>500.0</td><td>OK</td><td>45</td><td>None</td></tr><tr><td>10</td><td>Sticky Notes</td><td>3</td><td>Hyderabad</td><td>54</td><td>OK</td><td>Stationery</td><td>200</td><td>50</td><td>5.0</td><td>OK</td><td>4</td><td>None</td></tr><tr><td>2</td><td>Pen</td><td>4</td><td>Mumbai</td><td>218</td><td>OK</td><td>Stationery</td><td>300</td><td>50</td><td>10.0</td><td>OK</td><td>168</td><td>None</td></tr><tr><td>3</td><td>Mouse</td><td>4</td><td>Mumbai</td><td>73</td><td>OK</td><td>Electronics</td><td>50</td><td>15</td><td>350.0</td><td>OK</td><td>58</td><td>None</td></tr><tr><td>5</td><td>USB Drive</td><td>4</td><td>Mumbai</td><td>49</td><td>OK</td><td>Electronics</td><td>70</td><td>25</td><td>250.0</td><td>OK</td><td>24</td><td>None</td></tr><tr><td>7</td><td>Table</td><td>4</td><td>Mumbai</td><td>-179</td><td>Understocked</td><td>Furniture</td><td>20</td><td>5</td><td>750.0</td><td>REORDER</td><td>-184</td><td>High</td></tr><tr><td>8</td><td>File Folder</td><td>4</td><td>Mumbai</td><td>115</td><td>OK</td><td>Stationery</td><td>80</td><td>20</td><td>15.0</td><td>OK</td><td>95</td><td>None</td></tr><tr><td>1</td><td>Notebook</td><td>5</td><td>Delhi</td><td>-68</td><td>Understocked</td><td>Stationery</td><td>100</td><td>20</td><td>45.5</td><td>REORDER</td><td>-88</td><td>High</td></tr><tr><td>2</td><td>Pen</td><td>5</td><td>Delhi</td><td>-117</td><td>Understocked</td><td>Stationery</td><td>300</td><td>50</td><td>10.0</td><td>REORDER</td><td>-167</td><td>High</td></tr><tr><td>3</td><td>Mouse</td><td>5</td><td>Delhi</td><td>-50</td><td>Understocked</td><td>Electronics</td><td>50</td><td>15</td><td>350.0</td><td>REORDER</td><td>-65</td><td>High</td></tr><tr><td>5</td><td>USB Drive</td><td>5</td><td>Delhi</td><td>173</td><td>OK</td><td>Electronics</td><td>70</td><td>25</td><td>250.0</td><td>OK</td><td>148</td><td>None</td></tr><tr><td>9</td><td>Charger</td><td>5</td><td>Delhi</td><td>95</td><td>OK</td><td>Electronics</td><td>25</td><td>10</td><td>500.0</td><td>OK</td><td>85</td><td>None</td></tr><tr><td>10</td><td>Sticky Notes</td><td>5</td><td>Delhi</td><td>15</td><td>Understocked</td><td>Stationery</td><td>200</td><td>50</td><td>5.0</td><td>REORDER</td><td>-35</td><td>High</td></tr></tbody></table></div>"
      ]
     },
     "metadata": {
      "application/vnd.databricks.v1+output": {
       "addedWidgets": {},
       "aggData": [],
       "aggError": "",
       "aggOverflow": false,
       "aggSchema": [],
       "aggSeriesLimitReached": false,
       "aggType": "",
       "arguments": {},
       "columnCustomDisplayInfos": {},
       "data": [
        [
         1,
         "Notebook",
         1,
         "Chennai",
         70,
         "OK",
         "Stationery",
         100,
         20,
         45.5,
         "OK",
         50,
         "None"
        ],
        [
         3,
         "Mouse",
         1,
         "Chennai",
         96,
         "OK",
         "Electronics",
         50,
         15,
         350.0,
         "OK",
         81,
         "None"
        ],
        [
         4,
         "Keyboard",
         1,
         "Chennai",
         -79,
         "Understocked",
         "Electronics",
         30,
         10,
         550.0,
         "REORDER",
         -89,
         "High"
        ],
        [
         6,
         "Office Chair",
         1,
         "Chennai",
         52,
         "OK",
         "Furniture",
         60,
         10,
         120.0,
         "OK",
         42,
         "None"
        ],
        [
         8,
         "File Folder",
         1,
         "Chennai",
         48,
         "OK",
         "Stationery",
         80,
         20,
         15.0,
         "OK",
         28,
         "None"
        ],
        [
         10,
         "Sticky Notes",
         1,
         "Chennai",
         27,
         "Understocked",
         "Stationery",
         200,
         50,
         5.0,
         "REORDER",
         -23,
         "Medium"
        ],
        [
         1,
         "Notebook",
         2,
         "Bangalore",
         97,
         "OK",
         "Stationery",
         100,
         20,
         45.5,
         "OK",
         77,
         "None"
        ],
        [
         2,
         "Pen",
         2,
         "Bangalore",
         -133,
         "Understocked",
         "Stationery",
         300,
         50,
         10.0,
         "REORDER",
         -183,
         "High"
        ],
        [
         3,
         "Mouse",
         2,
         "Bangalore",
         102,
         "OK",
         "Electronics",
         50,
         15,
         350.0,
         "OK",
         87,
         "None"
        ],
        [
         4,
         "Keyboard",
         2,
         "Bangalore",
         -82,
         "Understocked",
         "Electronics",
         30,
         10,
         550.0,
         "REORDER",
         -92,
         "High"
        ],
        [
         5,
         "USB Drive",
         2,
         "Bangalore",
         -106,
         "Understocked",
         "Electronics",
         70,
         25,
         250.0,
         "REORDER",
         -131,
         "High"
        ],
        [
         9,
         "Charger",
         2,
         "Bangalore",
         171,
         "OK",
         "Electronics",
         25,
         10,
         500.0,
         "OK",
         161,
         "None"
        ],
        [
         10,
         "Sticky Notes",
         2,
         "Bangalore",
         -33,
         "Understocked",
         "Stationery",
         200,
         50,
         5.0,
         "REORDER",
         -83,
         "High"
        ],
        [
         3,
         "Mouse",
         3,
         "Hyderabad",
         -59,
         "Understocked",
         "Electronics",
         50,
         15,
         350.0,
         "REORDER",
         -74,
         "High"
        ],
        [
         5,
         "USB Drive",
         3,
         "Hyderabad",
         134,
         "OK",
         "Electronics",
         70,
         25,
         250.0,
         "OK",
         109,
         "None"
        ],
        [
         6,
         "Office Chair",
         3,
         "Hyderabad",
         67,
         "OK",
         "Furniture",
         60,
         10,
         120.0,
         "OK",
         57,
         "None"
        ],
        [
         7,
         "Table",
         3,
         "Hyderabad",
         -110,
         "Understocked",
         "Furniture",
         20,
         5,
         750.0,
         "REORDER",
         -115,
         "High"
        ],
        [
         8,
         "File Folder",
         3,
         "Hyderabad",
         119,
         "OK",
         "Stationery",
         80,
         20,
         15.0,
         "OK",
         99,
         "None"
        ],
        [
         9,
         "Charger",
         3,
         "Hyderabad",
         55,
         "OK",
         "Electronics",
         25,
         10,
         500.0,
         "OK",
         45,
         "None"
        ],
        [
         10,
         "Sticky Notes",
         3,
         "Hyderabad",
         54,
         "OK",
         "Stationery",
         200,
         50,
         5.0,
         "OK",
         4,
         "None"
        ],
        [
         2,
         "Pen",
         4,
         "Mumbai",
         218,
         "OK",
         "Stationery",
         300,
         50,
         10.0,
         "OK",
         168,
         "None"
        ],
        [
         3,
         "Mouse",
         4,
         "Mumbai",
         73,
         "OK",
         "Electronics",
         50,
         15,
         350.0,
         "OK",
         58,
         "None"
        ],
        [
         5,
         "USB Drive",
         4,
         "Mumbai",
         49,
         "OK",
         "Electronics",
         70,
         25,
         250.0,
         "OK",
         24,
         "None"
        ],
        [
         7,
         "Table",
         4,
         "Mumbai",
         -179,
         "Understocked",
         "Furniture",
         20,
         5,
         750.0,
         "REORDER",
         -184,
         "High"
        ],
        [
         8,
         "File Folder",
         4,
         "Mumbai",
         115,
         "OK",
         "Stationery",
         80,
         20,
         15.0,
         "OK",
         95,
         "None"
        ],
        [
         1,
         "Notebook",
         5,
         "Delhi",
         -68,
         "Understocked",
         "Stationery",
         100,
         20,
         45.5,
         "REORDER",
         -88,
         "High"
        ],
        [
         2,
         "Pen",
         5,
         "Delhi",
         -117,
         "Understocked",
         "Stationery",
         300,
         50,
         10.0,
         "REORDER",
         -167,
         "High"
        ],
        [
         3,
         "Mouse",
         5,
         "Delhi",
         -50,
         "Understocked",
         "Electronics",
         50,
         15,
         350.0,
         "REORDER",
         -65,
         "High"
        ],
        [
         5,
         "USB Drive",
         5,
         "Delhi",
         173,
         "OK",
         "Electronics",
         70,
         25,
         250.0,
         "OK",
         148,
         "None"
        ],
        [
         9,
         "Charger",
         5,
         "Delhi",
         95,
         "OK",
         "Electronics",
         25,
         10,
         500.0,
         "OK",
         85,
         "None"
        ],
        [
         10,
         "Sticky Notes",
         5,
         "Delhi",
         15,
         "Understocked",
         "Stationery",
         200,
         50,
         5.0,
         "REORDER",
         -35,
         "High"
        ]
       ],
       "datasetInfos": [],
       "dbfsResultPath": null,
       "isJsonSchema": true,
       "metadata": {},
       "overflow": false,
       "plotOptions": {
        "customPlotOptions": {},
        "displayType": "table",
        "pivotAggregation": null,
        "pivotColumns": null,
        "xColumns": null,
        "yColumns": null
       },
       "removedWidgets": [],
       "schema": [
        {
         "metadata": "{}",
         "name": "product_id",
         "type": "\"integer\""
        },
        {
         "metadata": "{}",
         "name": "name",
         "type": "\"string\""
        },
        {
         "metadata": "{}",
         "name": "warehouse_id",
         "type": "\"integer\""
        },
        {
         "metadata": "{}",
         "name": "location",
         "type": "\"string\""
        },
        {
         "metadata": "{}",
         "name": "net_stock",
         "type": "\"integer\""
        },
        {
         "metadata": "{}",
         "name": "status",
         "type": "\"string\""
        },
        {
         "metadata": "{}",
         "name": "category",
         "type": "\"string\""
        },
        {
         "metadata": "{}",
         "name": "quantity_in_stock",
         "type": "\"integer\""
        },
        {
         "metadata": "{}",
         "name": "reorder_level",
         "type": "\"integer\""
        },
        {
         "metadata": "{}",
         "name": "price",
         "type": "\"double\""
        },
        {
         "metadata": "{}",
         "name": "reorder_flag",
         "type": "\"string\""
        },
        {
         "metadata": "{}",
         "name": "stock_gap",
         "type": "\"integer\""
        },
        {
         "metadata": "{}",
         "name": "severity",
         "type": "\"string\""
        }
       ],
       "type": "table"
      }
     },
     "output_type": "display_data"
    }
   ],
   "source": [
    "from pyspark.sql.functions import when, col, abs, count, max\n",
    "from pyspark.sql.window import Window\n",
    "\n",
    "# Add reorder_flag and stock_gap columns\n",
    "final_df = joined_df.withColumn(\n",
    "    \"reorder_flag\",\n",
    "    when(col(\"net_stock\") < col(\"reorder_level\"), \"REORDER\").otherwise(\"OK\")\n",
    ").withColumn(\n",
    "    \"stock_gap\",\n",
    "    col(\"net_stock\") - col(\"reorder_level\")\n",
    ").withColumn(\n",
    "    \"severity\",\n",
    "    when(col(\"stock_gap\") >= 0, \"None\")\n",
    "    .when(abs(col(\"stock_gap\")) < 10, \"Low\")\n",
    "    .when(abs(col(\"stock_gap\")) < 30, \"Medium\")\n",
    "    .otherwise(\"High\")\n",
    ")\n",
    "final_df.display()"
   ]
  },
  {
   "cell_type": "code",
   "execution_count": 0,
   "metadata": {
    "application/vnd.databricks.v1+cell": {
     "cellMetadata": {
      "byteLimit": 2048000,
      "rowLimit": 10000
     },
     "inputWidgets": {},
     "nuid": "86f3ab65-f84d-4968-adda-04ee2e43b518",
     "showTitle": false,
     "tableResultSettingsMap": {},
     "title": ""
    }
   },
   "outputs": [
    {
     "output_type": "display_data",
     "data": {
      "text/html": [
       "<style scoped>\n",
       "  .table-result-container {\n",
       "    max-height: 300px;\n",
       "    overflow: auto;\n",
       "  }\n",
       "  table, th, td {\n",
       "    border: 1px solid black;\n",
       "    border-collapse: collapse;\n",
       "  }\n",
       "  th, td {\n",
       "    padding: 5px;\n",
       "  }\n",
       "  th {\n",
       "    text-align: left;\n",
       "  }\n",
       "</style><div class='table-result-container'><table class='table-result'><thead style='background-color: white'><tr><th>product_id</th><th>name</th><th>warehouse_id</th><th>location</th><th>net_stock</th><th>status</th><th>category</th><th>quantity_in_stock</th><th>reorder_level</th><th>price</th><th>reorder_flag</th><th>stock_gap</th><th>severity</th><th>last_movement_date</th></tr></thead><tbody><tr><td>1</td><td>Notebook</td><td>1</td><td>Chennai</td><td>70</td><td>OK</td><td>Stationery</td><td>100</td><td>20</td><td>45.5</td><td>OK</td><td>50</td><td>None</td><td>2025-06-12T00:00:00</td></tr><tr><td>3</td><td>Mouse</td><td>1</td><td>Chennai</td><td>96</td><td>OK</td><td>Electronics</td><td>50</td><td>15</td><td>350.0</td><td>OK</td><td>81</td><td>None</td><td>2025-06-11T00:00:00</td></tr><tr><td>4</td><td>Keyboard</td><td>1</td><td>Chennai</td><td>-79</td><td>Understocked</td><td>Electronics</td><td>30</td><td>10</td><td>550.0</td><td>REORDER</td><td>-89</td><td>High</td><td>2025-06-07T00:00:00</td></tr><tr><td>6</td><td>Office Chair</td><td>1</td><td>Chennai</td><td>52</td><td>OK</td><td>Furniture</td><td>60</td><td>10</td><td>120.0</td><td>OK</td><td>42</td><td>None</td><td>2025-06-16T00:00:00</td></tr><tr><td>8</td><td>File Folder</td><td>1</td><td>Chennai</td><td>48</td><td>OK</td><td>Stationery</td><td>80</td><td>20</td><td>15.0</td><td>OK</td><td>28</td><td>None</td><td>2025-06-15T00:00:00</td></tr><tr><td>10</td><td>Sticky Notes</td><td>1</td><td>Chennai</td><td>27</td><td>Understocked</td><td>Stationery</td><td>200</td><td>50</td><td>5.0</td><td>REORDER</td><td>-23</td><td>Medium</td><td>2025-06-16T00:00:00</td></tr><tr><td>1</td><td>Notebook</td><td>2</td><td>Bangalore</td><td>97</td><td>OK</td><td>Stationery</td><td>100</td><td>20</td><td>45.5</td><td>OK</td><td>77</td><td>None</td><td>2025-06-12T00:00:00</td></tr><tr><td>2</td><td>Pen</td><td>2</td><td>Bangalore</td><td>-133</td><td>Understocked</td><td>Stationery</td><td>300</td><td>50</td><td>10.0</td><td>REORDER</td><td>-183</td><td>High</td><td>2025-06-13T00:00:00</td></tr><tr><td>3</td><td>Mouse</td><td>2</td><td>Bangalore</td><td>102</td><td>OK</td><td>Electronics</td><td>50</td><td>15</td><td>350.0</td><td>OK</td><td>87</td><td>None</td><td>2025-06-11T00:00:00</td></tr><tr><td>4</td><td>Keyboard</td><td>2</td><td>Bangalore</td><td>-82</td><td>Understocked</td><td>Electronics</td><td>30</td><td>10</td><td>550.0</td><td>REORDER</td><td>-92</td><td>High</td><td>2025-06-07T00:00:00</td></tr><tr><td>5</td><td>USB Drive</td><td>2</td><td>Bangalore</td><td>-106</td><td>Understocked</td><td>Electronics</td><td>70</td><td>25</td><td>250.0</td><td>REORDER</td><td>-131</td><td>High</td><td>2025-06-16T00:00:00</td></tr><tr><td>9</td><td>Charger</td><td>2</td><td>Bangalore</td><td>171</td><td>OK</td><td>Electronics</td><td>25</td><td>10</td><td>500.0</td><td>OK</td><td>161</td><td>None</td><td>2025-06-16T00:00:00</td></tr><tr><td>10</td><td>Sticky Notes</td><td>2</td><td>Bangalore</td><td>-33</td><td>Understocked</td><td>Stationery</td><td>200</td><td>50</td><td>5.0</td><td>REORDER</td><td>-83</td><td>High</td><td>2025-06-16T00:00:00</td></tr><tr><td>3</td><td>Mouse</td><td>3</td><td>Hyderabad</td><td>-59</td><td>Understocked</td><td>Electronics</td><td>50</td><td>15</td><td>350.0</td><td>REORDER</td><td>-74</td><td>High</td><td>2025-06-11T00:00:00</td></tr><tr><td>5</td><td>USB Drive</td><td>3</td><td>Hyderabad</td><td>134</td><td>OK</td><td>Electronics</td><td>70</td><td>25</td><td>250.0</td><td>OK</td><td>109</td><td>None</td><td>2025-06-16T00:00:00</td></tr><tr><td>6</td><td>Office Chair</td><td>3</td><td>Hyderabad</td><td>67</td><td>OK</td><td>Furniture</td><td>60</td><td>10</td><td>120.0</td><td>OK</td><td>57</td><td>None</td><td>2025-06-16T00:00:00</td></tr><tr><td>7</td><td>Table</td><td>3</td><td>Hyderabad</td><td>-110</td><td>Understocked</td><td>Furniture</td><td>20</td><td>5</td><td>750.0</td><td>REORDER</td><td>-115</td><td>High</td><td>2025-06-15T00:00:00</td></tr><tr><td>8</td><td>File Folder</td><td>3</td><td>Hyderabad</td><td>119</td><td>OK</td><td>Stationery</td><td>80</td><td>20</td><td>15.0</td><td>OK</td><td>99</td><td>None</td><td>2025-06-15T00:00:00</td></tr><tr><td>9</td><td>Charger</td><td>3</td><td>Hyderabad</td><td>55</td><td>OK</td><td>Electronics</td><td>25</td><td>10</td><td>500.0</td><td>OK</td><td>45</td><td>None</td><td>2025-06-16T00:00:00</td></tr><tr><td>10</td><td>Sticky Notes</td><td>3</td><td>Hyderabad</td><td>54</td><td>OK</td><td>Stationery</td><td>200</td><td>50</td><td>5.0</td><td>OK</td><td>4</td><td>None</td><td>2025-06-16T00:00:00</td></tr><tr><td>2</td><td>Pen</td><td>4</td><td>Mumbai</td><td>218</td><td>OK</td><td>Stationery</td><td>300</td><td>50</td><td>10.0</td><td>OK</td><td>168</td><td>None</td><td>2025-06-13T00:00:00</td></tr><tr><td>3</td><td>Mouse</td><td>4</td><td>Mumbai</td><td>73</td><td>OK</td><td>Electronics</td><td>50</td><td>15</td><td>350.0</td><td>OK</td><td>58</td><td>None</td><td>2025-06-11T00:00:00</td></tr><tr><td>5</td><td>USB Drive</td><td>4</td><td>Mumbai</td><td>49</td><td>OK</td><td>Electronics</td><td>70</td><td>25</td><td>250.0</td><td>OK</td><td>24</td><td>None</td><td>2025-06-16T00:00:00</td></tr><tr><td>7</td><td>Table</td><td>4</td><td>Mumbai</td><td>-179</td><td>Understocked</td><td>Furniture</td><td>20</td><td>5</td><td>750.0</td><td>REORDER</td><td>-184</td><td>High</td><td>2025-06-15T00:00:00</td></tr><tr><td>8</td><td>File Folder</td><td>4</td><td>Mumbai</td><td>115</td><td>OK</td><td>Stationery</td><td>80</td><td>20</td><td>15.0</td><td>OK</td><td>95</td><td>None</td><td>2025-06-15T00:00:00</td></tr><tr><td>1</td><td>Notebook</td><td>5</td><td>Delhi</td><td>-68</td><td>Understocked</td><td>Stationery</td><td>100</td><td>20</td><td>45.5</td><td>REORDER</td><td>-88</td><td>High</td><td>2025-06-12T00:00:00</td></tr><tr><td>2</td><td>Pen</td><td>5</td><td>Delhi</td><td>-117</td><td>Understocked</td><td>Stationery</td><td>300</td><td>50</td><td>10.0</td><td>REORDER</td><td>-167</td><td>High</td><td>2025-06-13T00:00:00</td></tr><tr><td>3</td><td>Mouse</td><td>5</td><td>Delhi</td><td>-50</td><td>Understocked</td><td>Electronics</td><td>50</td><td>15</td><td>350.0</td><td>REORDER</td><td>-65</td><td>High</td><td>2025-06-11T00:00:00</td></tr><tr><td>5</td><td>USB Drive</td><td>5</td><td>Delhi</td><td>173</td><td>OK</td><td>Electronics</td><td>70</td><td>25</td><td>250.0</td><td>OK</td><td>148</td><td>None</td><td>2025-06-16T00:00:00</td></tr><tr><td>9</td><td>Charger</td><td>5</td><td>Delhi</td><td>95</td><td>OK</td><td>Electronics</td><td>25</td><td>10</td><td>500.0</td><td>OK</td><td>85</td><td>None</td><td>2025-06-16T00:00:00</td></tr><tr><td>10</td><td>Sticky Notes</td><td>5</td><td>Delhi</td><td>15</td><td>Understocked</td><td>Stationery</td><td>200</td><td>50</td><td>5.0</td><td>REORDER</td><td>-35</td><td>High</td><td>2025-06-16T00:00:00</td></tr></tbody></table></div>"
      ]
     },
     "metadata": {
      "application/vnd.databricks.v1+output": {
       "addedWidgets": {},
       "aggData": [],
       "aggError": "",
       "aggOverflow": false,
       "aggSchema": [],
       "aggSeriesLimitReached": false,
       "aggType": "",
       "arguments": {},
       "columnCustomDisplayInfos": {},
       "data": [
        [
         1,
         "Notebook",
         1,
         "Chennai",
         70,
         "OK",
         "Stationery",
         100,
         20,
         45.5,
         "OK",
         50,
         "None",
         "2025-06-12T00:00:00"
        ],
        [
         3,
         "Mouse",
         1,
         "Chennai",
         96,
         "OK",
         "Electronics",
         50,
         15,
         350.0,
         "OK",
         81,
         "None",
         "2025-06-11T00:00:00"
        ],
        [
         4,
         "Keyboard",
         1,
         "Chennai",
         -79,
         "Understocked",
         "Electronics",
         30,
         10,
         550.0,
         "REORDER",
         -89,
         "High",
         "2025-06-07T00:00:00"
        ],
        [
         6,
         "Office Chair",
         1,
         "Chennai",
         52,
         "OK",
         "Furniture",
         60,
         10,
         120.0,
         "OK",
         42,
         "None",
         "2025-06-16T00:00:00"
        ],
        [
         8,
         "File Folder",
         1,
         "Chennai",
         48,
         "OK",
         "Stationery",
         80,
         20,
         15.0,
         "OK",
         28,
         "None",
         "2025-06-15T00:00:00"
        ],
        [
         10,
         "Sticky Notes",
         1,
         "Chennai",
         27,
         "Understocked",
         "Stationery",
         200,
         50,
         5.0,
         "REORDER",
         -23,
         "Medium",
         "2025-06-16T00:00:00"
        ],
        [
         1,
         "Notebook",
         2,
         "Bangalore",
         97,
         "OK",
         "Stationery",
         100,
         20,
         45.5,
         "OK",
         77,
         "None",
         "2025-06-12T00:00:00"
        ],
        [
         2,
         "Pen",
         2,
         "Bangalore",
         -133,
         "Understocked",
         "Stationery",
         300,
         50,
         10.0,
         "REORDER",
         -183,
         "High",
         "2025-06-13T00:00:00"
        ],
        [
         3,
         "Mouse",
         2,
         "Bangalore",
         102,
         "OK",
         "Electronics",
         50,
         15,
         350.0,
         "OK",
         87,
         "None",
         "2025-06-11T00:00:00"
        ],
        [
         4,
         "Keyboard",
         2,
         "Bangalore",
         -82,
         "Understocked",
         "Electronics",
         30,
         10,
         550.0,
         "REORDER",
         -92,
         "High",
         "2025-06-07T00:00:00"
        ],
        [
         5,
         "USB Drive",
         2,
         "Bangalore",
         -106,
         "Understocked",
         "Electronics",
         70,
         25,
         250.0,
         "REORDER",
         -131,
         "High",
         "2025-06-16T00:00:00"
        ],
        [
         9,
         "Charger",
         2,
         "Bangalore",
         171,
         "OK",
         "Electronics",
         25,
         10,
         500.0,
         "OK",
         161,
         "None",
         "2025-06-16T00:00:00"
        ],
        [
         10,
         "Sticky Notes",
         2,
         "Bangalore",
         -33,
         "Understocked",
         "Stationery",
         200,
         50,
         5.0,
         "REORDER",
         -83,
         "High",
         "2025-06-16T00:00:00"
        ],
        [
         3,
         "Mouse",
         3,
         "Hyderabad",
         -59,
         "Understocked",
         "Electronics",
         50,
         15,
         350.0,
         "REORDER",
         -74,
         "High",
         "2025-06-11T00:00:00"
        ],
        [
         5,
         "USB Drive",
         3,
         "Hyderabad",
         134,
         "OK",
         "Electronics",
         70,
         25,
         250.0,
         "OK",
         109,
         "None",
         "2025-06-16T00:00:00"
        ],
        [
         6,
         "Office Chair",
         3,
         "Hyderabad",
         67,
         "OK",
         "Furniture",
         60,
         10,
         120.0,
         "OK",
         57,
         "None",
         "2025-06-16T00:00:00"
        ],
        [
         7,
         "Table",
         3,
         "Hyderabad",
         -110,
         "Understocked",
         "Furniture",
         20,
         5,
         750.0,
         "REORDER",
         -115,
         "High",
         "2025-06-15T00:00:00"
        ],
        [
         8,
         "File Folder",
         3,
         "Hyderabad",
         119,
         "OK",
         "Stationery",
         80,
         20,
         15.0,
         "OK",
         99,
         "None",
         "2025-06-15T00:00:00"
        ],
        [
         9,
         "Charger",
         3,
         "Hyderabad",
         55,
         "OK",
         "Electronics",
         25,
         10,
         500.0,
         "OK",
         45,
         "None",
         "2025-06-16T00:00:00"
        ],
        [
         10,
         "Sticky Notes",
         3,
         "Hyderabad",
         54,
         "OK",
         "Stationery",
         200,
         50,
         5.0,
         "OK",
         4,
         "None",
         "2025-06-16T00:00:00"
        ],
        [
         2,
         "Pen",
         4,
         "Mumbai",
         218,
         "OK",
         "Stationery",
         300,
         50,
         10.0,
         "OK",
         168,
         "None",
         "2025-06-13T00:00:00"
        ],
        [
         3,
         "Mouse",
         4,
         "Mumbai",
         73,
         "OK",
         "Electronics",
         50,
         15,
         350.0,
         "OK",
         58,
         "None",
         "2025-06-11T00:00:00"
        ],
        [
         5,
         "USB Drive",
         4,
         "Mumbai",
         49,
         "OK",
         "Electronics",
         70,
         25,
         250.0,
         "OK",
         24,
         "None",
         "2025-06-16T00:00:00"
        ],
        [
         7,
         "Table",
         4,
         "Mumbai",
         -179,
         "Understocked",
         "Furniture",
         20,
         5,
         750.0,
         "REORDER",
         -184,
         "High",
         "2025-06-15T00:00:00"
        ],
        [
         8,
         "File Folder",
         4,
         "Mumbai",
         115,
         "OK",
         "Stationery",
         80,
         20,
         15.0,
         "OK",
         95,
         "None",
         "2025-06-15T00:00:00"
        ],
        [
         1,
         "Notebook",
         5,
         "Delhi",
         -68,
         "Understocked",
         "Stationery",
         100,
         20,
         45.5,
         "REORDER",
         -88,
         "High",
         "2025-06-12T00:00:00"
        ],
        [
         2,
         "Pen",
         5,
         "Delhi",
         -117,
         "Understocked",
         "Stationery",
         300,
         50,
         10.0,
         "REORDER",
         -167,
         "High",
         "2025-06-13T00:00:00"
        ],
        [
         3,
         "Mouse",
         5,
         "Delhi",
         -50,
         "Understocked",
         "Electronics",
         50,
         15,
         350.0,
         "REORDER",
         -65,
         "High",
         "2025-06-11T00:00:00"
        ],
        [
         5,
         "USB Drive",
         5,
         "Delhi",
         173,
         "OK",
         "Electronics",
         70,
         25,
         250.0,
         "OK",
         148,
         "None",
         "2025-06-16T00:00:00"
        ],
        [
         9,
         "Charger",
         5,
         "Delhi",
         95,
         "OK",
         "Electronics",
         25,
         10,
         500.0,
         "OK",
         85,
         "None",
         "2025-06-16T00:00:00"
        ],
        [
         10,
         "Sticky Notes",
         5,
         "Delhi",
         15,
         "Understocked",
         "Stationery",
         200,
         50,
         5.0,
         "REORDER",
         -35,
         "High",
         "2025-06-16T00:00:00"
        ]
       ],
       "datasetInfos": [],
       "dbfsResultPath": null,
       "isJsonSchema": true,
       "metadata": {},
       "overflow": false,
       "plotOptions": {
        "customPlotOptions": {},
        "displayType": "table",
        "pivotAggregation": null,
        "pivotColumns": null,
        "xColumns": null,
        "yColumns": null
       },
       "removedWidgets": [],
       "schema": [
        {
         "metadata": "{}",
         "name": "product_id",
         "type": "\"integer\""
        },
        {
         "metadata": "{}",
         "name": "name",
         "type": "\"string\""
        },
        {
         "metadata": "{}",
         "name": "warehouse_id",
         "type": "\"integer\""
        },
        {
         "metadata": "{}",
         "name": "location",
         "type": "\"string\""
        },
        {
         "metadata": "{}",
         "name": "net_stock",
         "type": "\"integer\""
        },
        {
         "metadata": "{}",
         "name": "status",
         "type": "\"string\""
        },
        {
         "metadata": "{}",
         "name": "category",
         "type": "\"string\""
        },
        {
         "metadata": "{}",
         "name": "quantity_in_stock",
         "type": "\"integer\""
        },
        {
         "metadata": "{}",
         "name": "reorder_level",
         "type": "\"integer\""
        },
        {
         "metadata": "{}",
         "name": "price",
         "type": "\"double\""
        },
        {
         "metadata": "{}",
         "name": "reorder_flag",
         "type": "\"string\""
        },
        {
         "metadata": "{}",
         "name": "stock_gap",
         "type": "\"integer\""
        },
        {
         "metadata": "{}",
         "name": "severity",
         "type": "\"string\""
        },
        {
         "metadata": "{}",
         "name": "last_movement_date",
         "type": "\"string\""
        }
       ],
       "type": "table"
      }
     },
     "output_type": "display_data"
    }
   ],
   "source": [
    "# Load stock movements data\n",
    "movements_df = spark.read.option(\"multiline\", True).json(\"file:/Workspace/Shared/stock_movements.json\")\n",
    "\n",
    "# Get last movement date \n",
    "movement_stats = movements_df.groupBy(\"product_id\").agg(\n",
    "    max(\"movement_date\").alias(\"last_movement_date\")\n",
    ")\n",
    "\n",
    "# Join with final_df\n",
    "final_inventory_df = final_df.join(movement_stats, on=\"product_id\", how=\"left\")\n",
    "final_inventory_df.display()"
   ]
  },
  {
   "cell_type": "code",
   "execution_count": 0,
   "metadata": {
    "application/vnd.databricks.v1+cell": {
     "cellMetadata": {
      "byteLimit": 2048000,
      "rowLimit": 10000
     },
     "inputWidgets": {},
     "nuid": "8b7fcdf2-289f-421d-a88c-8d4ab8410d02",
     "showTitle": false,
     "tableResultSettingsMap": {},
     "title": ""
    }
   },
   "outputs": [],
   "source": [
    "# Save as Delta and CSV\n",
    "final_inventory_df.write.format(\"delta\").mode(\"overwrite\").save(\"/mnt/final_inventory_dashboard_delta\")\n",
    "final_inventory_df.write.option(\"header\", True).mode(\"overwrite\").csv(\"/mnt/final_inventory_dashboard_csv\")\n"
   ]
  }
 ],
 "metadata": {
  "application/vnd.databricks.v1+notebook": {
   "computePreferences": null,
   "dashboards": [],
   "environmentMetadata": {
    "base_environment": "",
    "environment_version": "2"
   },
   "inputWidgetPreferences": null,
   "language": "python",
   "notebookMetadata": {
    "pythonIndentUnit": 4
   },
   "notebookName": "Final_Inventory",
   "widgets": {}
  },
  "language_info": {
   "name": "python"
  }
 },
 "nbformat": 4,
 "nbformat_minor": 0
}