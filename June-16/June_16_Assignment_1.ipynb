{
 "cells": [
  {
   "cell_type": "code",
   "execution_count": 0,
   "metadata": {
    "application/vnd.databricks.v1+cell": {
     "cellMetadata": {
      "byteLimit": 2048000,
      "rowLimit": 10000
     },
     "inputWidgets": {},
     "nuid": "27afa866-ccd4-4abe-b21f-d37be975cee0",
     "showTitle": false,
     "tableResultSettingsMap": {},
     "title": ""
    }
   },
   "outputs": [
    {
     "output_type": "stream",
     "name": "stdout",
     "output_type": "stream",
     "text": [
      "root\n |-- EnrollmentID: string (nullable = true)\n |-- StudentName: string (nullable = true)\n |-- CourseName: string (nullable = true)\n |-- Category: string (nullable = true)\n |-- EnrollDate: date (nullable = true)\n |-- ProgressPercent: integer (nullable = true)\n |-- Rating: double (nullable = true)\n |-- Status: string (nullable = true)\n\n+------------+-----------+--------------------+-----------+----------+---------------+------+---------+\n|EnrollmentID|StudentName|          CourseName|   Category|EnrollDate|ProgressPercent|Rating|   Status|\n+------------+-----------+--------------------+-----------+----------+---------------+------+---------+\n|      ENR001|     Aditya|Python for Beginners|Programming|2024-05-10|             80|   4.5|   Active|\n|      ENR002|     Simran|Data Analysis wit...|  Analytics|2024-05-12|            100|   4.7|Completed|\n|      ENR003|     Aakash| Power BI Essentials|  Analytics|2024-05-13|             30|   3.8|   Active|\n|      ENR004|       Neha|         Java Basics|Programming|2024-05-15|              0|  NULL| Inactive|\n|      ENR005|       Zara|Machine Learning 101|         AI|2024-05-17|             60|   4.2|   Active|\n|      ENR006|    Ibrahim|Python for Beginners|Programming|2024-05-18|             90|   4.6|Completed|\n+------------+-----------+--------------------+-----------+----------+---------------+------+---------+\n\n"
     ]
    }
   ],
   "source": [
    "from pyspark.sql import SparkSession\n",
    "\n",
    "spark = SparkSession.builder.appName(\"CourseData\").getOrCreate()\n",
    "\n",
    "df = spark.read.option(\"header\", True).option(\"inferSchema\", True).csv(\"file:/Workspace/Shared/course_enrollments.csv\")\n",
    "df.printSchema()\n",
    "df.show()\n"
   ]
  },
  {
   "cell_type": "code",
   "execution_count": 0,
   "metadata": {
    "application/vnd.databricks.v1+cell": {
     "cellMetadata": {
      "byteLimit": 2048000,
      "rowLimit": 10000
     },
     "inputWidgets": {},
     "nuid": "32058957-740a-41df-ac32-b3678656acc4",
     "showTitle": false,
     "tableResultSettingsMap": {},
     "title": ""
    }
   },
   "outputs": [
    {
     "output_type": "stream",
     "name": "stdout",
     "output_type": "stream",
     "text": [
      "root\n |-- EnrollmentID: string (nullable = true)\n |-- StudentName: string (nullable = true)\n |-- CourseName: string (nullable = true)\n |-- Category: string (nullable = true)\n |-- EnrollDate: date (nullable = true)\n |-- ProgressPercent: integer (nullable = true)\n |-- Rating: double (nullable = true)\n |-- Status: string (nullable = true)\n\n+------------+-----------+--------------------+-----------+----------+---------------+------+---------+\n|EnrollmentID|StudentName|          CourseName|   Category|EnrollDate|ProgressPercent|Rating|   Status|\n+------------+-----------+--------------------+-----------+----------+---------------+------+---------+\n|      ENR001|     Aditya|Python for Beginners|Programming|2024-05-10|             80|   4.5|   Active|\n|      ENR002|     Simran|Data Analysis wit...|  Analytics|2024-05-12|            100|   4.7|Completed|\n|      ENR003|     Aakash| Power BI Essentials|  Analytics|2024-05-13|             30|   3.8|   Active|\n|      ENR004|       Neha|         Java Basics|Programming|2024-05-15|              0|  NULL| Inactive|\n|      ENR005|       Zara|Machine Learning 101|         AI|2024-05-17|             60|   4.2|   Active|\n|      ENR006|    Ibrahim|Python for Beginners|Programming|2024-05-18|             90|   4.6|Completed|\n+------------+-----------+--------------------+-----------+----------+---------------+------+---------+\n\n"
     ]
    }
   ],
   "source": [
    "from pyspark.sql.types import StructType, StructField, StringType, IntegerType, DoubleType, DateType\n",
    "\n",
    "schema = StructType([\n",
    "    StructField(\"EnrollmentID\", StringType(), True),\n",
    "    StructField(\"StudentName\", StringType(), True),\n",
    "    StructField(\"CourseName\", StringType(), True),\n",
    "    StructField(\"Category\", StringType(), True),\n",
    "    StructField(\"EnrollDate\", DateType(), True),\n",
    "    StructField(\"ProgressPercent\", IntegerType(), True),\n",
    "    StructField(\"Rating\", DoubleType(), True),\n",
    "    StructField(\"Status\", StringType(), True)\n",
    "])\n",
    "\n",
    "df = spark.read.option(\"header\", True).schema(schema).csv(\"file:/Workspace/Shared/course_enrollments.csv\")\n",
    "df.printSchema()\n",
    "df.show()\n"
   ]
  },
  {
   "cell_type": "code",
   "execution_count": 0,
   "metadata": {
    "application/vnd.databricks.v1+cell": {
     "cellMetadata": {
      "byteLimit": 2048000,
      "rowLimit": 10000
     },
     "inputWidgets": {},
     "nuid": "ada08525-4d48-4d29-9d9b-bedf6bb62ff0",
     "showTitle": false,
     "tableResultSettingsMap": {},
     "title": ""
    }
   },
   "outputs": [
    {
     "output_type": "stream",
     "name": "stdout",
     "output_type": "stream",
     "text": [
      "+------------+-----------+-------------------+-----------+----------+---------------+------+--------+\n|EnrollmentID|StudentName|         CourseName|   Category|EnrollDate|ProgressPercent|Rating|  Status|\n+------------+-----------+-------------------+-----------+----------+---------------+------+--------+\n|      ENR003|     Aakash|Power BI Essentials|  Analytics|2024-05-13|             30|   3.8|  Active|\n|      ENR004|       Neha|        Java Basics|Programming|2024-05-15|              0|  NULL|Inactive|\n+------------+-----------+-------------------+-----------+----------+---------------+------+--------+\n\n+------------+-----------+--------------------+-----------+----------+---------------+-----------------+---------+\n|EnrollmentID|StudentName|          CourseName|   Category|EnrollDate|ProgressPercent|           Rating|   Status|\n+------------+-----------+--------------------+-----------+----------+---------------+-----------------+---------+\n|      ENR001|     Aditya|Python for Beginners|Programming|2024-05-10|             80|              4.5|   Active|\n|      ENR002|     Simran|Data Analysis wit...|  Analytics|2024-05-12|            100|              4.7|Completed|\n|      ENR003|     Aakash| Power BI Essentials|  Analytics|2024-05-13|             30|              3.8|   Active|\n|      ENR004|       Neha|         Java Basics|Programming|2024-05-15|              0|4.359999999999999| Inactive|\n|      ENR005|       Zara|Machine Learning 101|         AI|2024-05-17|             60|              4.2|   Active|\n|      ENR006|    Ibrahim|Python for Beginners|Programming|2024-05-18|             90|              4.6|Completed|\n+------------+-----------+--------------------+-----------+----------+---------------+-----------------+---------+\n\n+------------+-----------+--------------------+-----------+----------+---------------+------+---------+--------+\n|EnrollmentID|StudentName|          CourseName|   Category|EnrollDate|ProgressPercent|Rating|   Status|IsActive|\n+------------+-----------+--------------------+-----------+----------+---------------+------+---------+--------+\n|      ENR001|     Aditya|Python for Beginners|Programming|2024-05-10|             80|   4.5|   Active|       1|\n|      ENR002|     Simran|Data Analysis wit...|  Analytics|2024-05-12|            100|   4.7|Completed|       0|\n|      ENR003|     Aakash| Power BI Essentials|  Analytics|2024-05-13|             30|   3.8|   Active|       1|\n|      ENR004|       Neha|         Java Basics|Programming|2024-05-15|              0|  NULL| Inactive|       0|\n|      ENR005|       Zara|Machine Learning 101|         AI|2024-05-17|             60|   4.2|   Active|       1|\n|      ENR006|    Ibrahim|Python for Beginners|Programming|2024-05-18|             90|   4.6|Completed|       0|\n+------------+-----------+--------------------+-----------+----------+---------------+------+---------+--------+\n\n"
     ]
    }
   ],
   "source": [
    "# 3. Filter records where ProgressPercent < 50.\n",
    "from pyspark.sql.functions import col\n",
    "df.filter(col(\"ProgressPercent\") < 50).show()\n",
    "\n",
    "# 4. Replace null ratings with average rating.\n",
    "from pyspark.sql.functions import avg, when, col\n",
    "\n",
    "avg_rating = df.select(avg(\"Rating\")).first()[0]\n",
    "\n",
    "df.withColumn(\"Rating\",when(col(\"Rating\").isNull(), avg_rating).otherwise(col(\"Rating\"))).show()\n",
    "\n",
    "# 5. Add column IsActive → 1 if Status is Active, else 0.\n",
    "df_status = df.withColumn(\"IsActive\", when(col(\"Status\") == \"Active\", 1).otherwise(0))\n",
    "df_status.show()\n"
   ]
  },
  {
   "cell_type": "code",
   "execution_count": 0,
   "metadata": {
    "application/vnd.databricks.v1+cell": {
     "cellMetadata": {
      "byteLimit": 2048000,
      "rowLimit": 10000
     },
     "inputWidgets": {},
     "nuid": "64351dbb-2515-4fe8-81a2-2827ae4a2fcd",
     "showTitle": false,
     "tableResultSettingsMap": {},
     "title": ""
    }
   },
   "outputs": [
    {
     "output_type": "stream",
     "name": "stdout",
     "output_type": "stream",
     "text": [
      "+--------------------+-----------+\n|          CourseName|AvgProgress|\n+--------------------+-----------+\n|Data Analysis wit...|      100.0|\n|         Java Basics|        0.0|\n|Machine Learning 101|       60.0|\n|Python for Beginners|       85.0|\n| Power BI Essentials|       30.0|\n+--------------------+-----------+\n\n+-----------+------------+\n|   Category|StudentCount|\n+-----------+------------+\n|Programming|           3|\n|         AI|           1|\n|  Analytics|           2|\n+-----------+------------+\n\n+--------------------+-----+\n|          CourseName|count|\n+--------------------+-----+\n|Python for Beginners|    2|\n+--------------------+-----+\n\n"
     ]
    }
   ],
   "source": [
    "# Aggregations & Metrics\n",
    "# 6. Find average progress by course.\n",
    "from pyspark.sql.functions import round\n",
    "\n",
    "df.groupBy(\"CourseName\").agg(round(avg(\"ProgressPercent\"), 2).alias(\"AvgProgress\")).show()\n",
    "\n",
    "# 7. Get count of students in each course category.\n",
    "df.groupBy(\"Category\").count().withColumnRenamed(\"count\", \"StudentCount\").show()\n",
    "\n",
    "# 8. Identify the most enrolled course.\n",
    "from pyspark.sql.functions import desc\n",
    "\n",
    "df.groupBy(\"CourseName\").count().orderBy(desc(\"count\")).limit(1).show()\n"
   ]
  },
  {
   "cell_type": "code",
   "execution_count": 0,
   "metadata": {
    "application/vnd.databricks.v1+cell": {
     "cellMetadata": {
      "byteLimit": 2048000,
      "rowLimit": 10000
     },
     "inputWidgets": {},
     "nuid": "35839beb-decc-4c87-b6f1-ac1611a9350b",
     "showTitle": false,
     "tableResultSettingsMap": {},
     "title": ""
    }
   },
   "outputs": [
    {
     "output_type": "stream",
     "name": "stdout",
     "output_type": "stream",
     "text": [
      "+--------------------+-------------+----------+\n|          CourseName|DurationWeeks|Instructor|\n+--------------------+-------------+----------+\n|Python for Beginners|            4|    Rakesh|\n|Data Analysis wit...|            3|    Anjali|\n| Power BI Essentials|            5|     Rekha|\n|         Java Basics|            6|     Manoj|\n|Machine Learning 101|            8|     Samir|\n+--------------------+-------------+----------+\n\n"
     ]
    },
    {
     "output_type": "display_data",
     "data": {
      "text/html": [
       "<style scoped>\n",
       "  .table-result-container {\n",
       "    max-height: 300px;\n",
       "    overflow: auto;\n",
       "  }\n",
       "  table, th, td {\n",
       "    border: 1px solid black;\n",
       "    border-collapse: collapse;\n",
       "  }\n",
       "  th, td {\n",
       "    padding: 5px;\n",
       "  }\n",
       "  th {\n",
       "    text-align: left;\n",
       "  }\n",
       "</style><div class='table-result-container'><table class='table-result'><thead style='background-color: white'><tr><th>CourseName</th><th>EnrollmentID</th><th>StudentName</th><th>Category</th><th>EnrollDate</th><th>ProgressPercent</th><th>Rating</th><th>Status</th><th>DurationWeeks</th><th>Instructor</th></tr></thead><tbody><tr><td>Python for Beginners</td><td>ENR001</td><td>Aditya</td><td>Programming</td><td>2024-05-10</td><td>80</td><td>4.5</td><td>Active</td><td>4</td><td>Rakesh</td></tr><tr><td>Data Analysis with Excel</td><td>ENR002</td><td>Simran</td><td>Analytics</td><td>2024-05-12</td><td>100</td><td>4.7</td><td>Completed</td><td>3</td><td>Anjali</td></tr><tr><td>Power BI Essentials</td><td>ENR003</td><td>Aakash</td><td>Analytics</td><td>2024-05-13</td><td>30</td><td>3.8</td><td>Active</td><td>5</td><td>Rekha</td></tr><tr><td>Java Basics</td><td>ENR004</td><td>Neha</td><td>Programming</td><td>2024-05-15</td><td>0</td><td>null</td><td>Inactive</td><td>6</td><td>Manoj</td></tr><tr><td>Machine Learning 101</td><td>ENR005</td><td>Zara</td><td>AI</td><td>2024-05-17</td><td>60</td><td>4.2</td><td>Active</td><td>8</td><td>Samir</td></tr><tr><td>Python for Beginners</td><td>ENR006</td><td>Ibrahim</td><td>Programming</td><td>2024-05-18</td><td>90</td><td>4.6</td><td>Completed</td><td>4</td><td>Rakesh</td></tr></tbody></table></div>"
      ]
     },
     "metadata": {
      "application/vnd.databricks.v1+output": {
       "addedWidgets": {},
       "aggData": [],
       "aggError": "",
       "aggOverflow": false,
       "aggSchema": [],
       "aggSeriesLimitReached": false,
       "aggType": "",
       "arguments": {},
       "columnCustomDisplayInfos": {},
       "data": [
        [
         "Python for Beginners",
         "ENR001",
         "Aditya",
         "Programming",
         "2024-05-10",
         80,
         4.5,
         "Active",
         4,
         "Rakesh"
        ],
        [
         "Data Analysis with Excel",
         "ENR002",
         "Simran",
         "Analytics",
         "2024-05-12",
         100,
         4.7,
         "Completed",
         3,
         "Anjali"
        ],
        [
         "Power BI Essentials",
         "ENR003",
         "Aakash",
         "Analytics",
         "2024-05-13",
         30,
         3.8,
         "Active",
         5,
         "Rekha"
        ],
        [
         "Java Basics",
         "ENR004",
         "Neha",
         "Programming",
         "2024-05-15",
         0,
         null,
         "Inactive",
         6,
         "Manoj"
        ],
        [
         "Machine Learning 101",
         "ENR005",
         "Zara",
         "AI",
         "2024-05-17",
         60,
         4.2,
         "Active",
         8,
         "Samir"
        ],
        [
         "Python for Beginners",
         "ENR006",
         "Ibrahim",
         "Programming",
         "2024-05-18",
         90,
         4.6,
         "Completed",
         4,
         "Rakesh"
        ]
       ],
       "datasetInfos": [],
       "dbfsResultPath": null,
       "isJsonSchema": true,
       "metadata": {},
       "overflow": false,
       "plotOptions": {
        "customPlotOptions": {},
        "displayType": "table",
        "pivotAggregation": null,
        "pivotColumns": null,
        "xColumns": null,
        "yColumns": null
       },
       "removedWidgets": [],
       "schema": [
        {
         "metadata": "{}",
         "name": "CourseName",
         "type": "\"string\""
        },
        {
         "metadata": "{}",
         "name": "EnrollmentID",
         "type": "\"string\""
        },
        {
         "metadata": "{}",
         "name": "StudentName",
         "type": "\"string\""
        },
        {
         "metadata": "{}",
         "name": "Category",
         "type": "\"string\""
        },
        {
         "metadata": "{}",
         "name": "EnrollDate",
         "type": "\"date\""
        },
        {
         "metadata": "{}",
         "name": "ProgressPercent",
         "type": "\"integer\""
        },
        {
         "metadata": "{}",
         "name": "Rating",
         "type": "\"double\""
        },
        {
         "metadata": "{}",
         "name": "Status",
         "type": "\"string\""
        },
        {
         "metadata": "{}",
         "name": "DurationWeeks",
         "type": "\"integer\""
        },
        {
         "metadata": "{}",
         "name": "Instructor",
         "type": "\"string\""
        }
       ],
       "type": "table"
      }
     },
     "output_type": "display_data"
    }
   ],
   "source": [
    "# Joins\n",
    "# 9. Create second CSV: course_details.csv\n",
    "# CourseName,DurationWeeks,Instructor\n",
    "# Python for Beginners,4,Rakesh\n",
    "# Data Analysis with Excel,3,Anjali\n",
    "# Power BI Essentials,5,Rekha\n",
    "# Java Basics,6,Manoj\n",
    "# Machine Learning 101,8,Samir\n",
    "df_second= spark.read.option(\"header\", True).option(\"inferSchema\", True).csv(\"file:/Workspace/Shared/course_details.csv\")\n",
    "df_second.show()\n",
    "# 10. Join course_enrollments with course_details to include duration and instructor.\n",
    "df_joined = df.join(df_second, on=\"CourseName\", how=\"inner\")\n",
    "\n",
    "df_joined.display()\n"
   ]
  },
  {
   "cell_type": "code",
   "execution_count": 0,
   "metadata": {
    "application/vnd.databricks.v1+cell": {
     "cellMetadata": {
      "byteLimit": 2048000,
      "rowLimit": 10000
     },
     "inputWidgets": {},
     "nuid": "9d50788b-da5a-45fa-a735-8eaaa71bb90c",
     "showTitle": false,
     "tableResultSettingsMap": {},
     "title": ""
    }
   },
   "outputs": [
    {
     "output_type": "stream",
     "name": "stdout",
     "output_type": "stream",
     "text": [
      "+-----------+--------------------+---------------+------------+\n|StudentName|          CourseName|ProgressPercent|ProgressRank|\n+-----------+--------------------+---------------+------------+\n|     Simran|Data Analysis wit...|            100|           1|\n|       Neha|         Java Basics|              0|           1|\n|       Zara|Machine Learning 101|             60|           1|\n|     Aakash| Power BI Essentials|             30|           1|\n|    Ibrahim|Python for Beginners|             90|           1|\n|     Aditya|Python for Beginners|             80|           2|\n+-----------+--------------------+---------------+------------+\n\n+-----------+-----------+----------+--------------+--------------+\n|StudentName|   Category|EnrollDate|PrevEnrollDate|NextEnrollDate|\n+-----------+-----------+----------+--------------+--------------+\n|       Zara|         AI|2024-05-17|          NULL|          NULL|\n|     Simran|  Analytics|2024-05-12|          NULL|    2024-05-13|\n|     Aakash|  Analytics|2024-05-13|    2024-05-12|          NULL|\n|     Aditya|Programming|2024-05-10|          NULL|    2024-05-15|\n|       Neha|Programming|2024-05-15|    2024-05-10|    2024-05-18|\n|    Ibrahim|Programming|2024-05-18|    2024-05-15|          NULL|\n+-----------+-----------+----------+--------------+--------------+\n\n"
     ]
    }
   ],
   "source": [
    "# Window Functions\n",
    "# 11. Rank students in each course based on ProgressPercent .\n",
    "from pyspark.sql.window import Window\n",
    "from pyspark.sql.functions import rank\n",
    "\n",
    "course_window = Window.partitionBy(\"CourseName\").orderBy(col(\"ProgressPercent\").desc())\n",
    "\n",
    "rank = df.withColumn(\"ProgressRank\", rank().over(course_window))\n",
    "rank.select(\"StudentName\", \"CourseName\", \"ProgressPercent\", \"ProgressRank\").show()\n",
    "\n",
    "# 12. Get lead and lag of EnrollDate by Category.\n",
    "from pyspark.sql.functions import lead, lag\n",
    "\n",
    "category_window = Window.partitionBy(\"Category\").orderBy(\"EnrollDate\")\n",
    "\n",
    "df_lead_lag = df.withColumn(\"NextEnrollDate\", lead(\"EnrollDate\", 1).over(category_window)) \\\n",
    "                .withColumn(\"PrevEnrollDate\", lag(\"EnrollDate\", 1).over(category_window))\n",
    "\n",
    "df_lead_lag.select(\"StudentName\", \"Category\", \"EnrollDate\", \"PrevEnrollDate\", \"NextEnrollDate\").show()\n"
   ]
  },
  {
   "cell_type": "code",
   "execution_count": 0,
   "metadata": {
    "application/vnd.databricks.v1+cell": {
     "cellMetadata": {
      "byteLimit": 2048000,
      "rowLimit": 10000
     },
     "inputWidgets": {},
     "nuid": "1fb77856-09a6-405a-9463-e587d7e0dfe2",
     "showTitle": false,
     "tableResultSettingsMap": {},
     "title": ""
    }
   },
   "outputs": [
    {
     "output_type": "stream",
     "name": "stdout",
     "output_type": "stream",
     "text": [
      "+-----------+------+---------+--------+\n|   Category|Active|Completed|Inactive|\n+-----------+------+---------+--------+\n|Programming|     1|        1|       1|\n|         AI|     1|     NULL|    NULL|\n|  Analytics|     1|        1|    NULL|\n+-----------+------+---------+--------+\n\n"
     ]
    },
    {
     "output_type": "display_data",
     "data": {
      "text/html": [
       "<style scoped>\n",
       "  .table-result-container {\n",
       "    max-height: 300px;\n",
       "    overflow: auto;\n",
       "  }\n",
       "  table, th, td {\n",
       "    border: 1px solid black;\n",
       "    border-collapse: collapse;\n",
       "  }\n",
       "  th, td {\n",
       "    padding: 5px;\n",
       "  }\n",
       "  th {\n",
       "    text-align: left;\n",
       "  }\n",
       "</style><div class='table-result-container'><table class='table-result'><thead style='background-color: white'><tr><th>EnrollmentID</th><th>StudentName</th><th>CourseName</th><th>Category</th><th>EnrollDate</th><th>ProgressPercent</th><th>Rating</th><th>Status</th><th>EnrollYear</th><th>EnrollMonth</th></tr></thead><tbody><tr><td>ENR001</td><td>Aditya</td><td>Python for Beginners</td><td>Programming</td><td>2024-05-10</td><td>80</td><td>4.5</td><td>Active</td><td>2024</td><td>5</td></tr><tr><td>ENR002</td><td>Simran</td><td>Data Analysis with Excel</td><td>Analytics</td><td>2024-05-12</td><td>100</td><td>4.7</td><td>Completed</td><td>2024</td><td>5</td></tr><tr><td>ENR003</td><td>Aakash</td><td>Power BI Essentials</td><td>Analytics</td><td>2024-05-13</td><td>30</td><td>3.8</td><td>Active</td><td>2024</td><td>5</td></tr><tr><td>ENR004</td><td>Neha</td><td>Java Basics</td><td>Programming</td><td>2024-05-15</td><td>0</td><td>null</td><td>Inactive</td><td>2024</td><td>5</td></tr><tr><td>ENR005</td><td>Zara</td><td>Machine Learning 101</td><td>AI</td><td>2024-05-17</td><td>60</td><td>4.2</td><td>Active</td><td>2024</td><td>5</td></tr><tr><td>ENR006</td><td>Ibrahim</td><td>Python for Beginners</td><td>Programming</td><td>2024-05-18</td><td>90</td><td>4.6</td><td>Completed</td><td>2024</td><td>5</td></tr></tbody></table></div>"
      ]
     },
     "metadata": {
      "application/vnd.databricks.v1+output": {
       "addedWidgets": {},
       "aggData": [],
       "aggError": "",
       "aggOverflow": false,
       "aggSchema": [],
       "aggSeriesLimitReached": false,
       "aggType": "",
       "arguments": {},
       "columnCustomDisplayInfos": {},
       "data": [
        [
         "ENR001",
         "Aditya",
         "Python for Beginners",
         "Programming",
         "2024-05-10",
         80,
         4.5,
         "Active",
         2024,
         5
        ],
        [
         "ENR002",
         "Simran",
         "Data Analysis with Excel",
         "Analytics",
         "2024-05-12",
         100,
         4.7,
         "Completed",
         2024,
         5
        ],
        [
         "ENR003",
         "Aakash",
         "Power BI Essentials",
         "Analytics",
         "2024-05-13",
         30,
         3.8,
         "Active",
         2024,
         5
        ],
        [
         "ENR004",
         "Neha",
         "Java Basics",
         "Programming",
         "2024-05-15",
         0,
         null,
         "Inactive",
         2024,
         5
        ],
        [
         "ENR005",
         "Zara",
         "Machine Learning 101",
         "AI",
         "2024-05-17",
         60,
         4.2,
         "Active",
         2024,
         5
        ],
        [
         "ENR006",
         "Ibrahim",
         "Python for Beginners",
         "Programming",
         "2024-05-18",
         90,
         4.6,
         "Completed",
         2024,
         5
        ]
       ],
       "datasetInfos": [],
       "dbfsResultPath": null,
       "isJsonSchema": true,
       "metadata": {},
       "overflow": false,
       "plotOptions": {
        "customPlotOptions": {},
        "displayType": "table",
        "pivotAggregation": null,
        "pivotColumns": null,
        "xColumns": null,
        "yColumns": null
       },
       "removedWidgets": [],
       "schema": [
        {
         "metadata": "{}",
         "name": "EnrollmentID",
         "type": "\"string\""
        },
        {
         "metadata": "{}",
         "name": "StudentName",
         "type": "\"string\""
        },
        {
         "metadata": "{}",
         "name": "CourseName",
         "type": "\"string\""
        },
        {
         "metadata": "{}",
         "name": "Category",
         "type": "\"string\""
        },
        {
         "metadata": "{}",
         "name": "EnrollDate",
         "type": "\"date\""
        },
        {
         "metadata": "{}",
         "name": "ProgressPercent",
         "type": "\"integer\""
        },
        {
         "metadata": "{}",
         "name": "Rating",
         "type": "\"double\""
        },
        {
         "metadata": "{}",
         "name": "Status",
         "type": "\"string\""
        },
        {
         "metadata": "{}",
         "name": "EnrollYear",
         "type": "\"integer\""
        },
        {
         "metadata": "{}",
         "name": "EnrollMonth",
         "type": "\"integer\""
        }
       ],
       "type": "table"
      }
     },
     "output_type": "display_data"
    }
   ],
   "source": [
    "#Pivoting & Formatting\n",
    "#13. Pivot data to show total enrollments by Category and Status.\n",
    "from pyspark.sql.functions import count\n",
    "\n",
    "df_pivot = df.groupBy(\"Category\").pivot(\"Status\").agg(count(\"EnrollmentID\"))\n",
    "df_pivot.show()\n",
    "\n",
    "#14. Extract year and month from EnrollDate .\n",
    "from pyspark.sql.functions import year, month\n",
    "\n",
    "df.withColumn(\"EnrollYear\", year(\"EnrollDate\")).withColumn(\"EnrollMonth\", month(\"EnrollDate\")).display()\n",
    "\n"
   ]
  },
  {
   "cell_type": "code",
   "execution_count": 0,
   "metadata": {
    "application/vnd.databricks.v1+cell": {
     "cellMetadata": {
      "byteLimit": 2048000,
      "rowLimit": 10000
     },
     "inputWidgets": {},
     "nuid": "35680f87-8d60-4cc4-9b89-5cc9adf813b6",
     "showTitle": false,
     "tableResultSettingsMap": {},
     "title": ""
    }
   },
   "outputs": [
    {
     "output_type": "stream",
     "name": "stdout",
     "output_type": "stream",
     "text": [
      "+------------+-----------+--------------------+-----------+----------+---------------+------+---------+\n|EnrollmentID|StudentName|          CourseName|   Category|EnrollDate|ProgressPercent|Rating|   Status|\n+------------+-----------+--------------------+-----------+----------+---------------+------+---------+\n|      ENR001|     Aditya|Python for Beginners|Programming|2024-05-10|             80|   4.5|   Active|\n|      ENR002|     Simran|Data Analysis wit...|  Analytics|2024-05-12|            100|   4.7|Completed|\n|      ENR003|     Aakash| Power BI Essentials|  Analytics|2024-05-13|             30|   3.8|   Active|\n|      ENR004|       Neha|         Java Basics|Programming|2024-05-15|              0|  NULL| Inactive|\n|      ENR005|       Zara|Machine Learning 101|         AI|2024-05-17|             60|   4.2|   Active|\n|      ENR006|    Ibrahim|Python for Beginners|Programming|2024-05-18|             90|   4.6|Completed|\n+------------+-----------+--------------------+-----------+----------+---------------+------+---------+\n\n+------------+-----------+--------------------+-----------+----------+---------------+------+---------+\n|EnrollmentID|StudentName|          CourseName|   Category|EnrollDate|ProgressPercent|Rating|   Status|\n+------------+-----------+--------------------+-----------+----------+---------------+------+---------+\n|      ENR004|       Neha|         Java Basics|Programming|2024-05-15|              0|  NULL| Inactive|\n|      ENR005|       Zara|Machine Learning 101|         AI|2024-05-17|             60|   4.2|   Active|\n|      ENR002|     Simran|Data Analysis wit...|  Analytics|2024-05-12|            100|   4.7|Completed|\n|      ENR003|     Aakash| Power BI Essentials|  Analytics|2024-05-13|             30|   3.8|   Active|\n|      ENR006|    Ibrahim|Python for Beginners|Programming|2024-05-18|             90|   4.6|Completed|\n|      ENR001|     Aditya|Python for Beginners|Programming|2024-05-10|             80|   4.5|   Active|\n+------------+-----------+--------------------+-----------+----------+---------------+------+---------+\n\n"
     ]
    }
   ],
   "source": [
    "# Cleaning and Deduplication\n",
    "# 15. Drop rows where Status is null or empty.\n",
    "from pyspark.sql.functions import col, trim\n",
    "\n",
    "df_cleaned = df.filter((col(\"Status\").isNotNull()) & (trim(col(\"Status\")) != \"\"))\n",
    "df_cleaned.show()\n",
    "\n",
    "# 16. Remove duplicate enrollments using dropDuplicates()\n",
    "\n",
    "df_cleaned.dropDuplicates([\"EnrollmentID\"]).show()\n"
   ]
  },
  {
   "cell_type": "code",
   "execution_count": 0,
   "metadata": {
    "application/vnd.databricks.v1+cell": {
     "cellMetadata": {
      "byteLimit": 2048000,
      "rowLimit": 10000
     },
     "inputWidgets": {},
     "nuid": "f750f4f1-231f-46b1-8678-ce3fa17c2f82",
     "showTitle": false,
     "tableResultSettingsMap": {},
     "title": ""
    }
   },
   "outputs": [],
   "source": [
    "# Export\n",
    "# 17. Write the final cleaned DataFrame to:\n",
    "# CSV (overwrite mode)\n",
    "# JSON (overwrite mode)\n",
    "# Parquet (snappy compression)\n",
    "df_cleaned.write.mode(\"overwrite\").option(\"header\", True).csv(\"file:/Workspace/Shared/output/courses_csv\")\n",
    "df_cleaned.write.mode(\"overwrite\").json(\"file:/Workspace/Shared/output/courses_json\")\n",
    "df_cleaned.write.mode(\"overwrite\").option(\"compression\", \"snappy\").parquet(\"file:/Workspace/Shared/output/courses_parquet\")\n"
   ]
  }
 ],
 "metadata": {
  "application/vnd.databricks.v1+notebook": {
   "computePreferences": null,
   "dashboards": [],
   "environmentMetadata": {
    "base_environment": "",
    "environment_version": "2"
   },
   "inputWidgetPreferences": null,
   "language": "python",
   "notebookMetadata": {
    "pythonIndentUnit": 4
   },
   "notebookName": "June_16_Assignment_1",
   "widgets": {}
  },
  "language_info": {
   "name": "python"
  }
 },
 "nbformat": 4,
 "nbformat_minor": 0
}