{
 "cells": [
  {
   "cell_type": "code",
   "execution_count": 0,
   "metadata": {
    "application/vnd.databricks.v1+cell": {
     "cellMetadata": {
      "byteLimit": 2048000,
      "rowLimit": 10000
     },
     "inputWidgets": {},
     "nuid": "4194691f-9cf2-4447-b5f7-48298473fdd4",
     "showTitle": false,
     "tableResultSettingsMap": {},
     "title": ""
    }
   },
   "outputs": [],
   "source": [
    "from pyspark.sql import SparkSession\n",
    "spark=SparkSession.builder.appName(\"Employee_data\").getOrCreate()"
   ]
  },
  {
   "cell_type": "code",
   "execution_count": 0,
   "metadata": {
    "application/vnd.databricks.v1+cell": {
     "cellMetadata": {
      "byteLimit": 2048000,
      "rowLimit": 10000
     },
     "inputWidgets": {},
     "nuid": "dc8af79b-27b1-4bfa-90f6-64465e824dc5",
     "showTitle": false,
     "tableResultSettingsMap": {},
     "title": ""
    }
   },
   "outputs": [],
   "source": [
    "data = [\n",
    "(\"Ananya\", \"HR\", 52000),\n",
    "(\"Rahul\", \"Engineering\", 65000),\n",
    "(\"Priya\", \"Engineering\", 60000),\n",
    "(\"Zoya\", \"Marketing\", 48000),\n",
    "(\"Karan\", \"HR\", 53000),\n",
    "(\"Naveen\", \"Engineering\", 70000),\n",
    "(\"Fatima\", \"Marketing\", 45000)\n",
    "]\n",
    "columns = [\"Name\", \"Department\", \"Salary\"]\n",
    "df = spark.createDataFrame(data, columns)"
   ]
  },
  {
   "cell_type": "code",
   "execution_count": 0,
   "metadata": {
    "application/vnd.databricks.v1+cell": {
     "cellMetadata": {
      "byteLimit": 2048000,
      "rowLimit": 10000
     },
     "inputWidgets": {},
     "nuid": "70fd0194-67da-4f34-bdac-4cd88a5b0c17",
     "showTitle": false,
     "tableResultSettingsMap": {},
     "title": ""
    }
   },
   "outputs": [],
   "source": [
    "performance = [\n",
    "(\"Ananya\", 2023, 4.5),\n",
    "(\"Rahul\", 2023, 4.9),\n",
    "(\"Priya\", 2023, 4.3),\n",
    "(\"Zoya\", 2023, 3.8),\n",
    "(\"Karan\", 2023, 4.1),\n",
    "(\"Naveen\", 2023, 4.7),\n",
    "(\"Fatima\", 2023, 3.9)\n",
    "]\n",
    "columns_perf = [\"Name\", \"Year\", \"Rating\"]\n",
    "df_perf = spark.createDataFrame(performance, columns_perf)\n",
    "\n"
   ]
  },
  {
   "cell_type": "code",
   "execution_count": 0,
   "metadata": {
    "application/vnd.databricks.v1+cell": {
     "cellMetadata": {
      "byteLimit": 2048000,
      "rowLimit": 10000
     },
     "inputWidgets": {},
     "nuid": "2933886b-a3e9-496c-904d-1e86de6989d9",
     "showTitle": false,
     "tableResultSettingsMap": {},
     "title": ""
    }
   },
   "outputs": [
    {
     "output_type": "stream",
     "name": "stdout",
     "output_type": "stream",
     "text": [
      "+-----------+-------------+\n| Department|AverageSalary|\n+-----------+-------------+\n|         HR|      52500.0|\n|Engineering|      65000.0|\n|  Marketing|      46500.0|\n+-----------+-------------+\n\n+-----------+-------------+\n| Department|NoOfEmployees|\n+-----------+-------------+\n|         HR|            2|\n|Engineering|            3|\n|  Marketing|            2|\n+-----------+-------------+\n\n+---------+---------+\n|MaxSalary|MinSalary|\n+---------+---------+\n|    70000|    60000|\n+---------+---------+\n\n"
     ]
    }
   ],
   "source": [
    "# GroupBy and Aggregations\n",
    "from pyspark.sql.functions import *\n",
    "# 1. Get the average salary by department.\n",
    "df.groupBy(\"Department\").avg(\"Salary\").withColumnRenamed(\"avg(Salary)\", \"AverageSalary\").show()\n",
    "\n",
    "# 2. Count of employees per department.\n",
    "df.groupBy(\"Department\").agg(count(\"*\").alias(\"NoOfEmployees\")).show()\n",
    "\n",
    "# 3. Maximum and minimum salary in Engineering.\n",
    "df.filter(col(\"Department\") == \"Engineering\").agg(max(\"Salary\").alias(\"MaxSalary\"), min(\"Salary\").alias(\"MinSalary\")).show()"
   ]
  },
  {
   "cell_type": "code",
   "execution_count": 0,
   "metadata": {
    "application/vnd.databricks.v1+cell": {
     "cellMetadata": {
      "byteLimit": 2048000,
      "rowLimit": 10000
     },
     "inputWidgets": {},
     "nuid": "a127d34d-ed62-41b8-aaa5-8efc9420f5da",
     "showTitle": false,
     "tableResultSettingsMap": {},
     "title": ""
    }
   },
   "outputs": [
    {
     "output_type": "stream",
     "name": "stdout",
     "output_type": "stream",
     "text": [
      "+------+------+------+\n|  Name|Salary|Rating|\n+------+------+------+\n|Ananya| 52000|   4.5|\n|Fatima| 45000|   3.9|\n| Karan| 53000|   4.1|\n|Naveen| 70000|   4.7|\n| Priya| 60000|   4.3|\n| Rahul| 65000|   4.9|\n|  Zoya| 48000|   3.8|\n+------+------+------+\n\n+------+-----------+------+----+------+\n|  Name| Department|Salary|Year|Rating|\n+------+-----------+------+----+------+\n|Naveen|Engineering| 70000|2023|   4.7|\n| Rahul|Engineering| 65000|2023|   4.9|\n+------+-----------+------+----+------+\n\n"
     ]
    }
   ],
   "source": [
    "# Join and Combine Data\n",
    "# 4. Perform an inner join between employee_data and performance_data on Name .\n",
    "df_joined = df.join(df_perf, on=\"Name\", how=\"inner\")\n",
    "\n",
    "# 5. Show each employee’s salary and performance rating.\n",
    "df_joined.select(\"Name\", \"Salary\", \"Rating\").show()\n",
    "\n",
    "# 6. Filter employees with rating > 4.5 and salary > 60000.\n",
    "df_joined.filter((col(\"Rating\") > 4.5) & (col(\"Salary\") > 60000)).show()\n"
   ]
  },
  {
   "cell_type": "code",
   "execution_count": 0,
   "metadata": {
    "application/vnd.databricks.v1+cell": {
     "cellMetadata": {
      "byteLimit": 2048000,
      "rowLimit": 10000
     },
     "inputWidgets": {},
     "nuid": "068a4053-22cc-4efc-9d1e-237703d01f12",
     "showTitle": false,
     "tableResultSettingsMap": {},
     "title": ""
    }
   },
   "outputs": [
    {
     "output_type": "stream",
     "name": "stdout",
     "output_type": "stream",
     "text": [
      "+------+-----------+------+----+\n|  Name| Department|Salary|Rank|\n+------+-----------+------+----+\n|Naveen|Engineering| 70000|   1|\n| Rahul|Engineering| 65000|   2|\n| Priya|Engineering| 60000|   3|\n| Karan|         HR| 53000|   1|\n|Ananya|         HR| 52000|   2|\n|  Zoya|  Marketing| 48000|   1|\n|Fatima|  Marketing| 45000|   2|\n+------+-----------+------+----+\n\n+------+-----------+------+----------------+\n|  Name| Department|Salary|CumulativeSalary|\n+------+-----------+------+----------------+\n| Priya|Engineering| 60000|           60000|\n| Rahul|Engineering| 65000|          125000|\n|Naveen|Engineering| 70000|          195000|\n|Ananya|         HR| 52000|           52000|\n| Karan|         HR| 53000|          105000|\n|Fatima|  Marketing| 45000|           45000|\n|  Zoya|  Marketing| 48000|           93000|\n+------+-----------+------+----------------+\n\n"
     ]
    }
   ],
   "source": [
    "# Window & Rank (Bonus Challenge)\n",
    "# 7. Rank employees by salary department-wise.\n",
    "from pyspark.sql.window import Window\n",
    "from pyspark.sql.functions import rank, sum as _sum, col\n",
    "\n",
    "_rank = Window.partitionBy(\"Department\").orderBy(col(\"Salary\").desc())\n",
    "df_ranked = df.withColumn(\"Rank\", rank().over(_rank))\n",
    "df_ranked.select(\"Name\", \"Department\", \"Salary\", \"Rank\").show()\n",
    "\n",
    "\n",
    "# 8. Calculate cumulative salary in each department.\n",
    "cumsum = Window.partitionBy(\"Department\").orderBy(\"Salary\").rowsBetween(Window.unboundedPreceding, Window.currentRow)\n",
    "\n",
    "df.withColumn(\"CumulativeSalary\", _sum(\"Salary\").over(cumsum)).show()\n"
   ]
  },
  {
   "cell_type": "code",
   "execution_count": 0,
   "metadata": {
    "application/vnd.databricks.v1+cell": {
     "cellMetadata": {
      "byteLimit": 2048000,
      "rowLimit": 10000
     },
     "inputWidgets": {},
     "nuid": "02d59e12-d46b-4062-ae36-12b88313fd6c",
     "showTitle": false,
     "tableResultSettingsMap": {},
     "title": ""
    }
   },
   "outputs": [
    {
     "output_type": "stream",
     "name": "stdout",
     "output_type": "stream",
     "text": [
      "+------+-----------+------+----------+\n|Name  |Department |Salary|JoinDate  |\n+------+-----------+------+----------+\n|Ananya|HR         |52000 |2022-11-29|\n|Rahul |Engineering|65000 |2022-09-05|\n|Priya |Engineering|60000 |2021-09-14|\n|Zoya  |Marketing  |48000 |2023-05-05|\n|Karan |HR         |53000 |2020-11-02|\n|Naveen|Engineering|70000 |2022-11-27|\n|Fatima|Marketing  |45000 |2022-04-06|\n+------+-----------+------+----------+\n\n+------+-----------+------+----------+----------------+\n|  Name| Department|Salary|  JoinDate|YearsWithCompany|\n+------+-----------+------+----------+----------------+\n|Ananya|         HR| 52000|2023-10-26|             1.6|\n| Rahul|Engineering| 65000|2023-07-11|             1.9|\n| Priya|Engineering| 60000|2020-07-27|             4.9|\n|  Zoya|  Marketing| 48000|2023-10-18|             1.6|\n| Karan|         HR| 53000|2020-01-19|             5.4|\n|Naveen|Engineering| 70000|2021-01-25|             4.4|\n|Fatima|  Marketing| 45000|2021-06-11|             4.0|\n+------+-----------+------+----------+----------------+\n\n"
     ]
    }
   ],
   "source": [
    "# Date Operations\n",
    "# 9. Add a new column JoinDate with random dates between 2020 and 2023.\n",
    "from pyspark.sql.functions import expr\n",
    "\n",
    "# Add JoinDate with random days added to a base date (2020-01-01)\n",
    "joindate = df.withColumn(\n",
    "    \"JoinDate\",expr(\"date_add(date('2020-01-01'), cast(rand() * 1460 as int))\")\n",
    ")\n",
    "joindate.show(truncate=False)\n",
    "\n",
    "# 10. Add column YearsWithCompany using current_date() and datediff() .\n",
    "from pyspark.sql.functions import current_date, datediff, round\n",
    "\n",
    "years = df_with_joindate.withColumn(\n",
    "    \"YearsWithCompany\",round(datediff(current_date(), col(\"JoinDate\")) / 365.0, 1)\n",
    ")\n",
    "years.show()\n",
    "\n"
   ]
  },
  {
   "cell_type": "code",
   "execution_count": 0,
   "metadata": {
    "application/vnd.databricks.v1+cell": {
     "cellMetadata": {
      "byteLimit": 2048000,
      "rowLimit": 10000
     },
     "inputWidgets": {},
     "nuid": "e7d8e0be-af65-42a6-98df-02d0a605aa02",
     "showTitle": false,
     "tableResultSettingsMap": {},
     "title": ""
    }
   },
   "outputs": [],
   "source": [
    "# Writing to Files\n",
    "# 11. Write the full employee DataFrame to CSV with headers.\n",
    "years.write.option(\"header\", True).csv(\"employee_details.csv\")\n",
    "\n",
    "# 12. Save the joined DataFrame to a Parquet file.\n",
    "df_joined.write.parquet(\"employee_performance.parquet\")\n"
   ]
  }
 ],
 "metadata": {
  "application/vnd.databricks.v1+notebook": {
   "computePreferences": null,
   "dashboards": [],
   "environmentMetadata": {
    "base_environment": "",
    "environment_version": "2"
   },
   "inputWidgetPreferences": null,
   "language": "python",
   "notebookMetadata": {
    "pythonIndentUnit": 4
   },
   "notebookName": "Agg & Grouping",
   "widgets": {}
  },
  "language_info": {
   "name": "python"
  }
 },
 "nbformat": 4,
 "nbformat_minor": 0
}