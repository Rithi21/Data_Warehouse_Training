{
  "nbformat": 4,
  "nbformat_minor": 0,
  "metadata": {
    "colab": {
      "provenance": []
    },
    "kernelspec": {
      "name": "python3",
      "display_name": "Python 3"
    },
    "language_info": {
      "name": "python"
    }
  },
  "cells": [
    {
      "cell_type": "code",
      "execution_count": 35,
      "metadata": {
        "colab": {
          "base_uri": "https://localhost:8080/"
        },
        "id": "0tvCp2-Tc9t_",
        "outputId": "6b93a1aa-bf44-4df0-c933-a043e893b5d4"
      },
      "outputs": [
        {
          "output_type": "execute_result",
          "data": {
            "text/plain": [
              "DataFrame[]"
            ]
          },
          "metadata": {},
          "execution_count": 35
        }
      ],
      "source": [
        "from pyspark.sql import SparkSession\n",
        "\n",
        "spark = SparkSession.builder.getOrCreate()\n",
        "\n",
        "spark.sql(\"CREATE DATABASE IF NOT EXISTS sales_db\")\n",
        "spark.sql(\"USE sales_db\")"
      ]
    },
    {
      "cell_type": "code",
      "source": [
        "spark.sql(\"\"\"\n",
        "CREATE TABLE IF NOT EXISTS product_sales (\n",
        "    ProductID INT,\n",
        "    ProductName STRING,\n",
        "    Category STRING,\n",
        "    Price DOUBLE,\n",
        "    Quantity INT,\n",
        "    SaleDate DATE\n",
        ")\n",
        "USING PARQUET\n",
        "\"\"\")\n"
      ],
      "metadata": {
        "colab": {
          "base_uri": "https://localhost:8080/"
        },
        "id": "lkBXiAaddCB1",
        "outputId": "076ffb55-c697-42cd-e1a1-d6147fa11715"
      },
      "execution_count": 36,
      "outputs": [
        {
          "output_type": "execute_result",
          "data": {
            "text/plain": [
              "DataFrame[]"
            ]
          },
          "metadata": {},
          "execution_count": 36
        }
      ]
    },
    {
      "cell_type": "code",
      "source": [
        "spark.sql(\"\"\"\n",
        "INSERT INTO product_sales VALUES\n",
        "(101, 'Smartwatch', 'Electronics', 25000.00, 5, DATE('2023-01-10')),\n",
        "(102, 'Laptop', 'Electronics', 75000.00, 10, DATE('2024-05-14')),\n",
        "(103, 'Chair', 'Furniture', 450.00, 20, DATE('2024-07-22')),\n",
        "(104, 'Shoes', 'Fashion', 2000.00, 7, DATE('2024-09-18')),\n",
        "(105, 'Microwave', 'Appliances', 8500.00, 2, DATE('2025-01-09'))\n",
        "\"\"\")\n"
      ],
      "metadata": {
        "colab": {
          "base_uri": "https://localhost:8080/"
        },
        "id": "IILcBrledL0D",
        "outputId": "9c51984b-cbba-4e2d-b816-daeac2f7a409"
      },
      "execution_count": 37,
      "outputs": [
        {
          "output_type": "execute_result",
          "data": {
            "text/plain": [
              "DataFrame[]"
            ]
          },
          "metadata": {},
          "execution_count": 37
        }
      ]
    },
    {
      "cell_type": "code",
      "source": [
        "# 5. Select all records from product_sales .\n",
        "spark.sql(\"select * from product_sales\").show()\n",
        "\n",
        "# 6. Retrieve products where price is above 500.\n",
        "spark.sql(\"select * from product_sales where Price > 500\").show()\n",
        "\n",
        "# 7. Calculate total sale amount ( Price * Quantity ) for each product.\n",
        "spark.sql(\"select *,(Price * Quantity) as Total_Sale from product_sales\").show()\n",
        "\n",
        "# 8. Find the number of products sold in each Category .\n",
        "spark.sql(\"select Category,COUNT(*) AS Total_Product_Sold from product_sales group by Category\").show()\n",
        "\n",
        "# 9. Sort products by total sales in descending order.\n",
        "spark.sql(\"select *,(Price * Quantity) as Total_Sale from product_sales order by Total_sale desc\").show()"
      ],
      "metadata": {
        "colab": {
          "base_uri": "https://localhost:8080/"
        },
        "id": "Uz2kpkNed2z7",
        "outputId": "e5637419-228c-40fd-e093-887d7fca42b9"
      },
      "execution_count": 38,
      "outputs": [
        {
          "output_type": "stream",
          "name": "stdout",
          "text": [
            "+---------+-----------+-----------+-------+--------+----------+\n",
            "|ProductID|ProductName|   Category|  Price|Quantity|  SaleDate|\n",
            "+---------+-----------+-----------+-------+--------+----------+\n",
            "|      101| Smartwatch|Electronics|25000.0|       5|2023-01-10|\n",
            "|      102|     Laptop|Electronics|75000.0|      10|2024-05-14|\n",
            "|      103|      Chair|  Furniture|  450.0|      20|2024-07-22|\n",
            "|      104|      Shoes|    Fashion| 2000.0|       7|2024-09-18|\n",
            "|      105|  Microwave| Appliances| 8500.0|       2|2025-01-09|\n",
            "+---------+-----------+-----------+-------+--------+----------+\n",
            "\n",
            "+---------+-----------+-----------+-------+--------+----------+\n",
            "|ProductID|ProductName|   Category|  Price|Quantity|  SaleDate|\n",
            "+---------+-----------+-----------+-------+--------+----------+\n",
            "|      101| Smartwatch|Electronics|25000.0|       5|2023-01-10|\n",
            "|      102|     Laptop|Electronics|75000.0|      10|2024-05-14|\n",
            "|      104|      Shoes|    Fashion| 2000.0|       7|2024-09-18|\n",
            "|      105|  Microwave| Appliances| 8500.0|       2|2025-01-09|\n",
            "+---------+-----------+-----------+-------+--------+----------+\n",
            "\n",
            "+---------+-----------+-----------+-------+--------+----------+----------+\n",
            "|ProductID|ProductName|   Category|  Price|Quantity|  SaleDate|Total_Sale|\n",
            "+---------+-----------+-----------+-------+--------+----------+----------+\n",
            "|      101| Smartwatch|Electronics|25000.0|       5|2023-01-10|  125000.0|\n",
            "|      102|     Laptop|Electronics|75000.0|      10|2024-05-14|  750000.0|\n",
            "|      103|      Chair|  Furniture|  450.0|      20|2024-07-22|    9000.0|\n",
            "|      104|      Shoes|    Fashion| 2000.0|       7|2024-09-18|   14000.0|\n",
            "|      105|  Microwave| Appliances| 8500.0|       2|2025-01-09|   17000.0|\n",
            "+---------+-----------+-----------+-------+--------+----------+----------+\n",
            "\n",
            "+-----------+------------------+\n",
            "|   Category|Total_Product_Sold|\n",
            "+-----------+------------------+\n",
            "|Electronics|                 2|\n",
            "|    Fashion|                 1|\n",
            "|  Furniture|                 1|\n",
            "| Appliances|                 1|\n",
            "+-----------+------------------+\n",
            "\n",
            "+---------+-----------+-----------+-------+--------+----------+----------+\n",
            "|ProductID|ProductName|   Category|  Price|Quantity|  SaleDate|Total_Sale|\n",
            "+---------+-----------+-----------+-------+--------+----------+----------+\n",
            "|      102|     Laptop|Electronics|75000.0|      10|2024-05-14|  750000.0|\n",
            "|      101| Smartwatch|Electronics|25000.0|       5|2023-01-10|  125000.0|\n",
            "|      105|  Microwave| Appliances| 8500.0|       2|2025-01-09|   17000.0|\n",
            "|      104|      Shoes|    Fashion| 2000.0|       7|2024-09-18|   14000.0|\n",
            "|      103|      Chair|  Furniture|  450.0|      20|2024-07-22|    9000.0|\n",
            "+---------+-----------+-----------+-------+--------+----------+----------+\n",
            "\n"
          ]
        }
      ]
    },
    {
      "cell_type": "code",
      "source": [
        "# Temporary View Tasks\n",
        "# 10. Create a PySpark DataFrame with dummy product data.\n",
        "\n",
        "from pyspark.sql import Row\n",
        "\n",
        "data = [\n",
        "    Row(ProductID=201, ProductName='Smart Phone', Category='Electronics', Price=15000.0, Quantity=3),\n",
        "    Row(ProductID=202, ProductName='Camera', Category='Electronics', Price=22000.0, Quantity=1),\n",
        "    Row(ProductID=203, ProductName='T-shirt', Category='Fashion', Price=500.0, Quantity=5),\n",
        "    Row(ProductID=204, ProductName='Refrigerator', Category='Appliances', Price=25000.0, Quantity=2),\n",
        "    Row(ProductID=205, ProductName='Blendor', Category='Appliances', Price=3000.0, Quantity=10),\n",
        "]\n",
        "\n",
        "df = spark.createDataFrame(data)\n"
      ],
      "metadata": {
        "id": "jcIGc-8lgSkF"
      },
      "execution_count": 39,
      "outputs": []
    },
    {
      "cell_type": "code",
      "source": [
        "# 11. Register it as a temporary view called temp_orders .\n",
        "df.createOrReplaceTempView(\"temp_orders\")\n",
        "\n",
        "# 12. Run a SQL query to filter temp_orders where quantity > 1.\n",
        "spark.sql(\"select * from temp_orders where Quantity > 1\").show()"
      ],
      "metadata": {
        "colab": {
          "base_uri": "https://localhost:8080/"
        },
        "id": "hDNgvDudhJlv",
        "outputId": "61c41191-0b23-444f-9004-091f698cd764"
      },
      "execution_count": 40,
      "outputs": [
        {
          "output_type": "stream",
          "name": "stdout",
          "text": [
            "+---------+------------+-----------+-------+--------+\n",
            "|ProductID| ProductName|   Category|  Price|Quantity|\n",
            "+---------+------------+-----------+-------+--------+\n",
            "|      201| Smart Phone|Electronics|15000.0|       3|\n",
            "|      203|     T-shirt|    Fashion|  500.0|       5|\n",
            "|      204|Refrigerator| Appliances|25000.0|       2|\n",
            "|      205|     Blendor| Appliances| 3000.0|      10|\n",
            "+---------+------------+-----------+-------+--------+\n",
            "\n"
          ]
        }
      ]
    },
    {
      "cell_type": "code",
      "source": [
        "# 13. Create a global temp view from a PySpark DataFrame named global_orders .\n",
        "df.createOrReplaceGlobalTempView(\"global_orders\")\n",
        "\n",
        "# 14. Run a SQL query on the global view from another notebook cell/session.\n",
        "spark.sql(\"select * from global_temp.global_orders where Quantity > 1\").show()"
      ],
      "metadata": {
        "colab": {
          "base_uri": "https://localhost:8080/"
        },
        "id": "Cs5FEMQOhMmC",
        "outputId": "0842ab0e-b06e-4550-ad7c-961807eeae34"
      },
      "execution_count": 41,
      "outputs": [
        {
          "output_type": "stream",
          "name": "stdout",
          "text": [
            "+---------+------------+-----------+-------+--------+\n",
            "|ProductID| ProductName|   Category|  Price|Quantity|\n",
            "+---------+------------+-----------+-------+--------+\n",
            "|      201| Smart Phone|Electronics|15000.0|       3|\n",
            "|      203|     T-shirt|    Fashion|  500.0|       5|\n",
            "|      204|Refrigerator| Appliances|25000.0|       2|\n",
            "|      205|     Blendor| Appliances| 3000.0|      10|\n",
            "+---------+------------+-----------+-------+--------+\n",
            "\n"
          ]
        }
      ]
    },
    {
      "cell_type": "code",
      "source": [
        "# Join Tasks\n",
        "# 15. Create a second table customer_details with:\n",
        "# CustomerID , Name , Gender , City , SignupDate\n",
        "spark.sql(\"\"\"\n",
        "CREATE TABLE IF NOT EXISTS customer_details (\n",
        "    CustomerID INT,Name STRING,Gender STRING,\n",
        "    City STRING,SignupDate DATE\n",
        ")\n",
        "USING PARQUET\n",
        "\"\"\")\n",
        "\n",
        "# 16. Insert at least 3 records into customer_details .\n",
        "spark.sql(\"\"\"\n",
        "INSERT INTO customer_details VALUES\n",
        "(101, 'Rahul', 'M', 'Chennai', DATE('2022-01-15')),\n",
        "(102, 'Priya', 'F', 'Delhi', DATE('2023-07-01')),\n",
        "(105, 'Isha', 'F', 'Mumbai', DATE('2024-10-22'))\n",
        "\"\"\")"
      ],
      "metadata": {
        "colab": {
          "base_uri": "https://localhost:8080/"
        },
        "id": "17CzXvfOhhXF",
        "outputId": "0aeae473-f7a9-4f15-e259-9519a9a733c3"
      },
      "execution_count": 42,
      "outputs": [
        {
          "output_type": "execute_result",
          "data": {
            "text/plain": [
              "DataFrame[]"
            ]
          },
          "metadata": {},
          "execution_count": 42
        }
      ]
    },
    {
      "cell_type": "code",
      "source": [
        "# 17. Write a SQL join between product_sales and customer_details based on\n",
        "# ProductID = CustomerID (simulate a match).\n",
        "\n",
        "spark.sql(\"\"\"\n",
        "SELECT p.ProductID, p.ProductName, c.Name as Customer_Name, c.City,p.price, p.Quantity, p.SaleDate\n",
        "FROM product_sales p\n",
        "JOIN customer_details c ON p.ProductID = c.CustomerID\n",
        "\"\"\").show()\n",
        "\n",
        "# 18. List customers who bought more than 2 products.\n",
        "spark.sql(\"\"\"\n",
        "SELECT c.CustomerID, c.Name, SUM(p.Quantity) AS Products_Bought\n",
        "FROM product_sales p\n",
        "JOIN customer_details c ON p.ProductID = c.CustomerID\n",
        "GROUP BY c.CustomerID, c.Name\n",
        "HAVING SUM(p.Quantity) > 2\n",
        "\"\"\").show()\n"
      ],
      "metadata": {
        "colab": {
          "base_uri": "https://localhost:8080/"
        },
        "id": "k9nbRMnKhk2R",
        "outputId": "29ed1f37-3bff-4f61-8a3d-444ea65c148d"
      },
      "execution_count": 43,
      "outputs": [
        {
          "output_type": "stream",
          "name": "stdout",
          "text": [
            "+---------+-----------+-------------+-------+-------+--------+----------+\n",
            "|ProductID|ProductName|Customer_Name|   City|  price|Quantity|  SaleDate|\n",
            "+---------+-----------+-------------+-------+-------+--------+----------+\n",
            "|      101| Smartwatch|        Rahul|Chennai|25000.0|       5|2023-01-10|\n",
            "|      102|     Laptop|        Priya|  Delhi|75000.0|      10|2024-05-14|\n",
            "|      105|  Microwave|         Isha| Mumbai| 8500.0|       2|2025-01-09|\n",
            "+---------+-----------+-------------+-------+-------+--------+----------+\n",
            "\n",
            "+----------+-----+---------------+\n",
            "|CustomerID| Name|Products_Bought|\n",
            "+----------+-----+---------------+\n",
            "|       102|Priya|             10|\n",
            "|       101|Rahul|              5|\n",
            "+----------+-----+---------------+\n",
            "\n"
          ]
        }
      ]
    },
    {
      "cell_type": "code",
      "source": [
        "# View & Summary Tasks\n",
        "# 19. Create a SQL view sales_summary that includes:\n",
        "# ProductName , Price , Quantity , Total = Price * Quantity\n",
        "spark.sql(\"\"\"\n",
        "CREATE OR REPLACE VIEW sales_summary AS\n",
        "select\n",
        "    ProductName,Price,Quantity,\n",
        "    (Price * Quantity) AS Total\n",
        "from product_sales\n",
        "\"\"\")\n",
        "\n",
        "# 20. Query the view for records with Total > 1000 .\n",
        "spark.sql(\"select * from sales_summary WHERE Total > 1000\").show()\n",
        "\n"
      ],
      "metadata": {
        "colab": {
          "base_uri": "https://localhost:8080/"
        },
        "id": "vWKJ9LFzh1it",
        "outputId": "596865b6-c836-4052-8ba1-b993ca331284"
      },
      "execution_count": 44,
      "outputs": [
        {
          "output_type": "stream",
          "name": "stdout",
          "text": [
            "+-----------+-------+--------+--------+\n",
            "|ProductName|  Price|Quantity|   Total|\n",
            "+-----------+-------+--------+--------+\n",
            "| Smartwatch|25000.0|       5|125000.0|\n",
            "|     Laptop|75000.0|      10|750000.0|\n",
            "|      Chair|  450.0|      20|  9000.0|\n",
            "|      Shoes| 2000.0|       7| 14000.0|\n",
            "|  Microwave| 8500.0|       2| 17000.0|\n",
            "+-----------+-------+--------+--------+\n",
            "\n"
          ]
        }
      ]
    },
    {
      "cell_type": "code",
      "source": [
        "# 21. Drop the view sales_summary .\n",
        "spark.sql(\"DROP VIEW IF EXISTS sales_summary\")\n",
        "\n",
        "# 22. Drop the tables product_sales and customer_details .\n",
        "spark.sql(\"DROP TABLE IF EXISTS product_sales\")\n",
        "spark.sql(\"DROP TABLE IF EXISTS customer_details\")\n",
        "\n",
        "# 23. Drop the database sales_db\n",
        "spark.sql(\"DROP DATABASE IF EXISTS sales_db CASCADE\")\n",
        "\n"
      ],
      "metadata": {
        "colab": {
          "base_uri": "https://localhost:8080/"
        },
        "id": "ryBbu56yh1XK",
        "outputId": "4356a6b3-7dcf-453b-8667-ae130a201c2e"
      },
      "execution_count": 45,
      "outputs": [
        {
          "output_type": "execute_result",
          "data": {
            "text/plain": [
              "DataFrame[]"
            ]
          },
          "metadata": {},
          "execution_count": 45
        }
      ]
    }
  ]
}