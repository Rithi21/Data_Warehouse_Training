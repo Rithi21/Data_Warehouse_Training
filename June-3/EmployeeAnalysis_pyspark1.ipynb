{
  "cells": [
    {
      "cell_type": "code",
      "execution_count": null,
      "metadata": {
        "colab": {
          "base_uri": "https://localhost:8080/"
        },
        "id": "4p_USujAHB21",
        "outputId": "fbe2be13-0628-4f57-eaa2-6419c0eaec92"
      },
      "outputs": [
        {
          "name": "stdout",
          "output_type": "stream",
          "text": [
            "Mounted at /content/drive\n"
          ]
        }
      ],
      "source": [
        "from google.colab import drive\n",
        "drive.mount('/content/drive')\n",
        "from pyspark.sql import SparkSession\n",
        "\n",
        "spark = SparkSession.builder.appName(\"EmployeeAnalysis\").getOrCreate()\n",
        "\n",
        "# Load the CSV file\n",
        "df = spark.read.csv(\"/content/drive/MyDrive/large_employee_dataset.csv\", header=True, inferSchema=True)\n"
      ]
    },
    {
      "cell_type": "code",
      "execution_count": null,
      "metadata": {
        "colab": {
          "base_uri": "https://localhost:8080/"
        },
        "id": "PfVbITtYHZjo",
        "outputId": "19ba090e-9e4a-4986-d980-fdec9c135941"
      },
      "outputs": [
        {
          "name": "stdout",
          "output_type": "stream",
          "text": [
            "+----------+--------------------+---+----------+------+-----------+--------+------------+\n",
            "|EmployeeID|                Name|Age|Department|Salary|JoiningDate|  Status|        City|\n",
            "+----------+--------------------+---+----------+------+-----------+--------+------------+\n",
            "|      4128|     Charles Johnson| 52|        HR| 64039| 2018-07-07|Resigned|   Allentown|\n",
            "|      6094|       Dylan Camacho| 57| Marketing| 34686| 2015-08-25|  Active| Anthonyfort|\n",
            "|      5883| Mr. Ryan Bowman Jr.| 29|   Finance| 64541| 2025-03-11|On Leave|   Gilesstad|\n",
            "|      9146|          Brian Ball| 24|     Sales| 87831| 2015-10-01|Resigned|Jenniferfurt|\n",
            "|      1918|       Angela Hooper| 26|   Finance|108773| 2019-08-14|On Leave|Lake Amystad|\n",
            "|      4600|Alexander Johnson...| 45|     Sales| 75671| 2016-04-21|On Leave|  Russohaven|\n",
            "|      6253|         Steven Lane| 47|   Finance| 64982| 2021-07-25|  Active| East Robert|\n",
            "|      8278|       Riley Johnson| 49|        HR| 43449| 2015-08-03|Resigned|  New Thomas|\n",
            "|      8520|    Emily Washington| 43|   Finance| 33851| 2021-11-30|Resigned| West Ashley|\n",
            "|      1298|     Valerie Fleming| 42| Marketing| 70137| 2019-12-08|Resigned| Caseborough|\n",
            "+----------+--------------------+---+----------+------+-----------+--------+------------+\n",
            "only showing top 10 rows\n",
            "\n"
          ]
        }
      ],
      "source": [
        "#1.Show the top 10 rows of the dataset.\n",
        "df.show(10)\n"
      ]
    },
    {
      "cell_type": "code",
      "execution_count": null,
      "metadata": {
        "colab": {
          "base_uri": "https://localhost:8080/"
        },
        "id": "qAdGGr3aHeSm",
        "outputId": "8632d9a1-d915-495c-f321-0ee165b5a008"
      },
      "outputs": [
        {
          "data": {
            "text/plain": [
              "500"
            ]
          },
          "execution_count": 3,
          "metadata": {},
          "output_type": "execute_result"
        }
      ],
      "source": [
        "# Count the total number of employees.\n",
        "df.count()\n"
      ]
    },
    {
      "cell_type": "code",
      "execution_count": null,
      "metadata": {
        "colab": {
          "base_uri": "https://localhost:8080/"
        },
        "id": "XCGU24eDHhEH",
        "outputId": "02e1c218-376c-457d-81d1-2fbba7729bab"
      },
      "outputs": [
        {
          "name": "stdout",
          "output_type": "stream",
          "text": [
            "+----------+\n",
            "|Department|\n",
            "+----------+\n",
            "|     Sales|\n",
            "|        HR|\n",
            "|   Finance|\n",
            "| Marketing|\n",
            "|        IT|\n",
            "+----------+\n",
            "\n"
          ]
        }
      ],
      "source": [
        "# Display unique departments\n",
        "df.select(\"Department\").distinct().show()\n"
      ]
    },
    {
      "cell_type": "code",
      "execution_count": null,
      "metadata": {
        "colab": {
          "base_uri": "https://localhost:8080/"
        },
        "id": "E69V0UKhHj6r",
        "outputId": "2b941c4f-9db3-49d8-8d22-acfc268b88af"
      },
      "outputs": [
        {
          "name": "stdout",
          "output_type": "stream",
          "text": [
            "+----------+-------------------+---+----------+------+-----------+--------+------------------+\n",
            "|EmployeeID|               Name|Age|Department|Salary|JoiningDate|  Status|              City|\n",
            "+----------+-------------------+---+----------+------+-----------+--------+------------------+\n",
            "|      6598|        Mary Henson| 58|        IT| 63951| 2021-08-25|  Active|       Port Tricia|\n",
            "|      8518|   Elizabeth Abbott| 22|        IT| 91732| 2022-11-05|  Active|       Douglasside|\n",
            "|      9506|        Thomas Dunn| 45|        IT| 90340| 2020-07-12|On Leave|    Lindseychester|\n",
            "|      9663|        Glenn Mason| 43|        IT|109189| 2020-03-27|On Leave|      Katelynburgh|\n",
            "|      2106|     Richard Bailey| 45|        IT| 30950| 2021-06-29|Resigned|        North John|\n",
            "|      8212|      Jacob Jackson| 35|        IT| 54812| 2020-09-18|On Leave|South Veronicastad|\n",
            "|      6354|     Nicole Gilmore| 35|        IT|104202| 2018-05-04|  Active|       East Joseph|\n",
            "|      5716|         David Wang| 49|        IT| 94317| 2016-03-12|Resigned|          Linmouth|\n",
            "|      1181|       Joseph Clark| 33|        IT|117142| 2016-05-31|On Leave|        Carlosfurt|\n",
            "|      8302|      Debra Swanson| 47|        IT| 35236| 2023-10-25|Resigned|     Maciasborough|\n",
            "|      9542|      Jeffrey Frank| 34|        IT| 57182| 2024-01-28|On Leave|          Paulside|\n",
            "|      4100|Christopher Jimenez| 25|        IT| 65524| 2017-03-13|  Active|      North Tamara|\n",
            "|      5780|     Kevin Harrison| 26|        IT| 77259| 2024-03-28|  Active|    New Laurietown|\n",
            "|      5572|    Andrew Harrison| 42|        IT|118992| 2021-12-08|  Active|      West Matthew|\n",
            "|      6388|        Melissa Lee| 49|        IT| 74933| 2016-05-10|  Active|       Barbermouth|\n",
            "|      7984|         Paige Hall| 28|        IT| 67290| 2017-01-29|On Leave|         Jamesfort|\n",
            "|      6043|        Casey Olson| 37|        IT| 80199| 2022-01-27|  Active|         Brianland|\n",
            "|      2817|      Tony Mcdonald| 28|        IT| 92665| 2018-06-21|On Leave|       East Ashley|\n",
            "|      1982|     Jackie Herring| 37|        IT| 65014| 2023-11-13|On Leave|       Michaeltown|\n",
            "|      9259|       Shelly James| 35|        IT|106417| 2018-04-13|On Leave|  Port Laurieburgh|\n",
            "+----------+-------------------+---+----------+------+-----------+--------+------------------+\n",
            "only showing top 20 rows\n",
            "\n"
          ]
        }
      ],
      "source": [
        "#4.Filter all employees in the \"IT\" department:\n",
        "\n",
        "df.filter(df.Department == \"IT\").show()\n"
      ]
    },
    {
      "cell_type": "code",
      "execution_count": null,
      "metadata": {
        "colab": {
          "base_uri": "https://localhost:8080/"
        },
        "id": "E_a3ifolHnTS",
        "outputId": "7b6e23ef-0256-49f2-d6fe-2565141c34ec"
      },
      "outputs": [
        {
          "name": "stdout",
          "output_type": "stream",
          "text": [
            "+----------+------------------+---+----------+------+-----------+--------+-------------------+\n",
            "|EmployeeID|              Name|Age|Department|Salary|JoiningDate|  Status|               City|\n",
            "+----------+------------------+---+----------+------+-----------+--------+-------------------+\n",
            "|      4676|Christopher Fuller| 30|        HR| 63042| 2021-04-30|Resigned|   South Donnaville|\n",
            "|      4136|     Jerome Torres| 30|   Finance| 68213| 2024-11-30|  Active|North Justinborough|\n",
            "|      1588|       Edwin Burns| 34|     Sales|108208| 2015-09-14|Resigned|        South David|\n",
            "|      8074|       Fred Brewer| 30|        HR|100736| 2021-06-06|On Leave|    Port Wendyville|\n",
            "|      3841|       April Allen| 36|        HR| 98845| 2020-05-20|  Active|      Rachelchester|\n",
            "|      8212|     Jacob Jackson| 35|        IT| 54812| 2020-09-18|On Leave| South Veronicastad|\n",
            "|      3325|       Brian Huynh| 40|   Finance| 59924| 2017-01-02|On Leave|           Johnside|\n",
            "|      6180|     Robert Cortez| 35| Marketing| 76109| 2023-12-31|Resigned|    Port Katiemouth|\n",
            "|      6354|    Nicole Gilmore| 35|        IT|104202| 2018-05-04|  Active|        East Joseph|\n",
            "|      6364|       James Hogan| 33|        HR| 79932| 2023-12-05|  Active|     Rodriguezshire|\n",
            "|      6913|   Dustin Williams| 34|   Finance| 91947| 2023-10-16|On Leave|      North Stephen|\n",
            "|      3115|   Benjamin Turner| 38|        HR| 99949| 2018-03-20|Resigned|     West Hollybury|\n",
            "|      7527|      Bobby Henson| 34|   Finance| 47038| 2022-11-24|On Leave|           Dianaton|\n",
            "|      5620|  Christina Reeves| 34|   Finance| 37858| 2024-01-16|On Leave|        Hannahhaven|\n",
            "|      9939|      Karen Hansen| 37|        HR|112082| 2021-07-30|Resigned|           New Tara|\n",
            "|      6509|     Joann Frazier| 38|   Finance| 87736| 2024-01-11|Resigned|  South Sabrinaview|\n",
            "|      6340|     Kenneth Smith| 38|     Sales|115731| 2018-12-29|Resigned|        Lake Sheila|\n",
            "|      1181|      Joseph Clark| 33|        IT|117142| 2016-05-31|On Leave|         Carlosfurt|\n",
            "|      7098|     Hayley Reeves| 38|        HR|115326| 2022-03-26|  Active|          Whiteview|\n",
            "|      9542|     Jeffrey Frank| 34|        IT| 57182| 2024-01-28|On Leave|           Paulside|\n",
            "+----------+------------------+---+----------+------+-----------+--------+-------------------+\n",
            "only showing top 20 rows\n",
            "\n"
          ]
        }
      ],
      "source": [
        "#5. Show employees aged between 30 and 40.\n",
        "\n",
        " df.filter((df.Age >= 30) & (df.Age <= 40)).show()\n"
      ]
    },
    {
      "cell_type": "code",
      "execution_count": null,
      "metadata": {
        "colab": {
          "base_uri": "https://localhost:8080/"
        },
        "id": "4GE59KdyHqsQ",
        "outputId": "2acd53b4-3798-4484-c2a6-3927ecd497ca"
      },
      "outputs": [
        {
          "name": "stdout",
          "output_type": "stream",
          "text": [
            "+----------+--------------------+---+----------+------+-----------+--------+-------------------+\n",
            "|EmployeeID|                Name|Age|Department|Salary|JoiningDate|  Status|               City|\n",
            "+----------+--------------------+---+----------+------+-----------+--------+-------------------+\n",
            "|      8860|       Cody Williams| 30|        IT|119978| 2019-03-16|Resigned|         Susanville|\n",
            "|      4585|      Sandra Webster| 30|        HR|119940| 2022-10-21|On Leave|       Thompsonport|\n",
            "|      4667|         Ronald Hunt| 58|     Sales|119677| 2019-08-29|Resigned|    Griffithchester|\n",
            "|      1602|    Deborah Williams| 25|        HR|119397| 2023-09-26|On Leave|    Port Terrimouth|\n",
            "|      3374|        Amanda Green| 41|        HR|119316| 2021-04-08|Resigned|    West Shelleyton|\n",
            "|      6329|       Heidi Shaffer| 36|        HR|119165| 2020-01-14|Resigned|          New Alexa|\n",
            "|      2428|        Mary Stevens| 55|     Sales|119137| 2022-03-06|On Leave|         Travisport|\n",
            "|      1545|Brittany Christensen| 57|   Finance|119038| 2020-10-25|Resigned|        Matthewside|\n",
            "|      2581|    Alexandria Jones| 34|        IT|119009| 2017-01-22|On Leave|           Toniside|\n",
            "|      5572|     Andrew Harrison| 42|        IT|118992| 2021-12-08|  Active|       West Matthew|\n",
            "|      7459|    Abigail Robinson| 23|     Sales|118959| 2021-09-23|  Active|        Leslieville|\n",
            "|      7431|    Richard Mccarthy| 41|        IT|118682| 2025-02-12|On Leave|          Welchview|\n",
            "|      5998|       Bruce Serrano| 36|        HR|118641| 2019-02-02|  Active|    South Elizabeth|\n",
            "|      9714|          Kevin Reid| 37| Marketing|118584| 2015-10-03|  Active|     New Howardfort|\n",
            "|      1143|     Stacey Schwartz| 55|   Finance|118504| 2022-01-24|  Active|Lake Michaelchester|\n",
            "|      3580|         Jamie Baker| 34| Marketing|118225| 2017-07-20|  Active|        Michaelstad|\n",
            "|      9485|        Dennis Rivas| 43| Marketing|118187| 2019-05-26|On Leave|         South Mark|\n",
            "|      1943|          Roy Willis| 41|        HR|118172| 2016-03-05|  Active|     East Daisystad|\n",
            "|      5755|        Erika Ortega| 42|        IT|117517| 2023-04-16|On Leave|          Kellyfort|\n",
            "|      7350|         Jenna Patel| 50| Marketing|117237| 2016-04-11|On Leave|         Port Brian|\n",
            "+----------+--------------------+---+----------+------+-----------+--------+-------------------+\n",
            "only showing top 20 rows\n",
            "\n"
          ]
        }
      ],
      "source": [
        "# 6.Sort employees by Salary in descending order:\n",
        " df.orderBy(df.Salary.desc()).show()\n"
      ]
    },
    {
      "cell_type": "code",
      "execution_count": null,
      "metadata": {
        "colab": {
          "base_uri": "https://localhost:8080/"
        },
        "id": "Ik8X7resHt6x",
        "outputId": "9405ed21-0596-48e3-bc03-f159dfa4794f"
      },
      "outputs": [
        {
          "name": "stdout",
          "output_type": "stream",
          "text": [
            "+----------+-----------------+\n",
            "|Department|    AverageSalary|\n",
            "+----------+-----------------+\n",
            "|     Sales|77488.54545454546|\n",
            "|        HR|76091.27450980392|\n",
            "|   Finance|72834.75630252101|\n",
            "| Marketing| 71958.1888888889|\n",
            "|        IT|73116.25555555556|\n",
            "+----------+-----------------+\n",
            "\n"
          ]
        }
      ],
      "source": [
        "#7. Get the average salary by department\n",
        "from pyspark.sql.functions import avg\n",
        "df.groupBy(\"Department\").agg(avg(\"Salary\").alias(\"AverageSalary\")).show()\n"
      ]
    },
    {
      "cell_type": "code",
      "execution_count": null,
      "metadata": {
        "id": "tRDcXwNlI0Ya"
      },
      "outputs": [],
      "source": [
        "# Count of employees by Status\n",
        "df.groupBy(\"Status\").count().show()\n"
      ]
    },
    {
      "cell_type": "code",
      "execution_count": null,
      "metadata": {
        "colab": {
          "base_uri": "https://localhost:8080/"
        },
        "id": "2WVxGhrpI31j",
        "outputId": "38d789d1-90b1-410f-ed4b-eadf3b6e37f0"
      },
      "outputs": [
        {
          "name": "stdout",
          "output_type": "stream",
          "text": [
            "+----------------+-------------+\n",
            "|            City|HighestSalary|\n",
            "+----------------+-------------+\n",
            "|   Wilsonchester|        67025|\n",
            "|     Bradshawton|       111116|\n",
            "|       Steventon|        32009|\n",
            "|     Lake Alyssa|        84903|\n",
            "|      North Lisa|        57898|\n",
            "|    North Marvin|        66252|\n",
            "|     Jenniferton|        39907|\n",
            "|     Buckleyview|        50109|\n",
            "|     Burtonville|        98492|\n",
            "|    Johnsonmouth|        48799|\n",
            "|    South Joseph|        52456|\n",
            "|  Lindseychester|        90340|\n",
            "|   North Stephen|        91947|\n",
            "|Port Nicoleshire|        57537|\n",
            "|    Jerrychester|        53374|\n",
            "|  North Jennifer|        82486|\n",
            "|      Laurenstad|        44608|\n",
            "|West Brendanbury|        90698|\n",
            "|       Juliaberg|        50170|\n",
            "|       New James|        54378|\n",
            "+----------------+-------------+\n",
            "only showing top 20 rows\n",
            "\n"
          ]
        }
      ],
      "source": [
        "# Highest salary in each city.\n",
        "from pyspark.sql.functions import max\n",
        "\n",
        "df.groupBy(\"City\").agg(max(\"Salary\").alias(\"HighestSalary\")).show()\n"
      ]
    },
    {
      "cell_type": "code",
      "execution_count": null,
      "metadata": {
        "colab": {
          "base_uri": "https://localhost:8080/"
        },
        "id": "wX79T6XaJjRJ",
        "outputId": "9426501c-b1c0-412c-c029-70a8567bcdf0"
      },
      "outputs": [
        {
          "name": "stdout",
          "output_type": "stream",
          "text": [
            "+--------+-----+\n",
            "|JoinYear|count|\n",
            "+--------+-----+\n",
            "|    2015|   37|\n",
            "|    2016|   49|\n",
            "|    2017|   44|\n",
            "|    2018|   52|\n",
            "|    2019|   52|\n",
            "|    2020|   56|\n",
            "|    2021|   49|\n",
            "|    2022|   49|\n",
            "|    2023|   47|\n",
            "|    2024|   38|\n",
            "|    2025|   27|\n",
            "+--------+-----+\n",
            "\n"
          ]
        }
      ],
      "source": [
        "\n",
        "# 10.Total number of employees who joined each year.\n",
        "\n",
        "from pyspark.sql.functions import year\n",
        "\n",
        "df.withColumn(\"JoinYear\", year(\"JoiningDate\")).groupBy(\"JoinYear\").count().orderBy(\"JoinYear\").show()\n"
      ]
    },
    {
      "cell_type": "code",
      "execution_count": null,
      "metadata": {
        "colab": {
          "base_uri": "https://localhost:8080/"
        },
        "id": "A9m3E4qBJ0uK",
        "outputId": "cba8649b-c3fd-42dc-ab85-4c4dd8300c03"
      },
      "outputs": [
        {
          "name": "stdout",
          "output_type": "stream",
          "text": [
            "+----------+-----+\n",
            "|Department|count|\n",
            "+----------+-----+\n",
            "|     Sales|   32|\n",
            "|        HR|   37|\n",
            "|   Finance|   45|\n",
            "| Marketing|   32|\n",
            "|        IT|   26|\n",
            "+----------+-----+\n",
            "\n"
          ]
        }
      ],
      "source": [
        "# 11. Department-wise count of employees who are currently \"Active\".\n",
        "\n",
        "df.filter(df.Status == \"Active\").groupBy(\"Department\").count().show()\n"
      ]
    },
    {
      "cell_type": "code",
      "execution_count": null,
      "metadata": {
        "colab": {
          "base_uri": "https://localhost:8080/"
        },
        "id": "D1ISazICJ0gu",
        "outputId": "1a2bfe31-196e-43a7-e0a4-e67752c79972"
      },
      "outputs": [
        {
          "name": "stdout",
          "output_type": "stream",
          "text": [
            "+----------+------------------+\n",
            "|Department|        AverageAge|\n",
            "+----------+------------------+\n",
            "|     Sales|40.535353535353536|\n",
            "|        HR| 41.46078431372549|\n",
            "|   Finance| 39.21008403361345|\n",
            "| Marketing| 41.82222222222222|\n",
            "|        IT| 38.68888888888889|\n",
            "+----------+------------------+\n",
            "\n"
          ]
        }
      ],
      "source": [
        "# 12. Average age of employees per department.\n",
        "df.groupBy(\"Department\") \\\n",
        "  .avg(\"Age\").withColumnRenamed(\"avg(Age)\", \"AverageAge\").show()\n"
      ]
    },
    {
      "cell_type": "code",
      "execution_count": null,
      "metadata": {
        "colab": {
          "base_uri": "https://localhost:8080/"
        },
        "id": "f_ZKWjpRJ9zf",
        "outputId": "d11deb1d-879d-4057-dc2c-2533665fd381"
      },
      "outputs": [
        {
          "name": "stdout",
          "output_type": "stream",
          "text": [
            "+----------------+-------+\n",
            "|            City| Region|\n",
            "+----------------+-------+\n",
            "|   Wilsonchester|Unknown|\n",
            "|     Bradshawton|Unknown|\n",
            "|       Steventon|Unknown|\n",
            "|     Lake Alyssa|Unknown|\n",
            "|      North Lisa|  North|\n",
            "|    North Marvin|  North|\n",
            "|     Jenniferton|Unknown|\n",
            "|     Buckleyview|Unknown|\n",
            "|     Burtonville|Unknown|\n",
            "|    Johnsonmouth|Unknown|\n",
            "|    South Joseph|  South|\n",
            "|  Lindseychester|Unknown|\n",
            "|   North Stephen|  North|\n",
            "|Port Nicoleshire|Unknown|\n",
            "|    Jerrychester|Unknown|\n",
            "|  North Jennifer|  North|\n",
            "|      Laurenstad|Unknown|\n",
            "|West Brendanbury|   West|\n",
            "|       Juliaberg|Unknown|\n",
            "|       New James|Unknown|\n",
            "+----------------+-------+\n",
            "only showing top 20 rows\n",
            "\n",
            "+--------------------+-------------------+-------+------+\n",
            "|                Name|               City| Region|Salary|\n",
            "+--------------------+-------------------+-------+------+\n",
            "|     Charles Johnson|          Allentown|Unknown| 64039|\n",
            "|       Dylan Camacho|        Anthonyfort|Unknown| 34686|\n",
            "| Mr. Ryan Bowman Jr.|          Gilesstad|Unknown| 64541|\n",
            "|          Brian Ball|       Jenniferfurt|Unknown| 87831|\n",
            "|       Angela Hooper|       Lake Amystad|Unknown|108773|\n",
            "|Alexander Johnson...|         Russohaven|Unknown| 75671|\n",
            "|         Steven Lane|        East Robert|   East| 64982|\n",
            "|       Riley Johnson|         New Thomas|Unknown| 43449|\n",
            "|    Emily Washington|        West Ashley|   West| 33851|\n",
            "|     Valerie Fleming|        Caseborough|Unknown| 70137|\n",
            "|     Tracy Hughes MD|       West Phillip|   West| 34381|\n",
            "|    Johnathan Harmon|           Jillport|Unknown| 97666|\n",
            "|       Michael Brown|          Port Mark|Unknown| 85122|\n",
            "|       Scott Burnett|     North Brittany|  North| 93690|\n",
            "|  Christopher Fuller|   South Donnaville|  South| 63042|\n",
            "|         Mary Henson|        Port Tricia|Unknown| 63951|\n",
            "|       Jerome Torres|North Justinborough|  North| 68213|\n",
            "|     Isaiah Martinez|       Mcgeechester|Unknown| 72596|\n",
            "|       Patrick Chung|         Tonyamouth|Unknown|116423|\n",
            "|        Micheal Wade|     Jimenezborough|Unknown| 41771|\n",
            "+--------------------+-------------------+-------+------+\n",
            "only showing top 20 rows\n",
            "\n"
          ]
        }
      ],
      "source": [
        "# 13. Create another dataset with City and Region , and join it.\n",
        "from pyspark.sql.functions import col\n",
        "\n",
        "distinct_cities = df.select(\"City\").distinct()\n",
        "\n",
        "from pyspark.sql.functions import udf\n",
        "from pyspark.sql.types import StringType\n",
        "\n",
        "def infer_region(city):\n",
        "    city = city.lower()\n",
        "    if \"north\" in city:\n",
        "        return \"North\"\n",
        "    elif \"south\" in city:\n",
        "        return \"South\"\n",
        "    elif \"east\" in city:\n",
        "        return \"East\"\n",
        "    elif \"west\" in city:\n",
        "        return \"West\"\n",
        "    else:\n",
        "        return \"Unknown\"\n",
        "\n",
        "infer_region_udf = udf(infer_region, StringType())\n",
        "\n",
        "auto_region_df = distinct_cities.withColumn(\"Region\", infer_region_udf(col(\"City\")))\n",
        "auto_region_df.show()\n",
        "\n",
        "joined_df = df.join(auto_region_df, on=\"City\", how=\"left\")\n",
        "joined_df.select(\"Name\", \"City\", \"Region\", \"Salary\").show()\n",
        "\n"
      ]
    },
    {
      "cell_type": "code",
      "execution_count": null,
      "metadata": {
        "colab": {
          "base_uri": "https://localhost:8080/"
        },
        "id": "31pyauFbJ9kl",
        "outputId": "77a5cfe8-5b7a-4739-c4df-b1b431bf2aa0"
      },
      "outputs": [
        {
          "name": "stdout",
          "output_type": "stream",
          "text": [
            "+-------+-----------------+\n",
            "| Region|    AverageSalary|\n",
            "+-------+-----------------+\n",
            "|Unknown|74605.20170454546|\n",
            "|  South|71426.63829787234|\n",
            "|   East|       73085.8125|\n",
            "|   West|73189.75757575757|\n",
            "|  North|77350.58333333333|\n",
            "+-------+-----------------+\n",
            "\n"
          ]
        }
      ],
      "source": [
        "# 14. Group salaries by Region after the join.\n",
        "from pyspark.sql.functions import avg\n",
        "\n",
        "joined_df.groupBy(\"Region\").agg(avg(\"Salary\").alias(\"AverageSalary\")) .show()\n"
      ]
    },
    {
      "cell_type": "code",
      "execution_count": null,
      "metadata": {
        "colab": {
          "base_uri": "https://localhost:8080/"
        },
        "id": "CFQlSLbLJ0Up",
        "outputId": "1fe15ec1-a172-4611-a50e-391ea8ec88fe"
      },
      "outputs": [
        {
          "name": "stdout",
          "output_type": "stream",
          "text": [
            "+--------------------+-----------+-----------------+\n",
            "|                Name|JoiningDate|YearsOfExperience|\n",
            "+--------------------+-----------+-----------------+\n",
            "|     Charles Johnson| 2018-07-07|                6|\n",
            "|       Dylan Camacho| 2015-08-25|                9|\n",
            "| Mr. Ryan Bowman Jr.| 2025-03-11|                0|\n",
            "|          Brian Ball| 2015-10-01|                9|\n",
            "|       Angela Hooper| 2019-08-14|                5|\n",
            "|Alexander Johnson...| 2016-04-21|                9|\n",
            "|         Steven Lane| 2021-07-25|                3|\n",
            "|       Riley Johnson| 2015-08-03|                9|\n",
            "|    Emily Washington| 2021-11-30|                3|\n",
            "|     Valerie Fleming| 2019-12-08|                5|\n",
            "|     Tracy Hughes MD| 2020-06-01|                5|\n",
            "|    Johnathan Harmon| 2021-03-09|                4|\n",
            "|       Michael Brown| 2023-10-21|                1|\n",
            "|       Scott Burnett| 2016-04-25|                9|\n",
            "|  Christopher Fuller| 2021-04-30|                4|\n",
            "|         Mary Henson| 2021-08-25|                3|\n",
            "|       Jerome Torres| 2024-11-30|                0|\n",
            "|     Isaiah Martinez| 2021-07-26|                3|\n",
            "|       Patrick Chung| 2024-07-05|                0|\n",
            "|        Micheal Wade| 2024-03-29|                1|\n",
            "+--------------------+-----------+-----------------+\n",
            "only showing top 20 rows\n",
            "\n"
          ]
        }
      ],
      "source": [
        "# 15. Calculate years of experience for each employee (current date - JoiningDate).\n",
        "from pyspark.sql.functions import current_date, datediff\n",
        "\n",
        "df = df.withColumn(\"YearsOfExperience\", (datediff(current_date(), df.JoiningDate) / 365).cast(\"int\"))\n",
        "df.select(\"Name\", \"JoiningDate\", \"YearsOfExperience\").show()\n"
      ]
    },
    {
      "cell_type": "code",
      "execution_count": null,
      "metadata": {
        "colab": {
          "base_uri": "https://localhost:8080/"
        },
        "id": "MGdzuC5hJzu4",
        "outputId": "e94382cb-24e1-401a-a4e0-9ad5de25cd7e"
      },
      "outputs": [
        {
          "name": "stdout",
          "output_type": "stream",
          "text": [
            "+--------------------+---+----------+-----------------+\n",
            "|                Name|Age|Department|YearsOfExperience|\n",
            "+--------------------+---+----------+-----------------+\n",
            "|     Charles Johnson| 52|        HR|                6|\n",
            "|       Dylan Camacho| 57| Marketing|                9|\n",
            "|          Brian Ball| 24|     Sales|                9|\n",
            "|Alexander Johnson...| 45|     Sales|                9|\n",
            "|       Riley Johnson| 49|        HR|                9|\n",
            "|       Scott Burnett| 48|     Sales|                9|\n",
            "|       Brittany Kerr| 58|     Sales|                6|\n",
            "|         Edwin Burns| 34|     Sales|                9|\n",
            "|       Mary Reynolds| 25|     Sales|                6|\n",
            "|           Erin Berg| 42| Marketing|                7|\n",
            "|         Jason Hines| 59|   Finance|                9|\n",
            "|Christopher Mcdaniel| 59|        HR|               10|\n",
            "|      Victoria Kelly| 57|   Finance|                7|\n",
            "|      Heather Nelson| 48|     Sales|               10|\n",
            "|         Paul Porter| 53|     Sales|                7|\n",
            "|         Brian Huynh| 40|   Finance|                8|\n",
            "|          James West| 42|     Sales|                8|\n",
            "|     Cameron Shelton| 24| Marketing|                9|\n",
            "|      Nicole Gilmore| 35|        IT|                7|\n",
            "|          David Wang| 49|        IT|                9|\n",
            "+--------------------+---+----------+-----------------+\n",
            "only showing top 20 rows\n",
            "\n"
          ]
        }
      ],
      "source": [
        "# 16. List all employees with more than 5 years of experience.\n",
        "\n",
        "df.filter(df.YearsOfExperience > 5) .select(\"Name\", \"Age\", \"Department\", \"YearsOfExperience\").show()\n",
        "\n"
      ]
    }
  ],
  "metadata": {
    "colab": {
      "provenance": []
    },
    "kernelspec": {
      "display_name": "Python 3",
      "name": "python3"
    },
    "language_info": {
      "name": "python"
    }
  },
  "nbformat": 4,
  "nbformat_minor": 0
}
