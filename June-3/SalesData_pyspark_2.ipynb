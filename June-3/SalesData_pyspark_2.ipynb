{
  "nbformat": 4,
  "nbformat_minor": 0,
  "metadata": {
    "colab": {
      "provenance": []
    },
    "kernelspec": {
      "name": "python3",
      "display_name": "Python 3"
    },
    "language_info": {
      "name": "python"
    }
  },
  "cells": [
    {
      "cell_type": "code",
      "execution_count": 91,
      "metadata": {
        "colab": {
          "base_uri": "https://localhost:8080/"
        },
        "id": "xTaJWJ89D-tY",
        "outputId": "c95e5a8b-2515-498b-d05d-88f4821d2f7b"
      },
      "outputs": [
        {
          "output_type": "stream",
          "name": "stdout",
          "text": [
            "Drive already mounted at /content/drive; to attempt to forcibly remount, call drive.mount(\"/content/drive\", force_remount=True).\n",
            "+-------+--------------+---------------+------+----------+--------------+--------+----------------+-----------+-------------+\n",
            "|OrderID|  CustomerName|ProductCategory|Amount| OrderDate|DeliveryStatus|Discount|            City|PaymentMode|CustomerSince|\n",
            "+-------+--------------+---------------+------+----------+--------------+--------+----------------+-----------+-------------+\n",
            "|   2824| Donald Walker|          Books|783.04|2024-12-26|      Returned|    0.15|    Lake Joyside|Credit Card|   2020-10-15|\n",
            "|   7912|  Brandon Hall|      Groceries| 905.0|2024-09-12|     Cancelled|    0.03|   New Jamesside|     Wallet|   2022-03-15|\n",
            "|   4611|  Donald Booth|        Fashion|657.96|2025-01-12|      Returned|    0.01|    Lake Roberto|     Wallet|   2021-08-07|\n",
            "|   3547|Phillip Garcia|        Fashion|606.89|2024-03-24|      Returned|    0.15|West Melanieview|     Wallet|   2020-08-08|\n",
            "|   8527|  Valerie Gray|           Toys| 77.87|2024-08-04|     Delivered|    0.17|       Mariastad|       Cash|   2022-11-15|\n",
            "+-------+--------------+---------------+------+----------+--------------+--------+----------------+-----------+-------------+\n",
            "only showing top 5 rows\n",
            "\n",
            "Row(OrderID=2930, CustomerName='Jaime Harris', ProductCategory='Fashion', Amount=680.0, OrderDate=datetime.date(2025, 2, 16), DeliveryStatus='Returned', Discount=0.2, City='Robertville', PaymentMode='Cash', CustomerSince=datetime.date(2021, 1, 28))\n",
            "Row(OrderID=7980, CustomerName='Dawn Wyatt', ProductCategory='Fashion', Amount=285.32, OrderDate=datetime.date(2024, 4, 26), DeliveryStatus='Cancelled', Discount=0.06, City='Cherylfurt', PaymentMode='UPI', CustomerSince=datetime.date(2021, 4, 14))\n",
            "Row(OrderID=7770, CustomerName='Kristin White', ProductCategory='Groceries', Amount=792.11, OrderDate=datetime.date(2024, 8, 10), DeliveryStatus='Returned', Discount=0.07, City='Kingport', PaymentMode='UPI', CustomerSince=datetime.date(2022, 11, 16))\n",
            "Row(OrderID=6641, CustomerName='Jennifer Taylor', ProductCategory='Toys', Amount=578.49, OrderDate=datetime.date(2025, 4, 3), DeliveryStatus='Delivered', Discount=0.1, City='Lake Jerryburgh', PaymentMode='Cash', CustomerSince=datetime.date(2020, 11, 4))\n",
            "Row(OrderID=4513, CustomerName='Rachel Owen', ProductCategory='Electronics', Amount=904.97, OrderDate=datetime.date(2024, 9, 21), DeliveryStatus='Delivered', Discount=0.12, City='East Paultown', PaymentMode='Cash', CustomerSince=datetime.date(2020, 10, 21))\n",
            "root\n",
            " |-- OrderID: integer (nullable = true)\n",
            " |-- CustomerName: string (nullable = true)\n",
            " |-- ProductCategory: string (nullable = true)\n",
            " |-- Amount: double (nullable = true)\n",
            " |-- OrderDate: date (nullable = true)\n",
            " |-- DeliveryStatus: string (nullable = true)\n",
            " |-- Discount: double (nullable = true)\n",
            " |-- City: string (nullable = true)\n",
            " |-- PaymentMode: string (nullable = true)\n",
            " |-- CustomerSince: date (nullable = true)\n",
            "\n"
          ]
        }
      ],
      "source": [
        "from google.colab import drive\n",
        "drive.mount('/content/drive')\n",
        "from pyspark.sql import SparkSession\n",
        "# Load the CSV file\n",
        "spark = SparkSession.builder.appName(\"SalesData\").getOrCreate()\n",
        "df = spark.read.csv(\"/content/drive/MyDrive/Sales_dataset.csv\", header=True, inferSchema=True)\n",
        "\n",
        "#Display the first 5\n",
        "df.show(5)\n",
        "\n",
        "#Display last 5 records\n",
        "\n",
        "row_count = df.count()\n",
        "last = df.rdd.zipWithIndex().filter(lambda x: x[1] >= row_count - 5).map(lambda x: x[0])\n",
        "for row in last.collect():\n",
        "    print(row)\n",
        "\n",
        "# Print schema\n",
        "df.printSchema()"
      ]
    },
    {
      "cell_type": "code",
      "source": [
        "from pyspark.sql.functions import col\n",
        "\n",
        "# Select only OrderID , CustomerName , and Amo\n",
        "df.select('OrderID', 'CustomerName', 'Amount').show()\n",
        "\n",
        "# Rename Amount to OrderAmo\n",
        "df = df.withColumnRenamed('Amount', 'OrderAmount')\n",
        "\n",
        "# Filter orders where Amount > 500\n",
        "\n",
        "df.filter(col('OrderAmount') > 500).show()\n",
        "\n",
        "#Filter orders from a specific city using .query() or .filter()\n",
        "\n",
        "df.filter(col('City') == 'West Elizabeth').show()\n"
      ],
      "metadata": {
        "colab": {
          "base_uri": "https://localhost:8080/"
        },
        "id": "A_YFLHcSECNw",
        "outputId": "5e39d54a-6939-42cf-9276-47af2699cc08"
      },
      "execution_count": 46,
      "outputs": [
        {
          "output_type": "stream",
          "name": "stdout",
          "text": [
            "+-------+------------------+------+\n",
            "|OrderID|      CustomerName|Amount|\n",
            "+-------+------------------+------+\n",
            "|   2824|     Donald Walker|783.04|\n",
            "|   7912|      Brandon Hall| 905.0|\n",
            "|   4611|      Donald Booth|657.96|\n",
            "|   3547|    Phillip Garcia|606.89|\n",
            "|   8527|      Valerie Gray| 77.87|\n",
            "|   4150|       Amber Perez|352.37|\n",
            "|   5554|        Roy Martin|148.33|\n",
            "|   2169|    Carolyn Daniel| 14.09|\n",
            "|   6313|       Patty Perez| 79.83|\n",
            "|   6155|Jonathan Wilkerson|882.68|\n",
            "|   9830|       Kevin Hurst|870.55|\n",
            "|   9085| Anthony Rodriguez|921.73|\n",
            "|   2040|     Kyle Mcdonald|327.52|\n",
            "|   6573|    Jeffrey Chavez|676.02|\n",
            "|   2743|  Elizabeth Fowler| 47.06|\n",
            "|   9837|     Tammy Sellers| 46.15|\n",
            "|   6038|     David Bradley|348.51|\n",
            "|   3060|       John Pierce|362.09|\n",
            "|   4295|   Jennifer Powers|684.26|\n",
            "|   5061|    George Chapman|251.89|\n",
            "+-------+------------------+------+\n",
            "only showing top 20 rows\n",
            "\n",
            "+-------+------------------+---------------+-----------+----------+--------------+--------+-----------------+-----------+-------------+\n",
            "|OrderID|      CustomerName|ProductCategory|OrderAmount| OrderDate|DeliveryStatus|Discount|             City|PaymentMode|CustomerSince|\n",
            "+-------+------------------+---------------+-----------+----------+--------------+--------+-----------------+-----------+-------------+\n",
            "|   2824|     Donald Walker|          Books|     783.04|2024-12-26|      Returned|    0.15|     Lake Joyside|Credit Card|   2020-10-15|\n",
            "|   7912|      Brandon Hall|      Groceries|      905.0|2024-09-12|     Cancelled|    0.03|    New Jamesside|     Wallet|   2022-03-15|\n",
            "|   4611|      Donald Booth|        Fashion|     657.96|2025-01-12|      Returned|    0.01|     Lake Roberto|     Wallet|   2021-08-07|\n",
            "|   3547|    Phillip Garcia|        Fashion|     606.89|2024-03-24|      Returned|    0.15| West Melanieview|     Wallet|   2020-08-08|\n",
            "|   6155|Jonathan Wilkerson|        Fashion|     882.68|2024-10-14|     Cancelled|    0.27|       Thomasberg|       Cash|   2021-06-20|\n",
            "|   9830|       Kevin Hurst|          Books|     870.55|2024-04-08|     Delivered|    0.22|      Jeffreyberg|     Wallet|   2022-08-02|\n",
            "|   9085| Anthony Rodriguez|      Groceries|     921.73|2024-10-02|     Cancelled|    0.03|        Port Erin|        UPI|   2022-12-15|\n",
            "|   6573|    Jeffrey Chavez|          Books|     676.02|2024-12-14|     Cancelled|    0.19|      Teresaburgh|     Wallet|   2022-07-30|\n",
            "|   4295|   Jennifer Powers|    Electronics|     684.26|2024-03-19|     Cancelled|    0.21|         Lammouth|        UPI|   2020-12-06|\n",
            "|   1964|      Taylor Heath|           Toys|      578.5|2023-07-28|     Cancelled|    0.01|   West Elizabeth|       Cash|   2021-04-30|\n",
            "|   9834|    Timothy Duncan|    Electronics|     944.55|2024-06-04|     Cancelled|    0.07|      Port Thomas|     Wallet|   2022-02-24|\n",
            "|   3296|     Donald Wright|        Fashion|     579.99|2025-05-20|     Cancelled|    0.25|South Lindseyside|     Wallet|   2020-11-01|\n",
            "|   4502|  Stephanie Martin|    Electronics|     656.32|2023-06-04|       Pending|     0.2|       Bakermouth|Credit Card|   2021-08-19|\n",
            "|   1931|      Angela Lopez|    Electronics|     686.21|2024-09-07|     Cancelled|    0.17|Lake Michellefurt|        UPI|   2020-12-05|\n",
            "|   5033|     Amanda Miller|           Toys|     552.76|2024-10-25|       Pending|    0.21|     Sarahborough|     Wallet|   2023-04-08|\n",
            "|   6147|      James Powers|           Toys|     561.91|2024-01-22|     Cancelled|    0.05|      Stewartland|Credit Card|   2020-06-16|\n",
            "|   2127|      Jaclyn Moore|      Groceries|     933.32|2025-03-11|      Returned|    0.01|      Cherylhaven|       Cash|   2020-06-14|\n",
            "|   5905|   Ashley Humphrey|          Books|     844.87|2023-12-25|       Pending|    0.28|  North Juliaberg|       Cash|   2021-07-30|\n",
            "|   2512|   Sandra Williams|           Toys|     630.21|2024-02-17|       Pending|    0.08|        Lake Tina|        UPI|   2021-02-08|\n",
            "|   8239|     Jessica Smith|          Books|     610.08|2023-07-31|     Delivered|    0.09|        New Barry|        UPI|   2021-12-27|\n",
            "+-------+------------------+---------------+-----------+----------+--------------+--------+-----------------+-----------+-------------+\n",
            "only showing top 20 rows\n",
            "\n",
            "+-------+------------+---------------+-----------+----------+--------------+--------+--------------+-----------+-------------+\n",
            "|OrderID|CustomerName|ProductCategory|OrderAmount| OrderDate|DeliveryStatus|Discount|          City|PaymentMode|CustomerSince|\n",
            "+-------+------------+---------------+-----------+----------+--------------+--------+--------------+-----------+-------------+\n",
            "|   1964|Taylor Heath|           Toys|      578.5|2023-07-28|     Cancelled|    0.01|West Elizabeth|       Cash|   2021-04-30|\n",
            "+-------+------------+---------------+-----------+----------+--------------+--------+--------------+-----------+-------------+\n",
            "\n"
          ]
        }
      ]
    },
    {
      "cell_type": "code",
      "source": [
        "from pyspark.sql.functions import expr\n",
        "\n",
        "# Drop CustomerSince column\n",
        "df = df.drop('CustomerSince')\n",
        "\n",
        "# Add new column FinalAmount\n",
        "df = df.withColumn(\"FinalAmount\", col(\"OrderAmount\") - (col(\"OrderAmount\") * col(\"Discount\")))\n",
        "df.show()\n",
        "\n",
        "# Sort by FinalAmount Descending\n",
        "df = df.orderBy(col(\"FinalAmount\").desc())\n",
        "\n",
        "# Replace all “Cancelled” status with “Order Cancelled\"\n",
        "df = df.withColumn(\"DeliveryStatus\", expr(\"CASE WHEN DeliveryStatus = 'Cancelled' THEN 'Order Cancelled' ELSE DeliveryStatus END\"))\n",
        "df.show()\n"
      ],
      "metadata": {
        "colab": {
          "base_uri": "https://localhost:8080/"
        },
        "id": "MuBzDvrPE9SA",
        "outputId": "07bbda78-cad6-4725-cbe2-e69c0346db5c"
      },
      "execution_count": 48,
      "outputs": [
        {
          "output_type": "stream",
          "name": "stdout",
          "text": [
            "+-------+-----------------+---------------+-----------+----------+--------------+--------+-----------------+-----------+-----------------+\n",
            "|OrderID|     CustomerName|ProductCategory|OrderAmount| OrderDate|DeliveryStatus|Discount|             City|PaymentMode|      FinalAmount|\n",
            "+-------+-----------------+---------------+-----------+----------+--------------+--------+-----------------+-----------+-----------------+\n",
            "|   5573|   Jordan Frazier|          Books|     981.05|2025-03-19|  Order Cancel|    0.02|      Sheilaville|       Cash|          961.429|\n",
            "|   8474|      Heidi Brown|    Electronics|     968.91|2023-11-23|  Order Cancel|    0.02|       Riverafort|       Cash|         949.5318|\n",
            "|   8889|      Karen Garza|          Books|      998.3|2024-10-17|  Order Cancel|    0.06|       Johnsonton|Credit Card|938.4019999999999|\n",
            "|   2127|     Jaclyn Moore|      Groceries|     933.32|2025-03-11|      Returned|    0.01|      Cherylhaven|       Cash|         923.9868|\n",
            "|   9806|    Samantha Gill|      Groceries|     993.17|2024-11-12|  Order Cancel|    0.07|     New Seanstad|     Wallet|         923.6481|\n",
            "|   5593|   Kristy Johnson|        Fashion|     961.35|2025-05-24|      Returned|    0.05|    Alexisborough|       Cash|         913.2825|\n",
            "|   2120| Alejandra Santos|    Electronics|     948.84|2024-05-09|      Returned|    0.04|     Jenniferberg|     Wallet|         910.8864|\n",
            "|   5949|Dr. Michael Evans|           Toys|     918.14|2023-07-29|       Pending|    0.01|   East Scottfort|     Wallet|908.9585999999999|\n",
            "|   1422|    Hunter Kramer|          Books|      973.2|2024-09-02|      Returned|    0.07|       Alfredview|       Cash|          905.076|\n",
            "|   2904|   Michelle Burns|        Fashion|     922.29|2025-05-01|      Returned|    0.02|      Stokesmouth|Credit Card|         903.8442|\n",
            "|   7566|    Jesus Houston|        Fashion|     899.31|2024-11-19|     Delivered|     0.0|       Marshburgh|Credit Card|           899.31|\n",
            "|   7511|      Regina Diaz|           Toys|     932.21|2025-02-06|  Order Cancel|    0.04|        Smithside|       Cash|         894.9216|\n",
            "|   9085|Anthony Rodriguez|      Groceries|     921.73|2024-10-02|  Order Cancel|    0.03|        Port Erin|        UPI|894.0781000000001|\n",
            "|   1436|     James Brooks|      Groceries|     978.96|2024-03-28|  Order Cancel|    0.09|West Jeffreymouth|Credit Card|         890.8536|\n",
            "|   6008|  Brittany Knight|          Books|     903.71|2025-02-19|       Pending|    0.02|       Susanburgh|       Cash|         885.6358|\n",
            "|   9834|   Timothy Duncan|    Electronics|     944.55|2024-06-04|  Order Cancel|    0.07|      Port Thomas|     Wallet|878.4314999999999|\n",
            "|   8253|  Kevin Patterson|          Books|     998.21|2024-08-17|  Order Cancel|    0.12|   New Susanville|        UPI|         878.4248|\n",
            "|   7912|     Brandon Hall|      Groceries|      905.0|2024-09-12|  Order Cancel|    0.03|    New Jamesside|     Wallet|           877.85|\n",
            "|   1654|   Frank Williams|          Books|     903.78|2025-05-27|  Order Cancel|    0.03|       Tracyshire|     Wallet|         876.6666|\n",
            "|   9239|    Tracy Montoya|    Electronics|     897.41|2025-02-14|  Order Cancel|    0.04|        Port John|     Wallet|         861.5136|\n",
            "+-------+-----------------+---------------+-----------+----------+--------------+--------+-----------------+-----------+-----------------+\n",
            "only showing top 20 rows\n",
            "\n",
            "+-------+-----------------+---------------+-----------+----------+--------------+--------+-----------------+-----------+-----------------+\n",
            "|OrderID|     CustomerName|ProductCategory|OrderAmount| OrderDate|DeliveryStatus|Discount|             City|PaymentMode|      FinalAmount|\n",
            "+-------+-----------------+---------------+-----------+----------+--------------+--------+-----------------+-----------+-----------------+\n",
            "|   5573|   Jordan Frazier|          Books|     981.05|2025-03-19|  Order Cancel|    0.02|      Sheilaville|       Cash|          961.429|\n",
            "|   8474|      Heidi Brown|    Electronics|     968.91|2023-11-23|  Order Cancel|    0.02|       Riverafort|       Cash|         949.5318|\n",
            "|   8889|      Karen Garza|          Books|      998.3|2024-10-17|  Order Cancel|    0.06|       Johnsonton|Credit Card|938.4019999999999|\n",
            "|   2127|     Jaclyn Moore|      Groceries|     933.32|2025-03-11|      Returned|    0.01|      Cherylhaven|       Cash|         923.9868|\n",
            "|   9806|    Samantha Gill|      Groceries|     993.17|2024-11-12|  Order Cancel|    0.07|     New Seanstad|     Wallet|         923.6481|\n",
            "|   5593|   Kristy Johnson|        Fashion|     961.35|2025-05-24|      Returned|    0.05|    Alexisborough|       Cash|         913.2825|\n",
            "|   2120| Alejandra Santos|    Electronics|     948.84|2024-05-09|      Returned|    0.04|     Jenniferberg|     Wallet|         910.8864|\n",
            "|   5949|Dr. Michael Evans|           Toys|     918.14|2023-07-29|       Pending|    0.01|   East Scottfort|     Wallet|908.9585999999999|\n",
            "|   1422|    Hunter Kramer|          Books|      973.2|2024-09-02|      Returned|    0.07|       Alfredview|       Cash|          905.076|\n",
            "|   2904|   Michelle Burns|        Fashion|     922.29|2025-05-01|      Returned|    0.02|      Stokesmouth|Credit Card|         903.8442|\n",
            "|   7566|    Jesus Houston|        Fashion|     899.31|2024-11-19|     Delivered|     0.0|       Marshburgh|Credit Card|           899.31|\n",
            "|   7511|      Regina Diaz|           Toys|     932.21|2025-02-06|  Order Cancel|    0.04|        Smithside|       Cash|         894.9216|\n",
            "|   9085|Anthony Rodriguez|      Groceries|     921.73|2024-10-02|  Order Cancel|    0.03|        Port Erin|        UPI|894.0781000000001|\n",
            "|   1436|     James Brooks|      Groceries|     978.96|2024-03-28|  Order Cancel|    0.09|West Jeffreymouth|Credit Card|         890.8536|\n",
            "|   6008|  Brittany Knight|          Books|     903.71|2025-02-19|       Pending|    0.02|       Susanburgh|       Cash|         885.6358|\n",
            "|   9834|   Timothy Duncan|    Electronics|     944.55|2024-06-04|  Order Cancel|    0.07|      Port Thomas|     Wallet|878.4314999999999|\n",
            "|   8253|  Kevin Patterson|          Books|     998.21|2024-08-17|  Order Cancel|    0.12|   New Susanville|        UPI|         878.4248|\n",
            "|   7912|     Brandon Hall|      Groceries|      905.0|2024-09-12|  Order Cancel|    0.03|    New Jamesside|     Wallet|           877.85|\n",
            "|   1654|   Frank Williams|          Books|     903.78|2025-05-27|  Order Cancel|    0.03|       Tracyshire|     Wallet|         876.6666|\n",
            "|   9239|    Tracy Montoya|    Electronics|     897.41|2025-02-14|  Order Cancel|    0.04|        Port John|     Wallet|         861.5136|\n",
            "+-------+-----------------+---------------+-----------+----------+--------------+--------+-----------------+-----------+-----------------+\n",
            "only showing top 20 rows\n",
            "\n"
          ]
        }
      ]
    },
    {
      "cell_type": "code",
      "source": [
        "#Count of orders by DeliveryStatus\n",
        "from pyspark.sql.functions import count,avg,sum\n",
        "df.groupBy(\"DeliveryStatus\").agg(count(\"*\").alias(\"OrderCount\")).show()\n"
      ],
      "metadata": {
        "colab": {
          "base_uri": "https://localhost:8080/"
        },
        "id": "aZav0rX_E9E0",
        "outputId": "13943c23-fce9-47f5-9afe-69f6ec4d1550"
      },
      "execution_count": 49,
      "outputs": [
        {
          "output_type": "stream",
          "name": "stdout",
          "text": [
            "+--------------+----------+\n",
            "|DeliveryStatus|OrderCount|\n",
            "+--------------+----------+\n",
            "|      Returned|       117|\n",
            "|  Order Cancel|       149|\n",
            "|     Delivered|       119|\n",
            "|       Pending|       115|\n",
            "+--------------+----------+\n",
            "\n"
          ]
        }
      ]
    },
    {
      "cell_type": "code",
      "source": [
        "#Average Amount by ProductCategory\n",
        "df.groupBy(\"ProductCategory\").agg(avg(\"OrderAmount\").alias(\"AverageAmount\")).show()\n"
      ],
      "metadata": {
        "colab": {
          "base_uri": "https://localhost:8080/"
        },
        "id": "fVQrFpRlFk65",
        "outputId": "e9405fa3-61f1-48c6-fe63-f1403e3e3774"
      },
      "execution_count": 29,
      "outputs": [
        {
          "output_type": "stream",
          "name": "stdout",
          "text": [
            "+---------------+------------------+\n",
            "|ProductCategory|     AverageAmount|\n",
            "+---------------+------------------+\n",
            "|        Fashion|500.63082352941205|\n",
            "|      Groceries|459.51786407767014|\n",
            "|    Electronics| 551.7450000000002|\n",
            "|          Books| 568.6003773584907|\n",
            "|           Toys| 534.2837499999999|\n",
            "+---------------+------------------+\n",
            "\n"
          ]
        }
      ]
    },
    {
      "cell_type": "code",
      "source": [
        "# Group by City and show total sales\n",
        "df.groupBy(\"City\").agg(sum(\"OrderAmount\").alias(\"TotalSales\")).show()\n"
      ],
      "metadata": {
        "colab": {
          "base_uri": "https://localhost:8080/"
        },
        "id": "WCqL5PdEFmPe",
        "outputId": "5b94404d-bed2-4014-a5fa-0a973aa55bb4"
      },
      "execution_count": 30,
      "outputs": [
        {
          "output_type": "stream",
          "name": "stdout",
          "text": [
            "+----------------+----------+\n",
            "|            City|TotalSales|\n",
            "+----------------+----------+\n",
            "|     Ramseymouth|    761.06|\n",
            "|East Edwardshire|    291.26|\n",
            "|    Lake Douglas|    975.09|\n",
            "|      Thomasberg|    882.68|\n",
            "| South Colinstad|    786.27|\n",
            "|     Laurenville|    383.26|\n",
            "|        Seanbury|    814.39|\n",
            "|      Gordonport|    514.99|\n",
            "|  West Dawnmouth|      12.8|\n",
            "|   Williamsmouth|     10.78|\n",
            "|     Sheilaville|    981.05|\n",
            "|       Mollybury|    222.02|\n",
            "|       Perezfort|    917.55|\n",
            "| Lake Jerrymouth|    404.01|\n",
            "|       Lisaville|     45.69|\n",
            "|     Port Willie|    788.13|\n",
            "|  South Samantha|    229.46|\n",
            "|Port Nicoleshire|    133.78|\n",
            "|Lake Rebeccabury|    891.66|\n",
            "|      Valdezberg|    424.96|\n",
            "+----------------+----------+\n",
            "only showing top 20 rows\n",
            "\n"
          ]
        }
      ]
    },
    {
      "cell_type": "code",
      "source": [
        "from pyspark.sql.functions import lit\n",
        "from pyspark.sql.functions import when\n",
        "\n",
        "df = df.withColumn(\"City\", when(col(\"OrderAmount\") < 100, lit(None)).otherwise(col(\"City\")))\n",
        "# Fill nulls\n",
        "df_filled = df.fillna({\"City\": \"Unknown\"})\n",
        "\n",
        "# Drop rows where City is null\n",
        "df_dropped = df.dropna(subset=[\"City\"])"
      ],
      "metadata": {
        "id": "p_HEVBZaGFr5"
      },
      "execution_count": 39,
      "outputs": []
    },
    {
      "cell_type": "code",
      "source": [
        "# Use .when().otherwise() in PySpark to tag high-value customers ( Amount >\n",
        "# 800).\n",
        "\n",
        "df = df.withColumn(\n",
        "    \"CustomerType\",\n",
        "    when(col(\"OrderAmount\") > 800, \"High-Value\").otherwise(\"Regular\")\n",
        ")\n",
        "\n",
        "df.select(\"CustomerName\", \"OrderAmount\", \"CustomerType\").show()\n"
      ],
      "metadata": {
        "colab": {
          "base_uri": "https://localhost:8080/"
        },
        "id": "36GkKY4YGFXc",
        "outputId": "9881d06d-50f6-4ec9-e342-13ee07aaec38"
      },
      "execution_count": 37,
      "outputs": [
        {
          "output_type": "stream",
          "name": "stdout",
          "text": [
            "+-----------------+-----------+------------+\n",
            "|     CustomerName|OrderAmount|CustomerType|\n",
            "+-----------------+-----------+------------+\n",
            "|   Jordan Frazier|     981.05|  High-Value|\n",
            "|      Heidi Brown|     968.91|  High-Value|\n",
            "|      Karen Garza|      998.3|  High-Value|\n",
            "|     Jaclyn Moore|     933.32|  High-Value|\n",
            "|    Samantha Gill|     993.17|  High-Value|\n",
            "|   Kristy Johnson|     961.35|  High-Value|\n",
            "| Alejandra Santos|     948.84|  High-Value|\n",
            "|Dr. Michael Evans|     918.14|  High-Value|\n",
            "|    Hunter Kramer|      973.2|  High-Value|\n",
            "|   Michelle Burns|     922.29|  High-Value|\n",
            "|    Jesus Houston|     899.31|  High-Value|\n",
            "|      Regina Diaz|     932.21|  High-Value|\n",
            "|Anthony Rodriguez|     921.73|  High-Value|\n",
            "|     James Brooks|     978.96|  High-Value|\n",
            "|  Brittany Knight|     903.71|  High-Value|\n",
            "|   Timothy Duncan|     944.55|  High-Value|\n",
            "|  Kevin Patterson|     998.21|  High-Value|\n",
            "|     Brandon Hall|      905.0|  High-Value|\n",
            "|   Frank Williams|     903.78|  High-Value|\n",
            "|    Tracy Montoya|     897.41|  High-Value|\n",
            "+-----------------+-----------+------------+\n",
            "only showing top 20 rows\n",
            "\n"
          ]
        }
      ]
    },
    {
      "cell_type": "code",
      "source": [
        "# Extract year and month from OrderDate\n",
        "from pyspark.sql.functions import year,month\n",
        "df = df.withColumn(\"OrderYear\", year(\"OrderDate\")).withColumn(\"OrderMonth\", month(\"OrderDate\"))\n",
        "\n",
        "df.select(\"OrderDate\", \"OrderYear\", \"OrderMonth\").show()\n"
      ],
      "metadata": {
        "colab": {
          "base_uri": "https://localhost:8080/"
        },
        "id": "4U8U8WpRGKAy",
        "outputId": "0cdc70dd-dd5c-4cd8-ec4a-7e9c9a96bb43"
      },
      "execution_count": 42,
      "outputs": [
        {
          "output_type": "stream",
          "name": "stdout",
          "text": [
            "+----------+---------+----------+\n",
            "| OrderDate|OrderYear|OrderMonth|\n",
            "+----------+---------+----------+\n",
            "|2025-03-19|     2025|         3|\n",
            "|2023-11-23|     2023|        11|\n",
            "|2024-10-17|     2024|        10|\n",
            "|2025-03-11|     2025|         3|\n",
            "|2024-11-12|     2024|        11|\n",
            "|2025-05-24|     2025|         5|\n",
            "|2024-05-09|     2024|         5|\n",
            "|2023-07-29|     2023|         7|\n",
            "|2024-09-02|     2024|         9|\n",
            "|2025-05-01|     2025|         5|\n",
            "|2024-11-19|     2024|        11|\n",
            "|2025-02-06|     2025|         2|\n",
            "|2024-10-02|     2024|        10|\n",
            "|2024-03-28|     2024|         3|\n",
            "|2025-02-19|     2025|         2|\n",
            "|2024-06-04|     2024|         6|\n",
            "|2024-08-17|     2024|         8|\n",
            "|2024-09-12|     2024|         9|\n",
            "|2025-05-27|     2025|         5|\n",
            "|2025-02-14|     2025|         2|\n",
            "+----------+---------+----------+\n",
            "only showing top 20 rows\n",
            "\n"
          ]
        }
      ]
    },
    {
      "cell_type": "code",
      "source": [
        "#Calculate customer loyalty in years = today - CustomerSince\n",
        "from pyspark.sql import SparkSession\n",
        "from pyspark.sql.functions import year, month, col, current_date, months_between\n",
        "\n",
        "spark = SparkSession.builder.appName(\"SalesDateTimeAnalysis\").getOrCreate()\n",
        "\n",
        "# Load CSV with CustomerSince included\n",
        "df = spark.read.csv(\"/content/drive/MyDrive/Sales_dataset.csv\", header=True, inferSchema=True)\n",
        "\n",
        "df = df.withColumn(\"LoyaltyYears\", (months_between(current_date(), col(\"CustomerSince\")) / 12).cast(\"int\"))\n",
        "\n",
        "df.select(\"OrderID\", \"CustomerName\", \"CustomerSince\", \"LoyaltyYears\").show(truncate=False)\n"
      ],
      "metadata": {
        "colab": {
          "base_uri": "https://localhost:8080/"
        },
        "id": "JD9MXsGNGJ33",
        "outputId": "ae409145-b7a5-4982-f9f1-b1915dde0651"
      },
      "execution_count": 80,
      "outputs": [
        {
          "output_type": "stream",
          "name": "stdout",
          "text": [
            "+-------+------------------+-------------+------------+\n",
            "|OrderID|CustomerName      |CustomerSince|LoyaltyYears|\n",
            "+-------+------------------+-------------+------------+\n",
            "|2824   |Donald Walker     |2020-10-15   |4           |\n",
            "|7912   |Brandon Hall      |2022-03-15   |3           |\n",
            "|4611   |Donald Booth      |2021-08-07   |3           |\n",
            "|3547   |Phillip Garcia    |2020-08-08   |4           |\n",
            "|8527   |Valerie Gray      |2022-11-15   |2           |\n",
            "|4150   |Amber Perez       |2022-01-13   |3           |\n",
            "|5554   |Roy Martin        |2023-04-29   |2           |\n",
            "|2169   |Carolyn Daniel    |2021-05-09   |4           |\n",
            "|6313   |Patty Perez       |2021-04-25   |4           |\n",
            "|6155   |Jonathan Wilkerson|2021-06-20   |3           |\n",
            "|9830   |Kevin Hurst       |2022-08-02   |2           |\n",
            "|9085   |Anthony Rodriguez |2022-12-15   |2           |\n",
            "|2040   |Kyle Mcdonald     |2021-07-21   |3           |\n",
            "|6573   |Jeffrey Chavez    |2022-07-30   |2           |\n",
            "|2743   |Elizabeth Fowler  |2021-02-07   |4           |\n",
            "|9837   |Tammy Sellers     |2021-12-17   |3           |\n",
            "|6038   |David Bradley     |2022-09-07   |2           |\n",
            "|3060   |John Pierce       |2023-05-09   |2           |\n",
            "|4295   |Jennifer Powers   |2020-12-06   |4           |\n",
            "|5061   |George Chapman    |2023-02-07   |2           |\n",
            "+-------+------------------+-------------+------------+\n",
            "only showing top 20 rows\n",
            "\n"
          ]
        }
      ]
    },
    {
      "cell_type": "code",
      "source": [
        "# 7. Joins and Unions:\n",
        "# Create a second DataFrame with city-wise region mapping.\n",
        "from pyspark.sql.functions import when, col\n",
        "\n",
        "region_df = df.withColumn(\n",
        "    \"Region\",\n",
        "    when(col(\"City\").rlike(\"(?i)\\\\bwest\\\\b\"), \"West\")\n",
        "    .when(col(\"City\").rlike(\"(?i)\\\\beast\\\\b\"), \"East\")\n",
        "    .when(col(\"City\").rlike(\"(?i)\\\\bnorth\\\\b\"), \"North\")\n",
        "    .when(col(\"City\").rlike(\"(?i)\\\\bsouth\\\\b\"), \"South\")\n",
        "    .otherwise(\"Unknown\")\n",
        ")\n",
        "\n",
        "region_df.select(\"City\", \"Region\").distinct().show(truncate=False)\n",
        "\n"
      ],
      "metadata": {
        "colab": {
          "base_uri": "https://localhost:8080/"
        },
        "id": "TSSQUKuIGJwT",
        "outputId": "e6c39557-ac20-4303-f6fe-ec33f966d655"
      },
      "execution_count": 87,
      "outputs": [
        {
          "output_type": "stream",
          "name": "stdout",
          "text": [
            "+------------------+-------+\n",
            "|City              |Region |\n",
            "+------------------+-------+\n",
            "|Lake Joseph       |Unknown|\n",
            "|Westtown          |Unknown|\n",
            "|Frenchburgh       |Unknown|\n",
            "|Lisaview          |Unknown|\n",
            "|Crosbyton         |Unknown|\n",
            "|Staceyborough     |Unknown|\n",
            "|South Daniel      |South  |\n",
            "|Phillipston       |Unknown|\n",
            "|Port Robertfort   |Unknown|\n",
            "|North Richardton  |North  |\n",
            "|Millerton         |Unknown|\n",
            "|South Andrea      |South  |\n",
            "|North Jamesborough|North  |\n",
            "|West Robertville  |West   |\n",
            "|Williamview       |Unknown|\n",
            "|Scottmouth        |Unknown|\n",
            "|Leeberg           |Unknown|\n",
            "|Lake Marc         |Unknown|\n",
            "|Bushchester       |Unknown|\n",
            "|Jennifershire     |Unknown|\n",
            "+------------------+-------+\n",
            "only showing top 20 rows\n",
            "\n"
          ]
        }
      ]
    },
    {
      "cell_type": "code",
      "source": [
        "# Perform inner and left joins with the main dataset.\n",
        "# Alias the DataFrames\n",
        "df_alias = df.alias(\"o\")         # o = orders\n",
        "region_df_alias = region_df.alias(\"r\")  # r = region\n",
        "\n",
        "print(\"INNER Join\")\n",
        "inner_join_df = df_alias.join(region_df_alias, df_alias.City == region_df_alias.City, \"inner\")\n",
        "\n",
        "inner_join_df.select(\"o.OrderID\",\"o.CustomerName\",\"o.City\",\"r.Region\").show()\n",
        "print(\"LEFT Join\")\n",
        "left_join_df = df_alias.join(region_df_alias, df_alias.City == region_df_alias.City, \"left\")\n",
        "\n",
        "left_join_df.select(\"o.OrderID\",\"o.CustomerName\",\"o.City\",\"r.Region\").show()"
      ],
      "metadata": {
        "colab": {
          "base_uri": "https://localhost:8080/"
        },
        "id": "PJfKSthiV76M",
        "outputId": "12bc45bd-c3ae-4b36-9058-6c8e6a2a160f"
      },
      "execution_count": 90,
      "outputs": [
        {
          "output_type": "stream",
          "name": "stdout",
          "text": [
            "INNER Join\n",
            "+-------+------------------+-----------------+-------+\n",
            "|OrderID|      CustomerName|             City| Region|\n",
            "+-------+------------------+-----------------+-------+\n",
            "|   2824|     Donald Walker|     Lake Joyside|Unknown|\n",
            "|   7912|      Brandon Hall|    New Jamesside|Unknown|\n",
            "|   4611|      Donald Booth|     Lake Roberto|Unknown|\n",
            "|   3547|    Phillip Garcia| West Melanieview|   West|\n",
            "|   8527|      Valerie Gray|        Mariastad|Unknown|\n",
            "|   4150|       Amber Perez|  Port Jesseville|Unknown|\n",
            "|   5554|        Roy Martin|      Lake Joseph|Unknown|\n",
            "|   2169|    Carolyn Daniel|         Grayside|Unknown|\n",
            "|   6313|       Patty Perez|      Richardland|Unknown|\n",
            "|   6155|Jonathan Wilkerson|       Thomasberg|Unknown|\n",
            "|   9830|       Kevin Hurst|      Jeffreyberg|Unknown|\n",
            "|   9085| Anthony Rodriguez|        Port Erin|Unknown|\n",
            "|   2040|     Kyle Mcdonald|Lake Jenniferside|Unknown|\n",
            "|   6573|    Jeffrey Chavez|      Teresaburgh|Unknown|\n",
            "|   2743|  Elizabeth Fowler|   East Nathaniel|   East|\n",
            "|   9837|     Tammy Sellers|       Tracyville|Unknown|\n",
            "|   6038|     David Bradley|    Lake Toddland|Unknown|\n",
            "|   3060|       John Pierce|       Brandtside|Unknown|\n",
            "|   4295|   Jennifer Powers|         Lammouth|Unknown|\n",
            "|   5061|    George Chapman|       North Chad|  North|\n",
            "+-------+------------------+-----------------+-------+\n",
            "only showing top 20 rows\n",
            "\n",
            "LEFT Join\n",
            "+-------+------------------+-----------------+-------+\n",
            "|OrderID|      CustomerName|             City| Region|\n",
            "+-------+------------------+-----------------+-------+\n",
            "|   2824|     Donald Walker|     Lake Joyside|Unknown|\n",
            "|   7912|      Brandon Hall|    New Jamesside|Unknown|\n",
            "|   4611|      Donald Booth|     Lake Roberto|Unknown|\n",
            "|   3547|    Phillip Garcia| West Melanieview|   West|\n",
            "|   8527|      Valerie Gray|        Mariastad|Unknown|\n",
            "|   4150|       Amber Perez|  Port Jesseville|Unknown|\n",
            "|   5554|        Roy Martin|      Lake Joseph|Unknown|\n",
            "|   2169|    Carolyn Daniel|         Grayside|Unknown|\n",
            "|   6313|       Patty Perez|      Richardland|Unknown|\n",
            "|   6155|Jonathan Wilkerson|       Thomasberg|Unknown|\n",
            "|   9830|       Kevin Hurst|      Jeffreyberg|Unknown|\n",
            "|   9085| Anthony Rodriguez|        Port Erin|Unknown|\n",
            "|   2040|     Kyle Mcdonald|Lake Jenniferside|Unknown|\n",
            "|   6573|    Jeffrey Chavez|      Teresaburgh|Unknown|\n",
            "|   2743|  Elizabeth Fowler|   East Nathaniel|   East|\n",
            "|   9837|     Tammy Sellers|       Tracyville|Unknown|\n",
            "|   6038|     David Bradley|    Lake Toddland|Unknown|\n",
            "|   3060|       John Pierce|       Brandtside|Unknown|\n",
            "|   4295|   Jennifer Powers|         Lammouth|Unknown|\n",
            "|   5061|    George Chapman|       North Chad|  North|\n",
            "+-------+------------------+-----------------+-------+\n",
            "only showing top 20 rows\n",
            "\n"
          ]
        }
      ]
    },
    {
      "cell_type": "code",
      "source": [
        "# Union two datasets: e.g., orders from 2023 and 2024.\n",
        "orders_2023 = df.filter(year(\"OrderDate\") == 2023)\n",
        "orders_2024 = df.filter(year(\"OrderDate\") == 2024)\n",
        "\n",
        "union_df = orders_2023.unionByName(orders_2024)\n",
        "\n",
        "union_df.select(\"OrderID\", \"CustomerName\", \"OrderDate\").show(10)"
      ],
      "metadata": {
        "colab": {
          "base_uri": "https://localhost:8080/"
        },
        "id": "OyoTZ-LaSrqU",
        "outputId": "8612de2d-1d53-431a-8e79-df19ad937570"
      },
      "execution_count": 71,
      "outputs": [
        {
          "output_type": "stream",
          "name": "stdout",
          "text": [
            "+-------+----------------+----------+\n",
            "|OrderID|    CustomerName| OrderDate|\n",
            "+-------+----------------+----------+\n",
            "|   2169|  Carolyn Daniel|2023-10-07|\n",
            "|   6313|     Patty Perez|2023-06-27|\n",
            "|   2040|   Kyle Mcdonald|2023-12-15|\n",
            "|   6038|   David Bradley|2023-08-03|\n",
            "|   3060|     John Pierce|2023-12-25|\n",
            "|   5061|  George Chapman|2023-11-28|\n",
            "|   1964|    Taylor Heath|2023-07-28|\n",
            "|   2612|Nicholas Mcbride|2023-08-26|\n",
            "|   1828|  Kimberly Smith|2023-08-14|\n",
            "|   4502|Stephanie Martin|2023-06-04|\n",
            "+-------+----------------+----------+\n",
            "only showing top 10 rows\n",
            "\n"
          ]
        }
      ]
    },
    {
      "cell_type": "code",
      "source": [
        "# 8. Complex JSON Simulation\n",
        "# Convert each order to a JSON string and load it back into a Dataframe\n",
        "from pyspark.sql import SparkSession\n",
        "from pyspark.sql.functions import col, struct, to_json, from_json, get_json_object\n",
        "\n",
        "df_json = df.withColumn(\"order_json\", to_json(struct([col(c) for c in df.columns])))\n",
        "\n",
        "df_json.select(\"OrderID\", \"order_json\").show(5, truncate=False)\n",
        "\n",
        "# Load JSON string back into DataFrame\n",
        "parsed_df = df_json.withColumn(\"parsed_json\", from_json(col(\"order_json\"), df.schema))\n",
        "\n",
        "parsed_df.select(\"OrderID\", \"parsed_json\").show(5, truncate=False)\n"
      ],
      "metadata": {
        "colab": {
          "base_uri": "https://localhost:8080/"
        },
        "id": "8iRnbIjgRJWP",
        "outputId": "e7f95752-e9bd-471a-a0c8-c409057716bb"
      },
      "execution_count": 92,
      "outputs": [
        {
          "output_type": "stream",
          "name": "stdout",
          "text": [
            "+-------+-----------------------------------------------------------------------------------------------------------------------------------------------------------------------------------------------------------------------------------------------+\n",
            "|OrderID|order_json                                                                                                                                                                                                                                     |\n",
            "+-------+-----------------------------------------------------------------------------------------------------------------------------------------------------------------------------------------------------------------------------------------------+\n",
            "|2824   |{\"OrderID\":2824,\"CustomerName\":\"Donald Walker\",\"ProductCategory\":\"Books\",\"Amount\":783.04,\"OrderDate\":\"2024-12-26\",\"DeliveryStatus\":\"Returned\",\"Discount\":0.15,\"City\":\"Lake Joyside\",\"PaymentMode\":\"Credit Card\",\"CustomerSince\":\"2020-10-15\"}  |\n",
            "|7912   |{\"OrderID\":7912,\"CustomerName\":\"Brandon Hall\",\"ProductCategory\":\"Groceries\",\"Amount\":905.0,\"OrderDate\":\"2024-09-12\",\"DeliveryStatus\":\"Cancelled\",\"Discount\":0.03,\"City\":\"New Jamesside\",\"PaymentMode\":\"Wallet\",\"CustomerSince\":\"2022-03-15\"}   |\n",
            "|4611   |{\"OrderID\":4611,\"CustomerName\":\"Donald Booth\",\"ProductCategory\":\"Fashion\",\"Amount\":657.96,\"OrderDate\":\"2025-01-12\",\"DeliveryStatus\":\"Returned\",\"Discount\":0.01,\"City\":\"Lake Roberto\",\"PaymentMode\":\"Wallet\",\"CustomerSince\":\"2021-08-07\"}      |\n",
            "|3547   |{\"OrderID\":3547,\"CustomerName\":\"Phillip Garcia\",\"ProductCategory\":\"Fashion\",\"Amount\":606.89,\"OrderDate\":\"2024-03-24\",\"DeliveryStatus\":\"Returned\",\"Discount\":0.15,\"City\":\"West Melanieview\",\"PaymentMode\":\"Wallet\",\"CustomerSince\":\"2020-08-08\"}|\n",
            "|8527   |{\"OrderID\":8527,\"CustomerName\":\"Valerie Gray\",\"ProductCategory\":\"Toys\",\"Amount\":77.87,\"OrderDate\":\"2024-08-04\",\"DeliveryStatus\":\"Delivered\",\"Discount\":0.17,\"City\":\"Mariastad\",\"PaymentMode\":\"Cash\",\"CustomerSince\":\"2022-11-15\"}              |\n",
            "+-------+-----------------------------------------------------------------------------------------------------------------------------------------------------------------------------------------------------------------------------------------------+\n",
            "only showing top 5 rows\n",
            "\n",
            "+-------+---------------------------------------------------------------------------------------------------------+\n",
            "|OrderID|parsed_json                                                                                              |\n",
            "+-------+---------------------------------------------------------------------------------------------------------+\n",
            "|2824   |{2824, Donald Walker, Books, 783.04, 2024-12-26, Returned, 0.15, Lake Joyside, Credit Card, 2020-10-15}  |\n",
            "|7912   |{7912, Brandon Hall, Groceries, 905.0, 2024-09-12, Cancelled, 0.03, New Jamesside, Wallet, 2022-03-15}   |\n",
            "|4611   |{4611, Donald Booth, Fashion, 657.96, 2025-01-12, Returned, 0.01, Lake Roberto, Wallet, 2021-08-07}      |\n",
            "|3547   |{3547, Phillip Garcia, Fashion, 606.89, 2024-03-24, Returned, 0.15, West Melanieview, Wallet, 2020-08-08}|\n",
            "|8527   |{8527, Valerie Gray, Toys, 77.87, 2024-08-04, Delivered, 0.17, Mariastad, Cash, 2022-11-15}              |\n",
            "+-------+---------------------------------------------------------------------------------------------------------+\n",
            "only showing top 5 rows\n",
            "\n"
          ]
        }
      ]
    },
    {
      "cell_type": "code",
      "source": [
        "#Access nested fields using get_json_object() .\n",
        "from pyspark.sql.functions import get_json_object\n",
        "\n",
        "parsed_df.select(get_json_object(col(\"json_order\"), \"$.CustomerName\").alias(\"CustomerName\"),\n",
        "    get_json_object(col(\"json_order\"), \"$.Amount\").alias(\"Amount\")\n",
        ").show(5)\n"
      ],
      "metadata": {
        "colab": {
          "base_uri": "https://localhost:8080/"
        },
        "id": "7a6-PG8QRMcJ",
        "outputId": "8592edbc-ca97-49e3-951b-4ee5a880c9f5"
      },
      "execution_count": 67,
      "outputs": [
        {
          "output_type": "stream",
          "name": "stdout",
          "text": [
            "+--------------+------+\n",
            "|  CustomerName|Amount|\n",
            "+--------------+------+\n",
            "| Donald Walker|783.04|\n",
            "|  Brandon Hall| 905.0|\n",
            "|  Donald Booth|657.96|\n",
            "|Phillip Garcia|606.89|\n",
            "|  Valerie Gray| 77.87|\n",
            "+--------------+------+\n",
            "only showing top 5 rows\n",
            "\n"
          ]
        }
      ]
    },
    {
      "cell_type": "code",
      "source": [
        "#9. Applying Functions:\n",
        "# Create a function to tag orders: “Big”, “Medium”, “Small” based on Amount.\n",
        "# Apply it using UDF in PySpark.\n",
        "def tag_order(amount):\n",
        "    if amount >= 800:\n",
        "        return \"Big\"\n",
        "    elif amount >= 500:\n",
        "        return \"Medium\"\n",
        "    else:\n",
        "        return \"Small\"\n",
        "\n",
        "from pyspark.sql.functions import udf\n",
        "from pyspark.sql.types import StringType\n",
        "\n",
        "tag_udf = udf(tag_order, StringType())\n",
        "\n",
        "df = df.withColumn(\"OrderSize\", tag_udf(col(\"Amount\")))\n",
        "\n",
        "df.select(\"OrderID\", \"Amount\", \"OrderSize\").show()"
      ],
      "metadata": {
        "colab": {
          "base_uri": "https://localhost:8080/"
        },
        "id": "j8U0-Aa-RODP",
        "outputId": "1ebfdd7a-fd44-4c5d-917d-85fb3d17bc94"
      },
      "execution_count": 66,
      "outputs": [
        {
          "output_type": "stream",
          "name": "stdout",
          "text": [
            "+-------+------+---------+\n",
            "|OrderID|Amount|OrderSize|\n",
            "+-------+------+---------+\n",
            "|   2824|783.04|   Medium|\n",
            "|   7912| 905.0|      Big|\n",
            "|   4611|657.96|   Medium|\n",
            "|   3547|606.89|   Medium|\n",
            "|   8527| 77.87|    Small|\n",
            "|   4150|352.37|    Small|\n",
            "|   5554|148.33|    Small|\n",
            "|   2169| 14.09|    Small|\n",
            "|   6313| 79.83|    Small|\n",
            "|   6155|882.68|      Big|\n",
            "|   9830|870.55|      Big|\n",
            "|   9085|921.73|      Big|\n",
            "|   2040|327.52|    Small|\n",
            "|   6573|676.02|   Medium|\n",
            "|   2743| 47.06|    Small|\n",
            "|   9837| 46.15|    Small|\n",
            "|   6038|348.51|    Small|\n",
            "|   3060|362.09|    Small|\n",
            "|   4295|684.26|   Medium|\n",
            "|   5061|251.89|    Small|\n",
            "+-------+------+---------+\n",
            "only showing top 20 rows\n",
            "\n"
          ]
        }
      ]
    }
  ]
}