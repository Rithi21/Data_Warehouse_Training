{
 "cells": [
  {
   "cell_type": "code",
   "execution_count": 0,
   "metadata": {
    "application/vnd.databricks.v1+cell": {
     "cellMetadata": {
      "byteLimit": 2048000,
      "rowLimit": 10000
     },
     "inputWidgets": {},
     "nuid": "578203ce-3ad9-436d-87d3-1b743580b270",
     "showTitle": false,
     "tableResultSettingsMap": {},
     "title": ""
    }
   },
   "outputs": [
    {
     "output_type": "stream",
     "name": "stdout",
     "output_type": "stream",
     "text": [
      "root\n |-- LogID: string (nullable = true)\n |-- VehicleID: string (nullable = true)\n |-- EntryPoint: string (nullable = true)\n |-- ExitPoint: string (nullable = true)\n |-- EntryTime: timestamp (nullable = true)\n |-- ExitTime: timestamp (nullable = true)\n |-- VehicleType: string (nullable = true)\n |-- SpeedKMH: integer (nullable = true)\n |-- TollPaid: integer (nullable = true)\n\n"
     ]
    }
   ],
   "source": [
    "from pyspark.sql import SparkSession\n",
    "\n",
    "spark = SparkSession.builder.appName(\"TrafficMonitoringSystem\").getOrCreate()\n",
    "\n",
    "df = spark.read.csv(\"file:/Workspace/Shared/traffic_logs.csv\", header=True, inferSchema=True)\n",
    "df.printSchema()\n"
   ]
  },
  {
   "cell_type": "code",
   "execution_count": 0,
   "metadata": {
    "application/vnd.databricks.v1+cell": {
     "cellMetadata": {
      "byteLimit": 2048000,
      "rowLimit": 10000
     },
     "inputWidgets": {},
     "nuid": "8d03b14f-ec53-4537-8462-2358436e3d98",
     "showTitle": false,
     "tableResultSettingsMap": {},
     "title": ""
    }
   },
   "outputs": [
    {
     "output_type": "stream",
     "name": "stdout",
     "output_type": "stream",
     "text": [
      "root\n |-- LogID: string (nullable = true)\n |-- VehicleID: string (nullable = true)\n |-- EntryPoint: string (nullable = true)\n |-- ExitPoint: string (nullable = true)\n |-- EntryTime: timestamp (nullable = true)\n |-- ExitTime: timestamp (nullable = true)\n |-- VehicleType: string (nullable = true)\n |-- SpeedKMH: integer (nullable = true)\n |-- TollPaid: integer (nullable = true)\n\n"
     ]
    }
   ],
   "source": [
    "from pyspark.sql.types import StructType, StructField, StringType, TimestampType, IntegerType, DoubleType\n",
    "\n",
    "manual_schema = StructType([\n",
    "    StructField(\"LogID\", StringType(), True),\n",
    "    StructField(\"VehicleID\", StringType(), True),\n",
    "    StructField(\"EntryPoint\", StringType(), True),\n",
    "    StructField(\"ExitPoint\", StringType(), True),\n",
    "    StructField(\"EntryTime\", TimestampType(), True),\n",
    "    StructField(\"ExitTime\", TimestampType(), True),\n",
    "    StructField(\"VehicleType\", StringType(), True),\n",
    "    StructField(\"SpeedKMH\", IntegerType(), True),\n",
    "    StructField(\"TollPaid\", IntegerType(), True)\n",
    "])\n",
    "\n",
    "df_manual = spark.read.csv(\"file:/Workspace/Shared/traffic_logs.csv\", header=True, schema=manual_schema)\n",
    "df_manual.printSchema()\n"
   ]
  },
  {
   "cell_type": "code",
   "execution_count": 0,
   "metadata": {
    "application/vnd.databricks.v1+cell": {
     "cellMetadata": {
      "byteLimit": 2048000,
      "rowLimit": 10000
     },
     "inputWidgets": {},
     "nuid": "f2c019ba-0adf-4167-8cc4-d2d7082cce09",
     "showTitle": false,
     "tableResultSettingsMap": {},
     "title": ""
    }
   },
   "outputs": [
    {
     "output_type": "display_data",
     "data": {
      "text/html": [
       "<style scoped>\n",
       "  .table-result-container {\n",
       "    max-height: 300px;\n",
       "    overflow: auto;\n",
       "  }\n",
       "  table, th, td {\n",
       "    border: 1px solid black;\n",
       "    border-collapse: collapse;\n",
       "  }\n",
       "  th, td {\n",
       "    padding: 5px;\n",
       "  }\n",
       "  th {\n",
       "    text-align: left;\n",
       "  }\n",
       "</style><div class='table-result-container'><table class='table-result'><thead style='background-color: white'><tr><th>LogID</th><th>VehicleID</th><th>EntryPoint</th><th>ExitPoint</th><th>EntryTime</th><th>ExitTime</th><th>VehicleType</th><th>SpeedKMH</th><th>TollPaid</th><th>TripDurationMinutes</th></tr></thead><tbody><tr><td>L001</td><td>V001</td><td>GateA</td><td>GateC</td><td>2024-05-01T08:01:00Z</td><td>2024-05-01T08:20:00Z</td><td>Car</td><td>60</td><td>50</td><td>19.0</td></tr><tr><td>L002</td><td>V002</td><td>GateB</td><td>GateC</td><td>2024-05-01T08:10:00Z</td><td>2024-05-01T08:45:00Z</td><td>Truck</td><td>45</td><td>100</td><td>35.0</td></tr><tr><td>L003</td><td>V003</td><td>GateA</td><td>GateD</td><td>2024-05-01T09:00:00Z</td><td>2024-05-01T09:18:00Z</td><td>Bike</td><td>55</td><td>30</td><td>18.0</td></tr><tr><td>L004</td><td>V004</td><td>GateC</td><td>GateD</td><td>2024-05-01T09:15:00Z</td><td>2024-05-01T09:35:00Z</td><td>Car</td><td>80</td><td>50</td><td>20.0</td></tr><tr><td>L005</td><td>V005</td><td>GateB</td><td>GateA</td><td>2024-05-01T10:05:00Z</td><td>2024-05-01T10:40:00Z</td><td>Bus</td><td>40</td><td>70</td><td>35.0</td></tr></tbody></table></div>"
      ]
     },
     "metadata": {
      "application/vnd.databricks.v1+output": {
       "addedWidgets": {},
       "aggData": [],
       "aggError": "",
       "aggOverflow": false,
       "aggSchema": [],
       "aggSeriesLimitReached": false,
       "aggType": "",
       "arguments": {},
       "columnCustomDisplayInfos": {},
       "data": [
        [
         "L001",
         "V001",
         "GateA",
         "GateC",
         "2024-05-01T08:01:00Z",
         "2024-05-01T08:20:00Z",
         "Car",
         60,
         50,
         19.0
        ],
        [
         "L002",
         "V002",
         "GateB",
         "GateC",
         "2024-05-01T08:10:00Z",
         "2024-05-01T08:45:00Z",
         "Truck",
         45,
         100,
         35.0
        ],
        [
         "L003",
         "V003",
         "GateA",
         "GateD",
         "2024-05-01T09:00:00Z",
         "2024-05-01T09:18:00Z",
         "Bike",
         55,
         30,
         18.0
        ],
        [
         "L004",
         "V004",
         "GateC",
         "GateD",
         "2024-05-01T09:15:00Z",
         "2024-05-01T09:35:00Z",
         "Car",
         80,
         50,
         20.0
        ],
        [
         "L005",
         "V005",
         "GateB",
         "GateA",
         "2024-05-01T10:05:00Z",
         "2024-05-01T10:40:00Z",
         "Bus",
         40,
         70,
         35.0
        ]
       ],
       "datasetInfos": [],
       "dbfsResultPath": null,
       "isJsonSchema": true,
       "metadata": {},
       "overflow": false,
       "plotOptions": {
        "customPlotOptions": {},
        "displayType": "table",
        "pivotAggregation": null,
        "pivotColumns": null,
        "xColumns": null,
        "yColumns": null
       },
       "removedWidgets": [],
       "schema": [
        {
         "metadata": "{}",
         "name": "LogID",
         "type": "\"string\""
        },
        {
         "metadata": "{}",
         "name": "VehicleID",
         "type": "\"string\""
        },
        {
         "metadata": "{}",
         "name": "EntryPoint",
         "type": "\"string\""
        },
        {
         "metadata": "{}",
         "name": "ExitPoint",
         "type": "\"string\""
        },
        {
         "metadata": "{}",
         "name": "EntryTime",
         "type": "\"timestamp\""
        },
        {
         "metadata": "{}",
         "name": "ExitTime",
         "type": "\"timestamp\""
        },
        {
         "metadata": "{}",
         "name": "VehicleType",
         "type": "\"string\""
        },
        {
         "metadata": "{}",
         "name": "SpeedKMH",
         "type": "\"integer\""
        },
        {
         "metadata": "{}",
         "name": "TollPaid",
         "type": "\"integer\""
        },
        {
         "metadata": "{}",
         "name": "TripDurationMinutes",
         "type": "\"double\""
        }
       ],
       "type": "table"
      }
     },
     "output_type": "display_data"
    },
    {
     "output_type": "stream",
     "name": "stdout",
     "output_type": "stream",
     "text": [
      "+-----+---------+----------+---------+-------------------+-------------------+-----------+--------+--------+-------------------+-----------+\n|LogID|VehicleID|EntryPoint|ExitPoint|          EntryTime|           ExitTime|VehicleType|SpeedKMH|TollPaid|TripDurationMinutes|IsOverspeed|\n+-----+---------+----------+---------+-------------------+-------------------+-----------+--------+--------+-------------------+-----------+\n| L001|     V001|     GateA|    GateC|2024-05-01 08:01:00|2024-05-01 08:20:00|        Car|      60|      50|               19.0|      false|\n| L002|     V002|     GateB|    GateC|2024-05-01 08:10:00|2024-05-01 08:45:00|      Truck|      45|     100|               35.0|      false|\n| L003|     V003|     GateA|    GateD|2024-05-01 09:00:00|2024-05-01 09:18:00|       Bike|      55|      30|               18.0|      false|\n| L004|     V004|     GateC|    GateD|2024-05-01 09:15:00|2024-05-01 09:35:00|        Car|      80|      50|               20.0|       true|\n| L005|     V005|     GateB|    GateA|2024-05-01 10:05:00|2024-05-01 10:40:00|        Bus|      40|      70|               35.0|      false|\n+-----+---------+----------+---------+-------------------+-------------------+-----------+--------+--------+-------------------+-----------+\n\n"
     ]
    }
   ],
   "source": [
    "# Derived Column Creation\n",
    "\n",
    "# Calculate TripDurationMinutes = ExitTime - EntryTime\n",
    "\n",
    "from pyspark.sql.functions import col, unix_timestamp, round\n",
    "\n",
    "df=df.withColumn(\"TripDurationMinutes\", round((unix_timestamp(col(\"ExitTime\")) - unix_timestamp(col(\"EntryTime\"))) / 60, 2))\n",
    "df.display()\n",
    "\n",
    "# Add IsOverspeed = SpeedKMH > 60\n",
    "\n",
    "from pyspark.sql.functions import when\n",
    "\n",
    "df.withColumn(\"IsOverspeed\",when(col(\"SpeedKMH\") > 60, True).otherwise(False)).show()\n"
   ]
  },
  {
   "cell_type": "code",
   "execution_count": 0,
   "metadata": {
    "application/vnd.databricks.v1+cell": {
     "cellMetadata": {
      "byteLimit": 2048000,
      "rowLimit": 10000
     },
     "inputWidgets": {},
     "nuid": "6012ee9b-bb67-4a2e-b20d-7c53b6c2e097",
     "showTitle": false,
     "tableResultSettingsMap": {},
     "title": ""
    }
   },
   "outputs": [
    {
     "output_type": "stream",
     "name": "stdout",
     "output_type": "stream",
     "text": [
      "+-----------+--------+\n|VehicleType|AvgSpeed|\n+-----------+--------+\n|       Bike|    55.0|\n|        Car|    70.0|\n|      Truck|    45.0|\n|        Bus|    40.0|\n+-----------+--------+\n\n+----------+------------------+\n|EntryPoint|TotalTollCollected|\n+----------+------------------+\n|     GateA|                80|\n|     GateB|               170|\n|     GateC|                50|\n+----------+------------------+\n\n+---------+--------------+\n|ExitPoint|ExitUsageCount|\n+---------+--------------+\n|    GateD|             2|\n+---------+--------------+\nonly showing top 1 row\n\n"
     ]
    }
   ],
   "source": [
    "# Vehicle Behavior Aggregations\n",
    "\n",
    "# Average speed per VehicleType\n",
    "df.groupBy(\"VehicleType\").avg(\"SpeedKMH\").withColumnRenamed(\"avg(SpeedKMH)\", \"AvgSpeed\").show()\n",
    "\n",
    "# Total toll collected per gate (EntryPoint)\n",
    "df.groupBy(\"EntryPoint\").sum(\"TollPaid\").withColumnRenamed(\"sum(TollPaid)\", \"TotalTollCollected\").show()\n",
    "\n",
    "# Most used ExitPoint\n",
    "from pyspark.sql.functions import count\n",
    "\n",
    "df.groupBy(\"ExitPoint\").agg(count(\"*\").alias(\"ExitUsageCount\")) .orderBy(col(\"ExitUsageCount\").desc()).show(1)\n",
    "\n"
   ]
  },
  {
   "cell_type": "code",
   "execution_count": 0,
   "metadata": {
    "application/vnd.databricks.v1+cell": {
     "cellMetadata": {
      "byteLimit": 2048000,
      "rowLimit": 10000
     },
     "inputWidgets": {},
     "nuid": "52a63a0b-42da-4006-9c33-f1a92542ace0",
     "showTitle": false,
     "tableResultSettingsMap": {},
     "title": ""
    }
   },
   "outputs": [
    {
     "output_type": "stream",
     "name": "stdout",
     "output_type": "stream",
     "text": [
      "+-----+---------+-----------+--------+---------+\n|LogID|VehicleID|VehicleType|SpeedKMH|SpeedRank|\n+-----+---------+-----------+--------+---------+\n| L003|     V003|       Bike|      55|        1|\n| L005|     V005|        Bus|      40|        1|\n| L004|     V004|        Car|      80|        1|\n| L001|     V001|        Car|      60|        2|\n| L002|     V002|      Truck|      45|        1|\n+-----+---------+-----------+--------+---------+\n\n+-----+---------+-------------------+----------------+\n|LogID|VehicleID|           ExitTime|PreviousExitTime|\n+-----+---------+-------------------+----------------+\n| L001|     V001|2024-05-01 08:20:00|            NULL|\n| L002|     V002|2024-05-01 08:45:00|            NULL|\n| L003|     V003|2024-05-01 09:18:00|            NULL|\n| L004|     V004|2024-05-01 09:35:00|            NULL|\n| L005|     V005|2024-05-01 10:40:00|            NULL|\n+-----+---------+-------------------+----------------+\n\n"
     ]
    }
   ],
   "source": [
    "# Window Functions\n",
    "\n",
    "# Rank vehicles by speed within VehicleType\n",
    "\n",
    "from pyspark.sql.window import Window\n",
    "from pyspark.sql.functions import rank\n",
    "from pyspark.sql.functions import col\n",
    "\n",
    "speed_window = Window.partitionBy(\"VehicleType\").orderBy(col(\"SpeedKMH\").desc())\n",
    "\n",
    "df_rank = df.withColumn(\"SpeedRank\", rank().over(speed_window))\n",
    "\n",
    "df_rank.select(\"LogID\", \"VehicleID\", \"VehicleType\", \"SpeedKMH\", \"SpeedRank\").show()\n",
    "\n",
    "# Find last exit time for each vehicle using lag()\n",
    "from pyspark.sql.functions import lag\n",
    "\n",
    "vehicle_window = Window.partitionBy(\"VehicleID\").orderBy(\"ExitTime\")\n",
    "\n",
    "df_lag = df.withColumn(\"PreviousExitTime\", lag(\"ExitTime\").over(vehicle_window))\n",
    "\n",
    "df_lag.select(\"LogID\", \"VehicleID\", \"ExitTime\", \"PreviousExitTime\").show()\n",
    "\n",
    "\n"
   ]
  },
  {
   "cell_type": "code",
   "execution_count": 0,
   "metadata": {
    "application/vnd.databricks.v1+cell": {
     "cellMetadata": {
      "byteLimit": 2048000,
      "rowLimit": 10000
     },
     "inputWidgets": {},
     "nuid": "c2bde75d-dd5a-4959-a056-4e6eadfc4494",
     "showTitle": false,
     "tableResultSettingsMap": {},
     "title": ""
    }
   },
   "outputs": [
    {
     "output_type": "stream",
     "name": "stdout",
     "output_type": "stream",
     "text": [
      "+-----+---------+-------------------+-------------------+----------------+--------+\n|LogID|VehicleID|EntryTime          |ExitTime           |PreviousExitTime|IdleTime|\n+-----+---------+-------------------+-------------------+----------------+--------+\n|L001 |V001     |2024-05-01 08:01:00|2024-05-01 08:20:00|NULL            |NULL    |\n|L002 |V002     |2024-05-01 08:10:00|2024-05-01 08:45:00|NULL            |NULL    |\n|L003 |V003     |2024-05-01 09:00:00|2024-05-01 09:18:00|NULL            |NULL    |\n|L004 |V004     |2024-05-01 09:15:00|2024-05-01 09:35:00|NULL            |NULL    |\n|L005 |V005     |2024-05-01 10:05:00|2024-05-01 10:40:00|NULL            |NULL    |\n+-----+---------+-------------------+-------------------+----------------+--------+\n\n"
     ]
    }
   ],
   "source": [
    "# Session Segmentation\n",
    "# Group by VehicleID to simulate route sessions\n",
    "# Find duration between subsequent trips (idle time)\n",
    "\n",
    "from pyspark.sql.window import Window\n",
    "from pyspark.sql.functions import lag, unix_timestamp, round, col\n",
    "\n",
    "# Partition by VehicleID and order by EntryTime to simulate trip sequence\n",
    "session_window = Window.partitionBy(\"VehicleID\").orderBy(\"EntryTime\")\n",
    "\n",
    "df_sessions = df.withColumn(\"PreviousExitTime\", lag(\"ExitTime\").over(session_window))\n",
    "\n",
    "df_sessions = df_sessions.withColumn(\"IdleTime\",\n",
    "    round((unix_timestamp(\"EntryTime\") - unix_timestamp(\"PreviousExitTime\")) / 60, 2)\n",
    ")\n",
    "\n",
    "df_sessions.select(\n",
    "    \"LogID\", \"VehicleID\", \"EntryTime\", \"ExitTime\", \"PreviousExitTime\", \"IdleTime\"\n",
    ").orderBy(\"VehicleID\", \"EntryTime\").show(truncate=False)\n"
   ]
  },
  {
   "cell_type": "code",
   "execution_count": 0,
   "metadata": {
    "application/vnd.databricks.v1+cell": {
     "cellMetadata": {
      "byteLimit": 2048000,
      "rowLimit": 10000
     },
     "inputWidgets": {},
     "nuid": "2328afe6-3c6f-45a7-96ed-61c91386f8d1",
     "showTitle": false,
     "tableResultSettingsMap": {},
     "title": ""
    }
   },
   "outputs": [
    {
     "output_type": "stream",
     "name": "stdout",
     "output_type": "stream",
     "text": [
      "+-----+---------+--------+-------------------+\n|LogID|VehicleID|SpeedKMH|TripDurationMinutes|\n+-----+---------+--------+-------------------+\n| L001|     V001|      60|               19.0|\n| L002|     V002|      45|               35.0|\n| L003|     V003|      55|               18.0|\n| L004|     V004|      80|               20.0|\n| L005|     V005|      40|               35.0|\n+-----+---------+--------+-------------------+\n\n+---------+-----------+---------+\n|VehicleID|AvgDuration|TotalToll|\n+---------+-----------+---------+\n|     V004|       20.0|       50|\n|     V005|       35.0|       70|\n|     V001|       19.0|       50|\n|     V003|       18.0|       30|\n|     V002|       35.0|      100|\n+---------+-----------+---------+\n\n+---------+-----------+---------+\n|VehicleID|AvgDuration|TotalToll|\n+---------+-----------+---------+\n+---------+-----------+---------+\n\n+-----+---------+----------+---------+\n|LogID|VehicleID|EntryPoint|ExitPoint|\n+-----+---------+----------+---------+\n| L005|     V005|     GateB|    GateA|\n+-----+---------+----------+---------+\n\n"
     ]
    }
   ],
   "source": [
    "# Anomaly Detection\n",
    "# Identify vehicles with speed > 70 and TripDuration < 10 minutes\n",
    "\n",
    "df.filter((col(\"SpeedKMH\") > 70) & (col(\"TripDurationMinutes\") < 10))\n",
    "df.select(\"LogID\", \"VehicleID\", \"SpeedKMH\", \"TripDurationMinutes\").show()\n",
    "\n",
    "# Vehicles that paid less toll for longer trips\n",
    "from pyspark.sql.functions import avg, sum\n",
    "\n",
    "toll_duration_df = df.groupBy(\"VehicleID\").agg(\n",
    "    avg(\"TripDurationMinutes\").alias(\"AvgDuration\"),\n",
    "    sum(\"TollPaid\").alias(\"TotalToll\")\n",
    ")\n",
    "toll_duration_df.show()\n",
    "suspicious_toll = toll_duration_df.filter((col(\"AvgDuration\") > 30) & (col(\"TotalToll\") < 50))\n",
    "suspicious_toll.show()\n",
    "\n",
    "# Suspicious backtracking (ExitPoint earlier than EntryPoint)\n",
    "from pyspark.sql.functions import asc\n",
    "\n",
    "backtrack = df.filter(col(\"ExitPoint\") < col(\"EntryPoint\"))\n",
    "backtrack.select(\"LogID\", \"VehicleID\", \"EntryPoint\", \"ExitPoint\").show()\n"
   ]
  },
  {
   "cell_type": "code",
   "execution_count": 0,
   "metadata": {
    "application/vnd.databricks.v1+cell": {
     "cellMetadata": {
      "byteLimit": 2048000,
      "rowLimit": 10000
     },
     "inputWidgets": {},
     "nuid": "fa5034d8-a6f0-4971-b107-1e2ea0b18b13",
     "showTitle": false,
     "tableResultSettingsMap": {},
     "title": ""
    }
   },
   "outputs": [
    {
     "output_type": "stream",
     "name": "stdout",
     "output_type": "stream",
     "text": [
      "root\n |-- VehicleID: string (nullable = true)\n |-- OwnerName: string (nullable = true)\n |-- Model: string (nullable = true)\n |-- RegisteredCity: string (nullable = true)\n\n+---------+---------+-----------+--------------+\n|VehicleID|OwnerName|      Model|RegisteredCity|\n+---------+---------+-----------+--------------+\n|     V001|     Anil|Hyundai i20|         Delhi|\n|     V002|   Rakesh| Tata Truck|       Chennai|\n|     V003|     Sana| Yamaha R15|        Mumbai|\n|     V004|     Neha| Honda City|     Bangalore|\n|     V005|     Zoya|  Volvo Bus|          Pune|\n+---------+---------+-----------+--------------+\n\n+-----+---------+---------+--------------+----------+---------+\n|LogID|VehicleID|OwnerName|RegisteredCity|EntryPoint|ExitPoint|\n+-----+---------+---------+--------------+----------+---------+\n| L001|     V001|     Anil|         Delhi|     GateA|    GateC|\n| L002|     V002|   Rakesh|       Chennai|     GateB|    GateC|\n| L003|     V003|     Sana|        Mumbai|     GateA|    GateD|\n| L004|     V004|     Neha|     Bangalore|     GateC|    GateD|\n| L005|     V005|     Zoya|          Pune|     GateB|    GateA|\n+-----+---------+---------+--------------+----------+---------+\n\n+--------------+----------+\n|RegisteredCity|TotalTrips|\n+--------------+----------+\n|        Mumbai|         1|\n|       Chennai|         1|\n|          Pune|         1|\n|     Bangalore|         1|\n|         Delhi|         1|\n+--------------+----------+\n\n"
     ]
    }
   ],
   "source": [
    "# 7. Join with Metadata\n",
    "# Prepare a small vehicle_registry.csv :\n",
    "# VehicleID,OwnerName,Model,RegisteredCity\n",
    "# V001,Anil,Hyundai i20,Delhi\n",
    "# V002,Rakesh,Tata Truck,Chennai\n",
    "# V003,Sana,Yamaha R15,Mumbai\n",
    "# V004,Neha,Honda City,Bangalore\n",
    "# V005,Zoya,Volvo Bus,Pune\n",
    "# Join and group trips by RegisteredCity\n",
    "# Load vehicle registry CSV\n",
    "\n",
    "registry_df = spark.read.csv(\"file:/Workspace/Shared/vehicle_registry.csv\", header=True, inferSchema=True)\n",
    "\n",
    "registry_df.printSchema()\n",
    "registry_df.show()\n",
    "\n",
    "# Perform an inner join on VehicleID\n",
    "joined_df = df.join(registry_df, on=\"VehicleID\", how=\"inner\")\n",
    "\n",
    "joined_df.select(\"LogID\", \"VehicleID\", \"OwnerName\", \"RegisteredCity\", \"EntryPoint\", \"ExitPoint\").show()\n",
    "from pyspark.sql.functions import count\n",
    "\n",
    "joined_df.groupBy(\"RegisteredCity\").agg(count(\"LogID\").alias(\"TotalTrips\")).orderBy(\"TotalTrips\", ascending=False).show()\n",
    "\n"
   ]
  },
  {
   "cell_type": "code",
   "execution_count": 0,
   "metadata": {
    "application/vnd.databricks.v1+cell": {
     "cellMetadata": {
      "byteLimit": 2048000,
      "rowLimit": 10000
     },
     "inputWidgets": {},
     "nuid": "990370b4-82e2-4751-9983-b0e10a51a10c",
     "showTitle": false,
     "tableResultSettingsMap": {},
     "title": ""
    }
   },
   "outputs": [
    {
     "output_type": "stream",
     "name": "stdout",
     "output_type": "stream",
     "text": [
      "+-------+-------------------+----------------+----------------------------------+---------------------------------+----------------------------------------------------------------------------------------------------------------------------------------------------------------------------------+----+------------------+--------------------+-----------+-----------------+-------------+------------------------------------------------------------------------------------------------------------------------------------------------------------------------------------------------------------------------------------------------------------------------------------------------------------------------------------------------------------------------------------------------------------------------------------------------------------------------------------------------------------------------------------------------------------------------------------------------------------------------------------------------------------------------------------+------------+------------------------------------------+\n|version|timestamp          |userId          |userName                          |operation                        |operationParameters                                                                                                                                                               |job |notebook          |clusterId           |readVersion|isolationLevel   |isBlindAppend|operationMetrics                                                                                                                                                                                                                                                                                                                                                                                                                                                                                                                                                                                                                                                                    |userMetadata|engineInfo                                |\n+-------+-------------------+----------------+----------------------------------+---------------------------------+----------------------------------------------------------------------------------------------------------------------------------------------------------------------------------+----+------------------+--------------------+-----------+-----------------+-------------+------------------------------------------------------------------------------------------------------------------------------------------------------------------------------------------------------------------------------------------------------------------------------------------------------------------------------------------------------------------------------------------------------------------------------------------------------------------------------------------------------------------------------------------------------------------------------------------------------------------------------------------------------------------------------------+------------+------------------------------------------+\n|24     |2025-06-19 07:16:54|3359264194789707|azuser3558_mml.local@techademy.com|OPTIMIZE                         |{predicate -> [], auto -> true, clusterBy -> [], zOrderBy -> [], batchId -> 0}                                                                                                    |NULL|{3428140736495293}|0611-041524-ifuhl15z|22         |SnapshotIsolation|false        |{numRemovedFiles -> 2, numRemovedBytes -> 6173, p25FileSize -> 3299, numDeletionVectorsRemoved -> 1, conflictDetectionTimeMs -> 13, minFileSize -> 3299, numAddedFiles -> 1, maxFileSize -> 3299, p75FileSize -> 3299, p50FileSize -> 3299, numAddedBytes -> 3299}                                                                                                                                                                                                                                                                                                                                                                                                                  |NULL        |Databricks-Runtime/15.4.x-photon-scala2.12|\n|23     |2025-06-19 07:16:53|3359264194789707|azuser3558_mml.local@techademy.com|DELETE                           |{predicate -> [\"(TripDurationMinutes#37598 > 60.0)\"]}                                                                                                                             |NULL|{3428140736495293}|0611-041524-ifuhl15z|22         |WriteSerializable|false        |{numRemovedFiles -> 0, numRemovedBytes -> 0, numCopiedRows -> 0, numDeletionVectorsAdded -> 0, numDeletionVectorsRemoved -> 0, numAddedChangeFiles -> 0, executionTimeMs -> 181, numDeletionVectorsUpdated -> 0, numDeletedRows -> 0, scanTimeMs -> 181, numAddedFiles -> 0, numAddedBytes -> 0, rewriteTimeMs -> 0}                                                                                                                                                                                                                                                                                                                                                                |NULL        |Databricks-Runtime/15.4.x-photon-scala2.12|\n|22     |2025-06-19 07:16:52|3359264194789707|azuser3558_mml.local@techademy.com|MERGE                            |{predicate -> [\"(LogID#37589 = LogID#780)\"], matchedPredicates -> [{\"actionType\":\"update\"}], statsOnLoad -> false, notMatchedBySourcePredicates -> [], notMatchedPredicates -> []}|NULL|{3428140736495293}|0611-041524-ifuhl15z|21         |WriteSerializable|false        |{numTargetRowsCopied -> 0, numTargetRowsDeleted -> 0, numTargetFilesAdded -> 1, numTargetBytesAdded -> 2881, numTargetBytesRemoved -> 0, numTargetDeletionVectorsAdded -> 1, numTargetRowsMatchedUpdated -> 1, executionTimeMs -> 1738, materializeSourceTimeMs -> 136, numTargetRowsInserted -> 0, numTargetRowsMatchedDeleted -> 0, numTargetDeletionVectorsUpdated -> 0, scanTimeMs -> 579, numTargetRowsUpdated -> 1, numOutputRows -> 1, numTargetDeletionVectorsRemoved -> 0, numTargetRowsNotMatchedBySourceUpdated -> 0, numTargetChangeFilesAdded -> 0, numSourceRows -> 1, numTargetFilesRemoved -> 0, numTargetRowsNotMatchedBySourceDeleted -> 0, rewriteTimeMs -> 999} |NULL        |Databricks-Runtime/15.4.x-photon-scala2.12|\n|21     |2025-06-19 07:16:49|3359264194789707|azuser3558_mml.local@techademy.com|CREATE OR REPLACE TABLE AS SELECT|{partitionBy -> [], clusterBy -> [], description -> NULL, isManaged -> true, properties -> {\"delta.enableDeletionVectors\":\"true\"}, statsOnLoad -> false}                          |NULL|{3428140736495293}|0611-041524-ifuhl15z|20         |WriteSerializable|false        |{numFiles -> 1, numOutputRows -> 5, numOutputBytes -> 3292}                                                                                                                                                                                                                                                                                                                                                                                                                                                                                                                                                                                                                         |NULL        |Databricks-Runtime/15.4.x-photon-scala2.12|\n|20     |2025-06-19 07:16:34|3359264194789707|azuser3558_mml.local@techademy.com|OPTIMIZE                         |{predicate -> [], auto -> true, clusterBy -> [], zOrderBy -> [], batchId -> 0}                                                                                                    |NULL|{3428140736495293}|0611-041524-ifuhl15z|18         |SnapshotIsolation|false        |{numRemovedFiles -> 2, numRemovedBytes -> 6173, p25FileSize -> 3299, numDeletionVectorsRemoved -> 1, conflictDetectionTimeMs -> 12, minFileSize -> 3299, numAddedFiles -> 1, maxFileSize -> 3299, p75FileSize -> 3299, p50FileSize -> 3299, numAddedBytes -> 3299}                                                                                                                                                                                                                                                                                                                                                                                                                  |NULL        |Databricks-Runtime/15.4.x-photon-scala2.12|\n|19     |2025-06-19 07:16:33|3359264194789707|azuser3558_mml.local@techademy.com|DELETE                           |{predicate -> [\"(TripDurationMinutes#34870 > 60.0)\"]}                                                                                                                             |NULL|{3428140736495293}|0611-041524-ifuhl15z|18         |WriteSerializable|false        |{numRemovedFiles -> 0, numRemovedBytes -> 0, numCopiedRows -> 0, numDeletionVectorsAdded -> 0, numDeletionVectorsRemoved -> 0, numAddedChangeFiles -> 0, executionTimeMs -> 146, numDeletionVectorsUpdated -> 0, numDeletedRows -> 0, scanTimeMs -> 146, numAddedFiles -> 0, numAddedBytes -> 0, rewriteTimeMs -> 0}                                                                                                                                                                                                                                                                                                                                                                |NULL        |Databricks-Runtime/15.4.x-photon-scala2.12|\n|18     |2025-06-19 07:16:32|3359264194789707|azuser3558_mml.local@techademy.com|MERGE                            |{predicate -> [\"(LogID#34861 = LogID#780)\"], matchedPredicates -> [{\"actionType\":\"update\"}], statsOnLoad -> false, notMatchedBySourcePredicates -> [], notMatchedPredicates -> []}|NULL|{3428140736495293}|0611-041524-ifuhl15z|17         |WriteSerializable|false        |{numTargetRowsCopied -> 0, numTargetRowsDeleted -> 0, numTargetFilesAdded -> 1, numTargetBytesAdded -> 2881, numTargetBytesRemoved -> 0, numTargetDeletionVectorsAdded -> 1, numTargetRowsMatchedUpdated -> 1, executionTimeMs -> 1469, materializeSourceTimeMs -> 143, numTargetRowsInserted -> 0, numTargetRowsMatchedDeleted -> 0, numTargetDeletionVectorsUpdated -> 0, scanTimeMs -> 633, numTargetRowsUpdated -> 1, numOutputRows -> 1, numTargetDeletionVectorsRemoved -> 0, numTargetRowsNotMatchedBySourceUpdated -> 0, numTargetChangeFilesAdded -> 0, numSourceRows -> 1, numTargetFilesRemoved -> 0, numTargetRowsNotMatchedBySourceDeleted -> 0, rewriteTimeMs -> 669} |NULL        |Databricks-Runtime/15.4.x-photon-scala2.12|\n|17     |2025-06-19 07:16:29|3359264194789707|azuser3558_mml.local@techademy.com|CREATE OR REPLACE TABLE AS SELECT|{partitionBy -> [], clusterBy -> [], description -> NULL, isManaged -> true, properties -> {\"delta.enableDeletionVectors\":\"true\"}, statsOnLoad -> false}                          |NULL|{3428140736495293}|0611-041524-ifuhl15z|16         |WriteSerializable|false        |{numFiles -> 1, numOutputRows -> 5, numOutputBytes -> 3292}                                                                                                                                                                                                                                                                                                                                                                                                                                                                                                                                                                                                                         |NULL        |Databricks-Runtime/15.4.x-photon-scala2.12|\n|16     |2025-06-19 07:16:08|3359264194789707|azuser3558_mml.local@techademy.com|OPTIMIZE                         |{predicate -> [], auto -> true, clusterBy -> [], zOrderBy -> [], batchId -> 0}                                                                                                    |NULL|{3428140736495293}|0611-041524-ifuhl15z|14         |SnapshotIsolation|false        |{numRemovedFiles -> 2, numRemovedBytes -> 6173, p25FileSize -> 3299, numDeletionVectorsRemoved -> 1, conflictDetectionTimeMs -> 16, minFileSize -> 3299, numAddedFiles -> 1, maxFileSize -> 3299, p75FileSize -> 3299, p50FileSize -> 3299, numAddedBytes -> 3299}                                                                                                                                                                                                                                                                                                                                                                                                                  |NULL        |Databricks-Runtime/15.4.x-photon-scala2.12|\n|15     |2025-06-19 07:16:07|3359264194789707|azuser3558_mml.local@techademy.com|DELETE                           |{predicate -> [\"(TripDurationMinutes#32016 > 60.0)\"]}                                                                                                                             |NULL|{3428140736495293}|0611-041524-ifuhl15z|14         |WriteSerializable|false        |{numRemovedFiles -> 0, numRemovedBytes -> 0, numCopiedRows -> 0, numDeletionVectorsAdded -> 0, numDeletionVectorsRemoved -> 0, numAddedChangeFiles -> 0, executionTimeMs -> 212, numDeletionVectorsUpdated -> 0, numDeletedRows -> 0, scanTimeMs -> 212, numAddedFiles -> 0, numAddedBytes -> 0, rewriteTimeMs -> 0}                                                                                                                                                                                                                                                                                                                                                                |NULL        |Databricks-Runtime/15.4.x-photon-scala2.12|\n|14     |2025-06-19 07:16:06|3359264194789707|azuser3558_mml.local@techademy.com|MERGE                            |{predicate -> [\"(LogID#32007 = LogID#780)\"], matchedPredicates -> [{\"actionType\":\"update\"}], statsOnLoad -> false, notMatchedBySourcePredicates -> [], notMatchedPredicates -> []}|NULL|{3428140736495293}|0611-041524-ifuhl15z|13         |WriteSerializable|false        |{numTargetRowsCopied -> 0, numTargetRowsDeleted -> 0, numTargetFilesAdded -> 1, numTargetBytesAdded -> 2881, numTargetBytesRemoved -> 0, numTargetDeletionVectorsAdded -> 1, numTargetRowsMatchedUpdated -> 1, executionTimeMs -> 1768, materializeSourceTimeMs -> 141, numTargetRowsInserted -> 0, numTargetRowsMatchedDeleted -> 0, numTargetDeletionVectorsUpdated -> 0, scanTimeMs -> 685, numTargetRowsUpdated -> 1, numOutputRows -> 1, numTargetDeletionVectorsRemoved -> 0, numTargetRowsNotMatchedBySourceUpdated -> 0, numTargetChangeFilesAdded -> 0, numSourceRows -> 1, numTargetFilesRemoved -> 0, numTargetRowsNotMatchedBySourceDeleted -> 0, rewriteTimeMs -> 918} |NULL        |Databricks-Runtime/15.4.x-photon-scala2.12|\n|13     |2025-06-19 07:16:03|3359264194789707|azuser3558_mml.local@techademy.com|CREATE OR REPLACE TABLE AS SELECT|{partitionBy -> [], clusterBy -> [], description -> NULL, isManaged -> true, properties -> {\"delta.enableDeletionVectors\":\"true\"}, statsOnLoad -> false}                          |NULL|{3428140736495293}|0611-041524-ifuhl15z|12         |WriteSerializable|false        |{numFiles -> 1, numOutputRows -> 5, numOutputBytes -> 3292}                                                                                                                                                                                                                                                                                                                                                                                                                                                                                                                                                                                                                         |NULL        |Databricks-Runtime/15.4.x-photon-scala2.12|\n|12     |2025-06-19 07:13:57|3359264194789707|azuser3558_mml.local@techademy.com|OPTIMIZE                         |{predicate -> [], auto -> true, clusterBy -> [], zOrderBy -> [], batchId -> 0}                                                                                                    |NULL|{3428140736495293}|0611-041524-ifuhl15z|10         |SnapshotIsolation|false        |{numRemovedFiles -> 2, numRemovedBytes -> 6173, p25FileSize -> 3299, numDeletionVectorsRemoved -> 1, conflictDetectionTimeMs -> 13, minFileSize -> 3299, numAddedFiles -> 1, maxFileSize -> 3299, p75FileSize -> 3299, p50FileSize -> 3299, numAddedBytes -> 3299}                                                                                                                                                                                                                                                                                                                                                                                                                  |NULL        |Databricks-Runtime/15.4.x-photon-scala2.12|\n|11     |2025-06-19 07:13:56|3359264194789707|azuser3558_mml.local@techademy.com|DELETE                           |{predicate -> [\"(TripDurationMinutes#29315 > 60.0)\"]}                                                                                                                             |NULL|{3428140736495293}|0611-041524-ifuhl15z|10         |WriteSerializable|false        |{numRemovedFiles -> 0, numRemovedBytes -> 0, numCopiedRows -> 0, numDeletionVectorsAdded -> 0, numDeletionVectorsRemoved -> 0, numAddedChangeFiles -> 0, executionTimeMs -> 191, numDeletionVectorsUpdated -> 0, numDeletedRows -> 0, scanTimeMs -> 191, numAddedFiles -> 0, numAddedBytes -> 0, rewriteTimeMs -> 0}                                                                                                                                                                                                                                                                                                                                                                |NULL        |Databricks-Runtime/15.4.x-photon-scala2.12|\n|10     |2025-06-19 07:13:55|3359264194789707|azuser3558_mml.local@techademy.com|MERGE                            |{predicate -> [\"(LogID#29306 = LogID#780)\"], matchedPredicates -> [{\"actionType\":\"update\"}], statsOnLoad -> false, notMatchedBySourcePredicates -> [], notMatchedPredicates -> []}|NULL|{3428140736495293}|0611-041524-ifuhl15z|9          |WriteSerializable|false        |{numTargetRowsCopied -> 0, numTargetRowsDeleted -> 0, numTargetFilesAdded -> 1, numTargetBytesAdded -> 2881, numTargetBytesRemoved -> 0, numTargetDeletionVectorsAdded -> 1, numTargetRowsMatchedUpdated -> 1, executionTimeMs -> 1434, materializeSourceTimeMs -> 143, numTargetRowsInserted -> 0, numTargetRowsMatchedDeleted -> 0, numTargetDeletionVectorsUpdated -> 0, scanTimeMs -> 577, numTargetRowsUpdated -> 1, numOutputRows -> 1, numTargetDeletionVectorsRemoved -> 0, numTargetRowsNotMatchedBySourceUpdated -> 0, numTargetChangeFilesAdded -> 0, numSourceRows -> 1, numTargetFilesRemoved -> 0, numTargetRowsNotMatchedBySourceDeleted -> 0, rewriteTimeMs -> 694} |NULL        |Databricks-Runtime/15.4.x-photon-scala2.12|\n|9      |2025-06-19 07:13:52|3359264194789707|azuser3558_mml.local@techademy.com|CREATE OR REPLACE TABLE AS SELECT|{partitionBy -> [], clusterBy -> [], description -> NULL, isManaged -> true, properties -> {\"delta.enableDeletionVectors\":\"true\"}, statsOnLoad -> false}                          |NULL|{3428140736495293}|0611-041524-ifuhl15z|8          |WriteSerializable|false        |{numFiles -> 1, numOutputRows -> 5, numOutputBytes -> 3292}                                                                                                                                                                                                                                                                                                                                                                                                                                                                                                                                                                                                                         |NULL        |Databricks-Runtime/15.4.x-photon-scala2.12|\n|8      |2025-06-19 05:27:02|3359264194789707|azuser3558_mml.local@techademy.com|OPTIMIZE                         |{predicate -> [], auto -> true, clusterBy -> [], zOrderBy -> [], batchId -> 0}                                                                                                    |NULL|{3428140736495293}|0611-041524-ifuhl15z|6          |SnapshotIsolation|false        |{numRemovedFiles -> 2, numRemovedBytes -> 6173, p25FileSize -> 3299, numDeletionVectorsRemoved -> 1, conflictDetectionTimeMs -> 14, minFileSize -> 3299, numAddedFiles -> 1, maxFileSize -> 3299, p75FileSize -> 3299, p50FileSize -> 3299, numAddedBytes -> 3299}                                                                                                                                                                                                                                                                                                                                                                                                                  |NULL        |Databricks-Runtime/15.4.x-photon-scala2.12|\n|7      |2025-06-19 05:27:01|3359264194789707|azuser3558_mml.local@techademy.com|DELETE                           |{predicate -> [\"(TripDurationMinutes#6265 > 60.0)\"]}                                                                                                                              |NULL|{3428140736495293}|0611-041524-ifuhl15z|6          |WriteSerializable|false        |{numRemovedFiles -> 0, numRemovedBytes -> 0, numCopiedRows -> 0, numDeletionVectorsAdded -> 0, numDeletionVectorsRemoved -> 0, numAddedChangeFiles -> 0, executionTimeMs -> 278, numDeletionVectorsUpdated -> 0, numDeletedRows -> 0, scanTimeMs -> 276, numAddedFiles -> 0, numAddedBytes -> 0, rewriteTimeMs -> 0}                                                                                                                                                                                                                                                                                                                                                                |NULL        |Databricks-Runtime/15.4.x-photon-scala2.12|\n|6      |2025-06-19 05:26:59|3359264194789707|azuser3558_mml.local@techademy.com|MERGE                            |{predicate -> [\"(LogID#6256 = LogID#780)\"], matchedPredicates -> [{\"actionType\":\"update\"}], statsOnLoad -> false, notMatchedBySourcePredicates -> [], notMatchedPredicates -> []} |NULL|{3428140736495293}|0611-041524-ifuhl15z|5          |WriteSerializable|false        |{numTargetRowsCopied -> 0, numTargetRowsDeleted -> 0, numTargetFilesAdded -> 1, numTargetBytesAdded -> 2881, numTargetBytesRemoved -> 0, numTargetDeletionVectorsAdded -> 1, numTargetRowsMatchedUpdated -> 1, executionTimeMs -> 2046, materializeSourceTimeMs -> 168, numTargetRowsInserted -> 0, numTargetRowsMatchedDeleted -> 0, numTargetDeletionVectorsUpdated -> 0, scanTimeMs -> 776, numTargetRowsUpdated -> 1, numOutputRows -> 1, numTargetDeletionVectorsRemoved -> 0, numTargetRowsNotMatchedBySourceUpdated -> 0, numTargetChangeFilesAdded -> 0, numSourceRows -> 1, numTargetFilesRemoved -> 0, numTargetRowsNotMatchedBySourceDeleted -> 0, rewriteTimeMs -> 1073}|NULL        |Databricks-Runtime/15.4.x-photon-scala2.12|\n|5      |2025-06-19 05:26:56|3359264194789707|azuser3558_mml.local@techademy.com|CREATE OR REPLACE TABLE AS SELECT|{partitionBy -> [], clusterBy -> [], description -> NULL, isManaged -> true, properties -> {\"delta.enableDeletionVectors\":\"true\"}, statsOnLoad -> false}                          |NULL|{3428140736495293}|0611-041524-ifuhl15z|4          |WriteSerializable|false        |{numFiles -> 1, numOutputRows -> 5, numOutputBytes -> 3292}                                                                                                                                                                                                                                                                                                                                                                                                                                                                                                                                                                                                                         |NULL        |Databricks-Runtime/15.4.x-photon-scala2.12|\n+-------+-------------------+----------------+----------------------------------+---------------------------------+----------------------------------------------------------------------------------------------------------------------------------------------------------------------------------+----+------------------+--------------------+-----------+-----------------+-------------+------------------------------------------------------------------------------------------------------------------------------------------------------------------------------------------------------------------------------------------------------------------------------------------------------------------------------------------------------------------------------------------------------------------------------------------------------------------------------------------------------------------------------------------------------------------------------------------------------------------------------------------------------------------------------------+------------+------------------------------------------+\nonly showing top 20 rows\n\n"
     ]
    },
    {
     "output_type": "display_data",
     "data": {
      "text/html": [
       "<style scoped>\n",
       "  .table-result-container {\n",
       "    max-height: 300px;\n",
       "    overflow: auto;\n",
       "  }\n",
       "  table, th, td {\n",
       "    border: 1px solid black;\n",
       "    border-collapse: collapse;\n",
       "  }\n",
       "  th, td {\n",
       "    padding: 5px;\n",
       "  }\n",
       "  th {\n",
       "    text-align: left;\n",
       "  }\n",
       "</style><div class='table-result-container'><table class='table-result'><thead style='background-color: white'><tr><th>LogID</th><th>VehicleID</th><th>EntryPoint</th><th>ExitPoint</th><th>EntryTime</th><th>ExitTime</th><th>VehicleType</th><th>SpeedKMH</th><th>TollPaid</th><th>TripDurationMinutes</th><th>TripType</th><th>TripDate</th></tr></thead><tbody><tr><td>L001</td><td>V001</td><td>GateA</td><td>GateC</td><td>2024-05-01T08:01:00Z</td><td>2024-05-01T08:20:00Z</td><td>Car</td><td>60</td><td>50</td><td>19.0</td><td>Medium</td><td>2024-05-01</td></tr><tr><td>L002</td><td>V002</td><td>GateB</td><td>GateC</td><td>2024-05-01T08:10:00Z</td><td>2024-05-01T08:45:00Z</td><td>Truck</td><td>45</td><td>100</td><td>35.0</td><td>Long</td><td>2024-05-01</td></tr><tr><td>L003</td><td>V003</td><td>GateA</td><td>GateD</td><td>2024-05-01T09:00:00Z</td><td>2024-05-01T09:18:00Z</td><td>Bike</td><td>55</td><td>30</td><td>18.0</td><td>Medium</td><td>2024-05-01</td></tr><tr><td>L004</td><td>V004</td><td>GateC</td><td>GateD</td><td>2024-05-01T09:15:00Z</td><td>2024-05-01T09:35:00Z</td><td>Car</td><td>80</td><td>50</td><td>20.0</td><td>Medium</td><td>2024-05-01</td></tr><tr><td>L005</td><td>V005</td><td>GateB</td><td>GateA</td><td>2024-05-01T10:05:00Z</td><td>2024-05-01T10:40:00Z</td><td>Bus</td><td>40</td><td>70</td><td>35.0</td><td>Long</td><td>2024-05-01</td></tr></tbody></table></div>"
      ]
     },
     "metadata": {
      "application/vnd.databricks.v1+output": {
       "addedWidgets": {},
       "aggData": [],
       "aggError": "",
       "aggOverflow": false,
       "aggSchema": [],
       "aggSeriesLimitReached": false,
       "aggType": "",
       "arguments": {},
       "columnCustomDisplayInfos": {},
       "data": [
        [
         "L001",
         "V001",
         "GateA",
         "GateC",
         "2024-05-01T08:01:00Z",
         "2024-05-01T08:20:00Z",
         "Car",
         60,
         50,
         19.0,
         "Medium",
         "2024-05-01"
        ],
        [
         "L002",
         "V002",
         "GateB",
         "GateC",
         "2024-05-01T08:10:00Z",
         "2024-05-01T08:45:00Z",
         "Truck",
         45,
         100,
         35.0,
         "Long",
         "2024-05-01"
        ],
        [
         "L003",
         "V003",
         "GateA",
         "GateD",
         "2024-05-01T09:00:00Z",
         "2024-05-01T09:18:00Z",
         "Bike",
         55,
         30,
         18.0,
         "Medium",
         "2024-05-01"
        ],
        [
         "L004",
         "V004",
         "GateC",
         "GateD",
         "2024-05-01T09:15:00Z",
         "2024-05-01T09:35:00Z",
         "Car",
         80,
         50,
         20.0,
         "Medium",
         "2024-05-01"
        ],
        [
         "L005",
         "V005",
         "GateB",
         "GateA",
         "2024-05-01T10:05:00Z",
         "2024-05-01T10:40:00Z",
         "Bus",
         40,
         70,
         35.0,
         "Long",
         "2024-05-01"
        ]
       ],
       "datasetInfos": [],
       "dbfsResultPath": null,
       "isJsonSchema": true,
       "metadata": {},
       "overflow": false,
       "plotOptions": {
        "customPlotOptions": {},
        "displayType": "table",
        "pivotAggregation": null,
        "pivotColumns": null,
        "xColumns": null,
        "yColumns": null
       },
       "removedWidgets": [],
       "schema": [
        {
         "metadata": "{}",
         "name": "LogID",
         "type": "\"string\""
        },
        {
         "metadata": "{}",
         "name": "VehicleID",
         "type": "\"string\""
        },
        {
         "metadata": "{}",
         "name": "EntryPoint",
         "type": "\"string\""
        },
        {
         "metadata": "{}",
         "name": "ExitPoint",
         "type": "\"string\""
        },
        {
         "metadata": "{}",
         "name": "EntryTime",
         "type": "\"timestamp\""
        },
        {
         "metadata": "{}",
         "name": "ExitTime",
         "type": "\"timestamp\""
        },
        {
         "metadata": "{}",
         "name": "VehicleType",
         "type": "\"string\""
        },
        {
         "metadata": "{}",
         "name": "SpeedKMH",
         "type": "\"integer\""
        },
        {
         "metadata": "{}",
         "name": "TollPaid",
         "type": "\"integer\""
        },
        {
         "metadata": "{}",
         "name": "TripDurationMinutes",
         "type": "\"double\""
        },
        {
         "metadata": "{}",
         "name": "TripType",
         "type": "\"string\""
        },
        {
         "metadata": "{}",
         "name": "TripDate",
         "type": "\"date\""
        }
       ],
       "type": "table"
      }
     },
     "output_type": "display_data"
    },
    {
     "output_type": "display_data",
     "data": {
      "text/html": [
       "<style scoped>\n",
       "  .table-result-container {\n",
       "    max-height: 300px;\n",
       "    overflow: auto;\n",
       "  }\n",
       "  table, th, td {\n",
       "    border: 1px solid black;\n",
       "    border-collapse: collapse;\n",
       "  }\n",
       "  th, td {\n",
       "    padding: 5px;\n",
       "  }\n",
       "  th {\n",
       "    text-align: left;\n",
       "  }\n",
       "</style><div class='table-result-container'><table class='table-result'><thead style='background-color: white'><tr><th>LogID</th><th>VehicleID</th><th>EntryPoint</th><th>ExitPoint</th><th>EntryTime</th><th>ExitTime</th><th>VehicleType</th><th>SpeedKMH</th><th>TollPaid</th><th>TripDurationMinutes</th><th>TripType</th><th>TripDate</th></tr></thead><tbody><tr><td>L001</td><td>V001</td><td>GateA</td><td>GateC</td><td>2024-05-01T08:01:00Z</td><td>2024-05-01T08:20:00Z</td><td>Car</td><td>60</td><td>50</td><td>19.0</td><td>Medium</td><td>2024-05-01</td></tr><tr><td>L002</td><td>V002</td><td>GateB</td><td>GateC</td><td>2024-05-01T08:10:00Z</td><td>2024-05-01T08:45:00Z</td><td>Truck</td><td>45</td><td>100</td><td>35.0</td><td>Long</td><td>2024-05-01</td></tr><tr><td>L004</td><td>V004</td><td>GateC</td><td>GateD</td><td>2024-05-01T09:15:00Z</td><td>2024-05-01T09:35:00Z</td><td>Car</td><td>80</td><td>50</td><td>20.0</td><td>Medium</td><td>2024-05-01</td></tr><tr><td>L005</td><td>V005</td><td>GateB</td><td>GateA</td><td>2024-05-01T10:05:00Z</td><td>2024-05-01T10:40:00Z</td><td>Bus</td><td>40</td><td>70</td><td>35.0</td><td>Long</td><td>2024-05-01</td></tr><tr><td>L003</td><td>V003</td><td>GateA</td><td>GateD</td><td>2024-05-01T09:00:00Z</td><td>2024-05-01T09:18:00Z</td><td>Bike</td><td>55</td><td>40</td><td>18.0</td><td>Medium</td><td>2024-05-01</td></tr></tbody></table></div>"
      ]
     },
     "metadata": {
      "application/vnd.databricks.v1+output": {
       "addedWidgets": {},
       "aggData": [],
       "aggError": "",
       "aggOverflow": false,
       "aggSchema": [],
       "aggSeriesLimitReached": false,
       "aggType": "",
       "arguments": {},
       "columnCustomDisplayInfos": {},
       "data": [
        [
         "L001",
         "V001",
         "GateA",
         "GateC",
         "2024-05-01T08:01:00Z",
         "2024-05-01T08:20:00Z",
         "Car",
         60,
         50,
         19.0,
         "Medium",
         "2024-05-01"
        ],
        [
         "L002",
         "V002",
         "GateB",
         "GateC",
         "2024-05-01T08:10:00Z",
         "2024-05-01T08:45:00Z",
         "Truck",
         45,
         100,
         35.0,
         "Long",
         "2024-05-01"
        ],
        [
         "L004",
         "V004",
         "GateC",
         "GateD",
         "2024-05-01T09:15:00Z",
         "2024-05-01T09:35:00Z",
         "Car",
         80,
         50,
         20.0,
         "Medium",
         "2024-05-01"
        ],
        [
         "L005",
         "V005",
         "GateB",
         "GateA",
         "2024-05-01T10:05:00Z",
         "2024-05-01T10:40:00Z",
         "Bus",
         40,
         70,
         35.0,
         "Long",
         "2024-05-01"
        ],
        [
         "L003",
         "V003",
         "GateA",
         "GateD",
         "2024-05-01T09:00:00Z",
         "2024-05-01T09:18:00Z",
         "Bike",
         55,
         40,
         18.0,
         "Medium",
         "2024-05-01"
        ]
       ],
       "datasetInfos": [],
       "dbfsResultPath": null,
       "isJsonSchema": true,
       "metadata": {},
       "overflow": false,
       "plotOptions": {
        "customPlotOptions": {},
        "displayType": "table",
        "pivotAggregation": null,
        "pivotColumns": null,
        "xColumns": null,
        "yColumns": null
       },
       "removedWidgets": [],
       "schema": [
        {
         "metadata": "{}",
         "name": "LogID",
         "type": "\"string\""
        },
        {
         "metadata": "{}",
         "name": "VehicleID",
         "type": "\"string\""
        },
        {
         "metadata": "{}",
         "name": "EntryPoint",
         "type": "\"string\""
        },
        {
         "metadata": "{}",
         "name": "ExitPoint",
         "type": "\"string\""
        },
        {
         "metadata": "{}",
         "name": "EntryTime",
         "type": "\"timestamp\""
        },
        {
         "metadata": "{}",
         "name": "ExitTime",
         "type": "\"timestamp\""
        },
        {
         "metadata": "{}",
         "name": "VehicleType",
         "type": "\"string\""
        },
        {
         "metadata": "{}",
         "name": "SpeedKMH",
         "type": "\"integer\""
        },
        {
         "metadata": "{}",
         "name": "TollPaid",
         "type": "\"integer\""
        },
        {
         "metadata": "{}",
         "name": "TripDurationMinutes",
         "type": "\"double\""
        },
        {
         "metadata": "{}",
         "name": "TripType",
         "type": "\"string\""
        },
        {
         "metadata": "{}",
         "name": "TripDate",
         "type": "\"date\""
        }
       ],
       "type": "table"
      }
     },
     "output_type": "display_data"
    }
   ],
   "source": [
    "# 8. Delta Lake Features\n",
    "\n",
    "# Save traffic_logs as Delta Table\n",
    "df.write.format(\"delta\").mode(\"overwrite\").saveAsTable(\"traffic_logs\")\n",
    "\n",
    "# Apply MERGE INTO to update toll rates for all Bikes\n",
    "from delta.tables import DeltaTable\n",
    "\n",
    "# Load the Delta table\n",
    "delta_table = DeltaTable.forName(spark, \"traffic_logs\")\n",
    "\n",
    "#Apply MERGE INTO to update toll rates for all Bikes\n",
    "bike_updates = df.filter(df.VehicleType == \"Bike\")\n",
    "delta_table.alias(\"target\").merge(\n",
    "    source=bike_updates.alias(\"source\"),\n",
    "    condition=\"target.LogID = source.LogID\"\n",
    ").whenMatchedUpdate(set={\n",
    "    \"TollPaid\": \"40\" }).execute()\n",
    "    \n",
    "# Delete trips longer than 60 minutes\n",
    "delta_table.delete(\"TripDurationMinutes > 60\")\n",
    "\n",
    "# Use DESCRIBE HISTORY and VERSION AS OF\n",
    "spark.sql(\"DESCRIBE HISTORY traffic_logs\").show(truncate=False)\n",
    "\n",
    "# Read previous version\n",
    "spark.read.format(\"delta\").option(\"versionAsOf\", 0).table(\"traffic_logs\").display()\n",
    "\n",
    "spark.read.format('delta').table('traffic_logs').display()\n",
    "\n"
   ]
  },
  {
   "cell_type": "code",
   "execution_count": 0,
   "metadata": {
    "application/vnd.databricks.v1+cell": {
     "cellMetadata": {
      "byteLimit": 2048000,
      "rowLimit": 10000
     },
     "inputWidgets": {},
     "nuid": "2a5b1f8d-496e-48a1-92f6-3d788ec4a331",
     "showTitle": false,
     "tableResultSettingsMap": {},
     "title": ""
    }
   },
   "outputs": [
    {
     "output_type": "stream",
     "name": "stdout",
     "output_type": "stream",
     "text": [
      "+-----+---------+-------------------+--------+\n|LogID|VehicleID|TripDurationMinutes|TripType|\n+-----+---------+-------------------+--------+\n| L001|     V001|               19.0|  Medium|\n| L002|     V002|               35.0|    Long|\n| L003|     V003|               18.0|  Medium|\n| L004|     V004|               20.0|  Medium|\n| L005|     V005|               35.0|    Long|\n+-----+---------+-------------------+--------+\n\n+---------+--------+---------+\n|VehicleID|TripDate|TripCount|\n+---------+--------+---------+\n+---------+--------+---------+\n\n"
     ]
    }
   ],
   "source": [
    "# Advanced Conditions\n",
    "# when/otherwise : Tag trip type as:\n",
    "# \"Short\" <15min\n",
    "# \"Medium\" 15-30min\n",
    "# \"Long\" >30min\n",
    "from pyspark.sql.functions import when\n",
    "\n",
    "df = df.withColumn(\"TripType\", when(col(\"TripDurationMinutes\") < 15, \"Short\")\n",
    "                   .when((col(\"TripDurationMinutes\") >= 15) & (col(\"TripDurationMinutes\") <= 30), \"Medium\")\n",
    "                   .otherwise(\"Long\"))\n",
    "\n",
    "df.select(\"LogID\", \"VehicleID\", \"TripDurationMinutes\", \"TripType\").show()\n",
    "\n",
    "# Flag vehicles with more than 3 trips in a day\n",
    "from pyspark.sql.functions import to_date, count, col\n",
    "\n",
    "df = df.withColumn(\"TripDate\", to_date(\"EntryTime\"))\n",
    "trip_counts = df.groupBy(\"VehicleID\", \"TripDate\").agg(count(\"*\").alias(\"TripCount\"))\n",
    "trip_counts.filter(col(\"TripCount\") > 3).show()\n",
    "\n"
   ]
  },
  {
   "cell_type": "code",
   "execution_count": 0,
   "metadata": {
    "application/vnd.databricks.v1+cell": {
     "cellMetadata": {
      "byteLimit": 2048000,
      "rowLimit": 10000
     },
     "inputWidgets": {},
     "nuid": "20cc707f-fd80-4cee-bea3-24aa017918f9",
     "showTitle": false,
     "tableResultSettingsMap": {},
     "title": ""
    }
   },
   "outputs": [
    {
     "output_type": "stream",
     "name": "stdout",
     "output_type": "stream",
     "text": [
      "+-----------+---------+---------+\n|VehicleType|ExitPoint|TotalToll|\n+-----------+---------+---------+\n|       Bike|    GateD|       30|\n|        Bus|    GateA|       70|\n|        Car|    GateC|       50|\n|        Car|    GateD|       50|\n|      Truck|    GateC|      100|\n+-----------+---------+---------+\n\n"
     ]
    }
   ],
   "source": [
    "# Export & Reporting\n",
    "# Write final enriched DataFrame to:\n",
    "\n",
    "# Parquet partitioned by VehicleType\n",
    "df.write.partitionBy(\"VehicleType\").mode(\"overwrite\").parquet(\"/mnt/data/traffic_logs_parquet/\")\n",
    "\n",
    "# CSV for dashboards\n",
    "df.write.option(\"header\", True).mode(\"overwrite\").csv(\"/mnt/data/traffic_logs_dashboard_csv/\")\n",
    "\n",
    "# Create summary SQL View: total toll by VehicleType + ExitPoint\n",
    "df.createOrReplaceTempView(\"traffic_logs_view\")\n",
    "\n",
    "spark.sql(\"\"\"\n",
    "    SELECT VehicleType, ExitPoint, SUM(TollPaid) AS TotalToll\n",
    "    FROM traffic_logs_view\n",
    "    GROUP BY VehicleType, ExitPoint\n",
    "    ORDER BY VehicleType, ExitPoint\n",
    "\"\"\").show()\n"
   ]
  }
 ],
 "metadata": {
  "application/vnd.databricks.v1+notebook": {
   "computePreferences": null,
   "dashboards": [],
   "environmentMetadata": {
    "base_environment": "",
    "environment_version": "2"
   },
   "inputWidgetPreferences": null,
   "language": "python",
   "notebookMetadata": {
    "pythonIndentUnit": 4
   },
   "notebookName": "Set_1",
   "widgets": {}
  },
  "language_info": {
   "name": "python"
  }
 },
 "nbformat": 4,
 "nbformat_minor": 0
}